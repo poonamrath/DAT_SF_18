{
 "cells": [
  {
   "cell_type": "markdown",
   "metadata": {},
   "source": [
    "# Data Source:\n",
    "Kaggle (ongoing competition): https://www.kaggle.com/c/prudential-life-insurance-assessment\n",
    "\n",
    "# Project goal:\n",
    "Analyze features collected from individuals applying for life insurance at Prudential to predict response of the company.\n",
    "\n",
    "**Motivation for the problem:**\n",
    "Once Prudential collects features from its applicants, it takes a long time to come up with a decision. If we can come up with a model that accurately predicts the decisions they come up with, the company can use this model and swiftly determine its decision.\n",
    "\n",
    "# Notes on dataset:\n",
    "59381 rows, 127 columns: 126 features (some of which are dummy variables) and 1 outcome column. The outcome column is called **Response**. There are 8 nominal values (1,2,3,4,5,6,7,8) in the Response column.\n",
    "\n",
    "# Immediate goal: working with a smaller subset of Prudential data \n",
    "\n",
    "The point is to be able to go through with a workflow on my laptop. Using the entire datasets chokes Jupyter.\n",
    "- Plan to use Amazon's EC2 cloud server but for now will work with a subset sampled from the data.\n",
    "- Data set (59381 rows) is randomly subsetted to a smaller df with 500 rows."
   ]
  },
  {
   "cell_type": "code",
   "execution_count": 1,
   "metadata": {
    "collapsed": true
   },
   "outputs": [],
   "source": [
    "# Imports and magic here\n",
    "import pandas as pd\n",
    "import numpy as np\n",
    "from sklearn.decomposition import PCA\n",
    "from sklearn.manifold import MDS\n",
    "from sklearn.manifold import Isomap\n",
    "from sklearn.cluster import KMeans\n",
    "from sklearn import cross_validation\n",
    "from sklearn.cross_validation import cross_val_score\n",
    "from sklearn.cross_validation import train_test_split\n",
    "from sklearn.cross_validation import KFold\n",
    "from sklearn.learning_curve import learning_curve\n",
    "from sklearn.ensemble import RandomForestClassifier, GradientBoostingClassifier\n",
    "from sklearn.neighbors import KNeighborsClassifier\n",
    "from sklearn import metrics\n",
    "from sklearn.naive_bayes import MultinomialNB,GaussianNB\n",
    "from sklearn.cross_validation import train_test_split, StratifiedKFold, ShuffleSplit \n",
    "from sklearn.linear_model import LogisticRegression\n",
    "import matplotlib.pyplot as plt\n",
    "import seaborn as sns\n",
    "\n",
    "%matplotlib inline"
   ]
  },
  {
   "cell_type": "code",
   "execution_count": null,
   "metadata": {
    "collapsed": true
   },
   "outputs": [],
   "source": [
    "# Globals here"
   ]
  },
  {
   "cell_type": "code",
   "execution_count": 2,
   "metadata": {
    "collapsed": true
   },
   "outputs": [],
   "source": [
    "# Read input dataset\n",
    "input_csv = './train.csv'\n",
    "df_raw = pd.read_csv(input_csv, index_col = 0)"
   ]
  },
  {
   "cell_type": "markdown",
   "metadata": {},
   "source": [
    "** Randomly extract 500 rows from df_raw into df_sampled **"
   ]
  },
  {
   "cell_type": "code",
   "execution_count": 3,
   "metadata": {
    "collapsed": false
   },
   "outputs": [],
   "source": [
    "# Sample df_raw to create a smaller, easier to work with df\n",
    "rows = np.random.choice(df_raw.index.values,500)\n",
    "df_sampled = df_raw.ix[rows]"
   ]
  },
  {
   "cell_type": "code",
   "execution_count": 4,
   "metadata": {
    "collapsed": false
   },
   "outputs": [
    {
     "data": {
      "text/plain": [
       "(500, 127)"
      ]
     },
     "execution_count": 4,
     "metadata": {},
     "output_type": "execute_result"
    }
   ],
   "source": [
    "df_sampled.shape"
   ]
  },
  {
   "cell_type": "code",
   "execution_count": 5,
   "metadata": {
    "collapsed": true
   },
   "outputs": [],
   "source": [
    "# Identify predictor variables and response varibales, and create corresponding DFs\n",
    "\n",
    "def split_response_from_features(df):\n",
    "    response = 'Response'\n",
    "    all_predictors = [col for col in df.columns if col not in response]\n",
    "    df_predictors = df[all_predictors]\n",
    "    df_response = df[response]\n",
    "    df_response_with_dummies = pd.get_dummies(df_response,prefix='Response')\n",
    "    return df_predictors, df_response, df_response_with_dummies"
   ]
  },
  {
   "cell_type": "code",
   "execution_count": 6,
   "metadata": {
    "collapsed": false
   },
   "outputs": [],
   "source": [
    "df_predictors, df_response_with_dummies, df_response = split_response_from_features(df_sampled)"
   ]
  },
  {
   "cell_type": "code",
   "execution_count": 7,
   "metadata": {
    "collapsed": false
   },
   "outputs": [
    {
     "data": {
      "text/html": [
       "<div>\n",
       "<table border=\"1\" class=\"dataframe\">\n",
       "  <thead>\n",
       "    <tr style=\"text-align: right;\">\n",
       "      <th></th>\n",
       "      <th>Product_Info_1</th>\n",
       "      <th>Product_Info_2</th>\n",
       "      <th>Product_Info_3</th>\n",
       "      <th>Product_Info_4</th>\n",
       "      <th>Product_Info_5</th>\n",
       "      <th>Product_Info_6</th>\n",
       "      <th>Product_Info_7</th>\n",
       "      <th>Ins_Age</th>\n",
       "      <th>Ht</th>\n",
       "      <th>Wt</th>\n",
       "      <th>...</th>\n",
       "      <th>Medical_Keyword_40</th>\n",
       "      <th>Medical_Keyword_41</th>\n",
       "      <th>Medical_Keyword_42</th>\n",
       "      <th>Medical_Keyword_43</th>\n",
       "      <th>Medical_Keyword_44</th>\n",
       "      <th>Medical_Keyword_45</th>\n",
       "      <th>Medical_Keyword_46</th>\n",
       "      <th>Medical_Keyword_47</th>\n",
       "      <th>Medical_Keyword_48</th>\n",
       "      <th>Response</th>\n",
       "    </tr>\n",
       "    <tr>\n",
       "      <th>Id</th>\n",
       "      <th></th>\n",
       "      <th></th>\n",
       "      <th></th>\n",
       "      <th></th>\n",
       "      <th></th>\n",
       "      <th></th>\n",
       "      <th></th>\n",
       "      <th></th>\n",
       "      <th></th>\n",
       "      <th></th>\n",
       "      <th></th>\n",
       "      <th></th>\n",
       "      <th></th>\n",
       "      <th></th>\n",
       "      <th></th>\n",
       "      <th></th>\n",
       "      <th></th>\n",
       "      <th></th>\n",
       "      <th></th>\n",
       "      <th></th>\n",
       "      <th></th>\n",
       "    </tr>\n",
       "  </thead>\n",
       "  <tbody>\n",
       "    <tr>\n",
       "      <th>23579</th>\n",
       "      <td>1</td>\n",
       "      <td>D3</td>\n",
       "      <td>26</td>\n",
       "      <td>1.000000</td>\n",
       "      <td>2</td>\n",
       "      <td>3</td>\n",
       "      <td>1</td>\n",
       "      <td>0.373134</td>\n",
       "      <td>0.727273</td>\n",
       "      <td>0.271967</td>\n",
       "      <td>...</td>\n",
       "      <td>0</td>\n",
       "      <td>0</td>\n",
       "      <td>0</td>\n",
       "      <td>0</td>\n",
       "      <td>0</td>\n",
       "      <td>0</td>\n",
       "      <td>0</td>\n",
       "      <td>0</td>\n",
       "      <td>0</td>\n",
       "      <td>2</td>\n",
       "    </tr>\n",
       "    <tr>\n",
       "      <th>2855</th>\n",
       "      <td>1</td>\n",
       "      <td>C2</td>\n",
       "      <td>26</td>\n",
       "      <td>0.230769</td>\n",
       "      <td>2</td>\n",
       "      <td>3</td>\n",
       "      <td>1</td>\n",
       "      <td>0.149254</td>\n",
       "      <td>0.618182</td>\n",
       "      <td>0.225941</td>\n",
       "      <td>...</td>\n",
       "      <td>0</td>\n",
       "      <td>0</td>\n",
       "      <td>0</td>\n",
       "      <td>0</td>\n",
       "      <td>0</td>\n",
       "      <td>0</td>\n",
       "      <td>0</td>\n",
       "      <td>1</td>\n",
       "      <td>0</td>\n",
       "      <td>7</td>\n",
       "    </tr>\n",
       "    <tr>\n",
       "      <th>31814</th>\n",
       "      <td>1</td>\n",
       "      <td>D1</td>\n",
       "      <td>26</td>\n",
       "      <td>0.076923</td>\n",
       "      <td>2</td>\n",
       "      <td>3</td>\n",
       "      <td>1</td>\n",
       "      <td>0.746269</td>\n",
       "      <td>0.781818</td>\n",
       "      <td>0.351464</td>\n",
       "      <td>...</td>\n",
       "      <td>1</td>\n",
       "      <td>0</td>\n",
       "      <td>0</td>\n",
       "      <td>0</td>\n",
       "      <td>0</td>\n",
       "      <td>0</td>\n",
       "      <td>1</td>\n",
       "      <td>0</td>\n",
       "      <td>0</td>\n",
       "      <td>6</td>\n",
       "    </tr>\n",
       "    <tr>\n",
       "      <th>70042</th>\n",
       "      <td>1</td>\n",
       "      <td>A8</td>\n",
       "      <td>26</td>\n",
       "      <td>0.028086</td>\n",
       "      <td>2</td>\n",
       "      <td>3</td>\n",
       "      <td>1</td>\n",
       "      <td>0.417910</td>\n",
       "      <td>0.690909</td>\n",
       "      <td>0.351464</td>\n",
       "      <td>...</td>\n",
       "      <td>0</td>\n",
       "      <td>0</td>\n",
       "      <td>0</td>\n",
       "      <td>0</td>\n",
       "      <td>0</td>\n",
       "      <td>0</td>\n",
       "      <td>0</td>\n",
       "      <td>0</td>\n",
       "      <td>0</td>\n",
       "      <td>5</td>\n",
       "    </tr>\n",
       "    <tr>\n",
       "      <th>68999</th>\n",
       "      <td>1</td>\n",
       "      <td>A2</td>\n",
       "      <td>26</td>\n",
       "      <td>0.076923</td>\n",
       "      <td>2</td>\n",
       "      <td>3</td>\n",
       "      <td>1</td>\n",
       "      <td>0.283582</td>\n",
       "      <td>0.636364</td>\n",
       "      <td>0.110879</td>\n",
       "      <td>...</td>\n",
       "      <td>0</td>\n",
       "      <td>0</td>\n",
       "      <td>0</td>\n",
       "      <td>0</td>\n",
       "      <td>0</td>\n",
       "      <td>0</td>\n",
       "      <td>0</td>\n",
       "      <td>0</td>\n",
       "      <td>0</td>\n",
       "      <td>8</td>\n",
       "    </tr>\n",
       "  </tbody>\n",
       "</table>\n",
       "<p>5 rows × 127 columns</p>\n",
       "</div>"
      ],
      "text/plain": [
       "       Product_Info_1 Product_Info_2  Product_Info_3  Product_Info_4  \\\n",
       "Id                                                                     \n",
       "23579               1             D3              26        1.000000   \n",
       "2855                1             C2              26        0.230769   \n",
       "31814               1             D1              26        0.076923   \n",
       "70042               1             A8              26        0.028086   \n",
       "68999               1             A2              26        0.076923   \n",
       "\n",
       "       Product_Info_5  Product_Info_6  Product_Info_7   Ins_Age        Ht  \\\n",
       "Id                                                                          \n",
       "23579               2               3               1  0.373134  0.727273   \n",
       "2855                2               3               1  0.149254  0.618182   \n",
       "31814               2               3               1  0.746269  0.781818   \n",
       "70042               2               3               1  0.417910  0.690909   \n",
       "68999               2               3               1  0.283582  0.636364   \n",
       "\n",
       "             Wt    ...     Medical_Keyword_40  Medical_Keyword_41  \\\n",
       "Id                 ...                                              \n",
       "23579  0.271967    ...                      0                   0   \n",
       "2855   0.225941    ...                      0                   0   \n",
       "31814  0.351464    ...                      1                   0   \n",
       "70042  0.351464    ...                      0                   0   \n",
       "68999  0.110879    ...                      0                   0   \n",
       "\n",
       "       Medical_Keyword_42  Medical_Keyword_43  Medical_Keyword_44  \\\n",
       "Id                                                                  \n",
       "23579                   0                   0                   0   \n",
       "2855                    0                   0                   0   \n",
       "31814                   0                   0                   0   \n",
       "70042                   0                   0                   0   \n",
       "68999                   0                   0                   0   \n",
       "\n",
       "       Medical_Keyword_45  Medical_Keyword_46  Medical_Keyword_47  \\\n",
       "Id                                                                  \n",
       "23579                   0                   0                   0   \n",
       "2855                    0                   0                   1   \n",
       "31814                   0                   1                   0   \n",
       "70042                   0                   0                   0   \n",
       "68999                   0                   0                   0   \n",
       "\n",
       "       Medical_Keyword_48  Response  \n",
       "Id                                   \n",
       "23579                   0         2  \n",
       "2855                    0         7  \n",
       "31814                   0         6  \n",
       "70042                   0         5  \n",
       "68999                   0         8  \n",
       "\n",
       "[5 rows x 127 columns]"
      ]
     },
     "execution_count": 7,
     "metadata": {},
     "output_type": "execute_result"
    }
   ],
   "source": [
    "df_sampled.head()"
   ]
  },
  {
   "cell_type": "code",
   "execution_count": 8,
   "metadata": {
    "collapsed": false
   },
   "outputs": [
    {
     "data": {
      "text/html": [
       "<div>\n",
       "<table border=\"1\" class=\"dataframe\">\n",
       "  <thead>\n",
       "    <tr style=\"text-align: right;\">\n",
       "      <th></th>\n",
       "      <th>Response_1</th>\n",
       "      <th>Response_2</th>\n",
       "      <th>Response_3</th>\n",
       "      <th>Response_4</th>\n",
       "      <th>Response_5</th>\n",
       "      <th>Response_6</th>\n",
       "      <th>Response_7</th>\n",
       "      <th>Response_8</th>\n",
       "    </tr>\n",
       "    <tr>\n",
       "      <th>Id</th>\n",
       "      <th></th>\n",
       "      <th></th>\n",
       "      <th></th>\n",
       "      <th></th>\n",
       "      <th></th>\n",
       "      <th></th>\n",
       "      <th></th>\n",
       "      <th></th>\n",
       "    </tr>\n",
       "  </thead>\n",
       "  <tbody>\n",
       "    <tr>\n",
       "      <th>23579</th>\n",
       "      <td>0</td>\n",
       "      <td>1</td>\n",
       "      <td>0</td>\n",
       "      <td>0</td>\n",
       "      <td>0</td>\n",
       "      <td>0</td>\n",
       "      <td>0</td>\n",
       "      <td>0</td>\n",
       "    </tr>\n",
       "    <tr>\n",
       "      <th>2855</th>\n",
       "      <td>0</td>\n",
       "      <td>0</td>\n",
       "      <td>0</td>\n",
       "      <td>0</td>\n",
       "      <td>0</td>\n",
       "      <td>0</td>\n",
       "      <td>1</td>\n",
       "      <td>0</td>\n",
       "    </tr>\n",
       "    <tr>\n",
       "      <th>31814</th>\n",
       "      <td>0</td>\n",
       "      <td>0</td>\n",
       "      <td>0</td>\n",
       "      <td>0</td>\n",
       "      <td>0</td>\n",
       "      <td>1</td>\n",
       "      <td>0</td>\n",
       "      <td>0</td>\n",
       "    </tr>\n",
       "    <tr>\n",
       "      <th>70042</th>\n",
       "      <td>0</td>\n",
       "      <td>0</td>\n",
       "      <td>0</td>\n",
       "      <td>0</td>\n",
       "      <td>1</td>\n",
       "      <td>0</td>\n",
       "      <td>0</td>\n",
       "      <td>0</td>\n",
       "    </tr>\n",
       "    <tr>\n",
       "      <th>68999</th>\n",
       "      <td>0</td>\n",
       "      <td>0</td>\n",
       "      <td>0</td>\n",
       "      <td>0</td>\n",
       "      <td>0</td>\n",
       "      <td>0</td>\n",
       "      <td>0</td>\n",
       "      <td>1</td>\n",
       "    </tr>\n",
       "  </tbody>\n",
       "</table>\n",
       "</div>"
      ],
      "text/plain": [
       "       Response_1  Response_2  Response_3  Response_4  Response_5  Response_6  \\\n",
       "Id                                                                              \n",
       "23579           0           1           0           0           0           0   \n",
       "2855            0           0           0           0           0           0   \n",
       "31814           0           0           0           0           0           1   \n",
       "70042           0           0           0           0           1           0   \n",
       "68999           0           0           0           0           0           0   \n",
       "\n",
       "       Response_7  Response_8  \n",
       "Id                             \n",
       "23579           0           0  \n",
       "2855            1           0  \n",
       "31814           0           0  \n",
       "70042           0           0  \n",
       "68999           0           1  "
      ]
     },
     "execution_count": 8,
     "metadata": {},
     "output_type": "execute_result"
    }
   ],
   "source": [
    "df_response.head()"
   ]
  },
  {
   "cell_type": "markdown",
   "metadata": {},
   "source": [
    "**Preliminary exploratory plots:**\n",
    "1. Wt versus BMI (Intuitively one would guess there is a positive correlation).\n",
    "2. Plot the distribution of Response variable to see if there are evenly represented in df_sample. If not we might need to upsample, downsample or generate rows for the underrepresented response using SMOTE."
   ]
  },
  {
   "cell_type": "code",
   "execution_count": 9,
   "metadata": {
    "collapsed": false
   },
   "outputs": [
    {
     "name": "stderr",
     "output_type": "stream",
     "text": [
      "/Users/PoonamRath/anaconda/lib/python2.7/site-packages/matplotlib/collections.py:590: FutureWarning: elementwise comparison failed; returning scalar instead, but in the future will perform elementwise comparison\n",
      "  if self._edgecolors == str('face'):\n"
     ]
    },
    {
     "data": {
      "image/png": "[encoded data removed]",
      "text/plain": [
       "<matplotlib.figure.Figure at 0x1097cb650>"
      ]
     },
     "metadata": {},
     "output_type": "display_data"
    }
   ],
   "source": [
    "# Plot scatterplot of Wt vs BMI\n",
    "with plt.style.context('fivethirtyeight'):\n",
    "    plt.scatter(df_sampled.BMI,df_sampled.Wt,s=40)\n",
    "    # add axis label\n",
    "    plt.xlabel('BMI')\n",
    "    plt.ylabel('Wt')\n",
    "plt.show()    "
   ]
  },
  {
   "cell_type": "code",
   "execution_count": 10,
   "metadata": {
    "collapsed": false
   },
   "outputs": [
    {
     "data": {
      "text/plain": [
       "<matplotlib.axes._subplots.AxesSubplot at 0x10a34ed90>"
      ]
     },
     "execution_count": 10,
     "metadata": {},
     "output_type": "execute_result"
    },
    {
     "data": {
      "image/png": "[encoded data removed]",
      "text/plain": [
       "<matplotlib.figure.Figure at 0x110d86890>"
      ]
     },
     "metadata": {},
     "output_type": "display_data"
    }
   ],
   "source": [
    "# Plot the distribution of Response\n",
    "sns.distplot(df_sampled.Response)"
   ]
  },
  {
   "cell_type": "code",
   "execution_count": 11,
   "metadata": {
    "collapsed": false
   },
   "outputs": [
    {
     "data": {
      "text/plain": [
       "<matplotlib.axes._subplots.AxesSubplot at 0x110d10d90>"
      ]
     },
     "execution_count": 11,
     "metadata": {},
     "output_type": "execute_result"
    },
    {
     "data": {
      "image/png": "[encoded data removed]",
      "text/plain": [
       "<matplotlib.figure.Figure at 0x104681050>"
      ]
     },
     "metadata": {},
     "output_type": "display_data"
    }
   ],
   "source": [
    "sns.countplot(x='Response',data=df_sampled,palette='husl',order=range(1,9))"
   ]
  },
  {
   "cell_type": "code",
   "execution_count": 14,
   "metadata": {
    "collapsed": false
   },
   "outputs": [
    {
     "name": "stdout",
     "output_type": "stream",
     "text": [
      "Total number of Response#2 : 58\n",
      "Total number of Response#7 : 57\n",
      "Total number of Response#6 : 114\n",
      "Total number of Response#5 : 53\n",
      "Total number of Response#8 : 141\n",
      "Total number of Response#1 : 48\n",
      "Total number of Response#3 : 14\n",
      "Total number of Response#4 : 15\n",
      "{1: 48, 2: 58, 3: 14, 4: 15, 5: 53, 6: 114, 7: 57, 8: 141}\n"
     ]
    }
   ],
   "source": [
    "response_count = {}\n",
    "for ii in df_sampled.Response.unique():\n",
    "    response_count[ii] = len(df_sampled[df_sampled.Response==ii])\n",
    "    total_num = len(df_sampled[df_sampled.Response==ii])\n",
    "    print \"Total number of Response#{} : {}\".format(ii,total_num)\n",
    "print response_count       "
   ]
  },
  {
   "cell_type": "markdown",
   "metadata": {},
   "source": [
    "# Notes on the Response column\n",
    "1. Response 6,8 is roughly 4-5 times higher than the rest of the responses : consider undersampling.\n",
    "2. Response 3 and 4 are way less than the others: consider oversampling."
   ]
  },
  {
   "cell_type": "code",
   "execution_count": 15,
   "metadata": {
    "collapsed": false,
    "scrolled": false
   },
   "outputs": [],
   "source": [
    "# Describe each feature: Number of uniques, number of nulls, type_of_feature, distribution\n",
    "\n",
    "def get_dummy_features(df, verbose=False, dummy_threshold = 200):\n",
    "    features_for_dummification = []\n",
    "    num_rows = len(df)\n",
    "\n",
    "    for each_feature in df.columns:\n",
    "        num_uniques = len(df[each_feature].unique())\n",
    "        num_nulls = df[each_feature].isnull().sum()\n",
    "        example = df[each_feature].iloc[0]\n",
    "        \n",
    "        # Keep track of dummy features\n",
    "        if isinstance(example, str) or (num_uniques*dummy_threshold<num_rows and isinstance(example, (int, long))): \n",
    "            features_for_dummification.append(each_feature)\n",
    "\n",
    "        if verbose==True:\n",
    "            print '{}: Uniques: {}/{}. Nulls: {}. Type: {}'.format(each_feature, num_uniques, \n",
    "                                                               num_rows, num_nulls, type_of_feature)\n",
    "            \n",
    "            \n",
    "    return features_for_dummification"
   ]
  },
  {
   "cell_type": "code",
   "execution_count": 16,
   "metadata": {
    "collapsed": false
   },
   "outputs": [
    {
     "name": "stdout",
     "output_type": "stream",
     "text": [
      "108\n",
      "92\n"
     ]
    }
   ],
   "source": [
    "# check if number of dummiable columns in the original df and the sampled df are the same\n",
    "print len(get_dummy_features(df_raw,verbose=False,dummy_threshold=200))\n",
    "print len(get_dummy_features(df_sampled,verbose=False,dummy_threshold=200))"
   ]
  },
  {
   "cell_type": "code",
   "execution_count": null,
   "metadata": {
    "collapsed": false,
    "scrolled": true
   },
   "outputs": [],
   "source": [
    "#get_dummy_features(df_predictors)"
   ]
  },
  {
   "cell_type": "markdown",
   "metadata": {},
   "source": [
    "**The answer is no: 108 for original df_raw and 94 for df_sampled. But that's ok. Just go ahead with the workflow anyway.**"
   ]
  },
  {
   "cell_type": "code",
   "execution_count": 17,
   "metadata": {
    "collapsed": false
   },
   "outputs": [],
   "source": [
    "# Turn chosen features into dummy variables\n",
    "def create_dummy_features(df, features_for_dummification, verbose=True):\n",
    "    df_expanded = df\n",
    "\n",
    "    for each_feature in features_for_dummification:\n",
    "        if verbose==True:\n",
    "            print \"Expanding variable: {}\".format(each_feature)\n",
    "        df_temp = pd.get_dummies(df[each_feature], prefix=each_feature)\n",
    "        df_expanded = pd.concat([df_expanded, df_temp], axis = 1, join = 'inner')\n",
    "        df_expanded.drop(each_feature,inplace=True, axis=1)\n",
    "        \n",
    "    return df_expanded"
   ]
  },
  {
   "cell_type": "code",
   "execution_count": 18,
   "metadata": {
    "collapsed": false
   },
   "outputs": [
    {
     "data": {
      "text/plain": [
       "(20265, 126)"
      ]
     },
     "execution_count": 18,
     "metadata": {},
     "output_type": "execute_result"
    }
   ],
   "source": [
    "# # Since training data and test data have different distributions for \"dummyizable\" features, it makes sense to\n",
    "# # build out dummy features using a combined distribution\n",
    "df_oos_sneak_peek = pd.read_csv('./test.csv', index_col = 0)\n",
    "df_predictors_enhanced = pd.concat([df_predictors, df_oos_sneak_peek], axis = 0, join = 'outer')\n",
    "df_predictors_enhanced.shape"
   ]
  },
  {
   "cell_type": "code",
   "execution_count": 19,
   "metadata": {
    "collapsed": false
   },
   "outputs": [
    {
     "name": "stdout",
     "output_type": "stream",
     "text": [
      "['Employment_Info_3', 'Employment_Info_5', 'Insurance_History_1', 'Insurance_History_2', 'Insurance_History_3', 'InsuredInfo_2', 'InsuredInfo_4', 'InsuredInfo_5', 'InsuredInfo_6', 'InsuredInfo_7', 'Medical_History_12', 'Medical_History_13', 'Medical_History_16', 'Medical_History_17', 'Medical_History_18', 'Medical_History_19', 'Medical_History_20', 'Medical_History_21', 'Medical_History_22', 'Medical_History_23', 'Medical_History_26', 'Medical_History_27', 'Medical_History_28', 'Medical_History_29', 'Medical_History_3', 'Medical_History_30', 'Medical_History_31', 'Medical_History_33', 'Medical_History_34', 'Medical_History_35', 'Medical_History_37', 'Medical_History_38', 'Medical_History_39', 'Medical_History_4', 'Medical_History_40', 'Medical_History_41', 'Medical_History_5', 'Medical_History_6', 'Medical_History_9', 'Product_Info_1', 'Product_Info_2', 'Product_Info_5', 'Product_Info_6', 'Product_Info_7']\n"
     ]
    }
   ],
   "source": [
    "# Since Medical_Keyword is already dummied, make sure you exclude it in the dummying process!\n",
    "features_for_dummification = get_dummy_features(df_predictors)\n",
    "features_already_dummy = ['Medical_Keyword_{}'.format(num) for num in range(1,49)]\n",
    "features_for_dummification = sorted(list(set(features_for_dummification) - set(features_already_dummy)))\n",
    "print features_for_dummification"
   ]
  },
  {
   "cell_type": "code",
   "execution_count": 20,
   "metadata": {
    "collapsed": false,
    "scrolled": true
   },
   "outputs": [
    {
     "name": "stdout",
     "output_type": "stream",
     "text": [
      "Expanding variable: Employment_Info_3\n",
      "Expanding variable: Employment_Info_5\n",
      "Expanding variable: Insurance_History_1\n",
      "Expanding variable: Insurance_History_2\n",
      "Expanding variable: Insurance_History_3\n",
      "Expanding variable: InsuredInfo_2\n",
      "Expanding variable: InsuredInfo_4\n",
      "Expanding variable: InsuredInfo_5\n",
      "Expanding variable: InsuredInfo_6\n",
      "Expanding variable: InsuredInfo_7\n",
      "Expanding variable: Medical_History_12\n",
      "Expanding variable: Medical_History_13\n",
      "Expanding variable: Medical_History_16\n",
      "Expanding variable: Medical_History_17\n",
      "Expanding variable: Medical_History_18\n",
      "Expanding variable: Medical_History_19\n",
      "Expanding variable: Medical_History_20\n",
      "Expanding variable: Medical_History_21\n",
      "Expanding variable: Medical_History_22\n",
      "Expanding variable: Medical_History_23\n",
      "Expanding variable: Medical_History_26\n",
      "Expanding variable: Medical_History_27\n",
      "Expanding variable: Medical_History_28\n",
      "Expanding variable: Medical_History_29\n",
      "Expanding variable: Medical_History_3\n",
      "Expanding variable: Medical_History_30\n",
      "Expanding variable: Medical_History_31\n",
      "Expanding variable: Medical_History_33\n",
      "Expanding variable: Medical_History_34\n",
      "Expanding variable: Medical_History_35\n",
      "Expanding variable: Medical_History_37\n",
      "Expanding variable: Medical_History_38\n",
      "Expanding variable: Medical_History_39\n",
      "Expanding variable: Medical_History_4\n",
      "Expanding variable: Medical_History_40\n",
      "Expanding variable: Medical_History_41\n",
      "Expanding variable: Medical_History_5\n",
      "Expanding variable: Medical_History_6\n",
      "Expanding variable: Medical_History_9\n",
      "Expanding variable: Product_Info_1\n",
      "Expanding variable: Product_Info_2\n",
      "Expanding variable: Product_Info_5\n",
      "Expanding variable: Product_Info_6\n",
      "Expanding variable: Product_Info_7\n"
     ]
    },
    {
     "data": {
      "text/plain": [
       "(500, 203)"
      ]
     },
     "execution_count": 20,
     "metadata": {},
     "output_type": "execute_result"
    }
   ],
   "source": [
    "# Run the functions from above (df_expanded has dummy variables)\n",
    "df_sample_expanded_enhanced = create_dummy_features(df_predictors_enhanced,features_for_dummification)\n",
    "df_expanded = df_sample_expanded_enhanced.drop(df_oos_sneak_peek.index)\n",
    "df_expanded.shape"
   ]
  },
  {
   "cell_type": "markdown",
   "metadata": {},
   "source": [
    "** Question about performing correlations: should we test this before making dummies?**"
   ]
  },
  {
   "cell_type": "code",
   "execution_count": null,
   "metadata": {
    "collapsed": false
   },
   "outputs": [],
   "source": [
    "# # Compute pairwise correlations of all predictors\n",
    "# df_predictors = df_expanded\n",
    "# df_predictor_correlations = df_predictors.corr()\n"
   ]
  },
  {
   "cell_type": "code",
   "execution_count": null,
   "metadata": {
    "collapsed": false
   },
   "outputs": [],
   "source": [
    "# # Describe pairwise correlations\n",
    "# _corr_threshold = 0.5\n",
    "\n",
    "# for pred in all_predictors:\n",
    "#     df_temp = df_predictor_correlations[pred]\n",
    "#     max_corr = df_temp[[idx for idx in df_temp.index if pred not in idx]].max()\n",
    "#     min_corr = df_temp.min()\n",
    "#     if np.isnan(max_corr)==False:\n",
    "#         if abs(min_corr)>max_corr:\n",
    "#             other_pred = df_temp[df_temp==min_corr].index[0]\n",
    "#             mcorr = min_corr\n",
    "#         else:\n",
    "#             other_pred = df_temp[df_temp==max_corr].index[0]\n",
    "#             mcorr = max_corr\n",
    "#         if abs(mcorr)>_corr_threshold:\n",
    "#             print '** ',\n",
    "#         print 'mcorr({})={:.4f} with {}'.format(pred, mcorr, other_pred)"
   ]
  },
  {
   "cell_type": "markdown",
   "metadata": {},
   "source": [
    "# Feature Engineering:\n",
    "- Fill NAs for both the predictord and response with median estimates of the column.\n",
    "- Consider localized imputing in future.\n",
    "    "
   ]
  },
  {
   "cell_type": "code",
   "execution_count": 21,
   "metadata": {
    "collapsed": false,
    "scrolled": true
   },
   "outputs": [
    {
     "name": "stderr",
     "output_type": "stream",
     "text": [
      "/Users/PoonamRath/anaconda/lib/python2.7/site-packages/pandas/core/generic.py:2748: SettingWithCopyWarning: \n",
      "A value is trying to be set on a copy of a slice from a DataFrame\n",
      "\n",
      "See the caveats in the documentation: http://pandas.pydata.org/pandas-docs/stable/indexing.html#indexing-view-versus-copy\n",
      "  self._update_inplace(new_data)\n"
     ]
    }
   ],
   "source": [
    "# Fill NAs with median estimates\n",
    "df_predictors_selected = df_expanded\n",
    "df_response_selected = df_response_with_dummies\n",
    "\n",
    "df_predictors_selected.fillna(df_predictors_selected.median(),inplace=True)\n",
    "df_response_selected.fillna(df_response_selected.median(),inplace=True)"
   ]
  },
  {
   "cell_type": "markdown",
   "metadata": {},
   "source": [
    "**Notes on Response variable:**\n",
    "    \n",
    "When I use all 8 dummy columns for response, I get \"bad shape\" error below. I will try using just one Response columns(1 through 8) \n",
    "and try OnevsRest or some method...\n",
    "\n",
    "- Test how separable the resposnes are by plotting a 2D projection of the feature space and coloring by response.\n",
    "- For each type of response, find the most correlated feature."
   ]
  },
  {
   "cell_type": "code",
   "execution_count": 22,
   "metadata": {
    "collapsed": false
   },
   "outputs": [],
   "source": [
    "# Assign predictors to X and response to Y\n",
    "X = df_predictors_selected\n",
    "#y = df_response_selected\n",
    "y = df_response_selected"
   ]
  },
  {
   "cell_type": "code",
   "execution_count": 23,
   "metadata": {
    "collapsed": false
   },
   "outputs": [
    {
     "name": "stdout",
     "output_type": "stream",
     "text": [
      "(500, 203)\n",
      "(500,)\n"
     ]
    }
   ],
   "source": [
    "print X.shape\n",
    "print y.shape"
   ]
  },
  {
   "cell_type": "code",
   "execution_count": 24,
   "metadata": {
    "collapsed": false
   },
   "outputs": [
    {
     "data": {
      "image/png": "[encoded data removed]",
      "text/plain": [
       "<matplotlib.figure.Figure at 0x1119bd7d0>"
      ]
     },
     "metadata": {},
     "output_type": "display_data"
    }
   ],
   "source": [
    "# Check how separable the responses are using MDS\n",
    "data_to_cluster = X\n",
    "mds = MDS(n_components=2,random_state=1)\n",
    "mds_transformed_data = mds.fit_transform(data_to_cluster)\n",
    "mds_transformed_data_df = pd.DataFrame(mds_transformed_data, columns= ['MDS1','MDS2'])\n",
    "mds_transformed_data_df.head()\n",
    "colors = y\n",
    "plt.scatter(mds_transformed_data_df['MDS1'].values,mds_transformed_data_df['MDS2'].values,c=colors)\n",
    "plt.show()"
   ]
  },
  {
   "cell_type": "code",
   "execution_count": 25,
   "metadata": {
    "collapsed": false
   },
   "outputs": [
    {
     "data": {
      "image/png": "[encoded data removed]",
      "text/plain": [
       "<matplotlib.figure.Figure at 0x10a387cd0>"
      ]
     },
     "metadata": {},
     "output_type": "display_data"
    }
   ],
   "source": [
    "\n",
    "# Make 11 clusters using KMeans clustering\n",
    "k = 8\n",
    "km = KMeans(k)\n",
    "cluster_info = km.fit(X)\n",
    "\n",
    "# PCA to visulaize clusters\n",
    "pca = PCA(n_components=2,copy=True)\n",
    "transformed_data = pca.fit_transform(data_to_cluster)\n",
    "transformed_data_df = pd.DataFrame(transformed_data, columns= ['PCA1','PCA2'])\n",
    "transformed_data_df.head()\n",
    "colors = cluster_info.labels_\n",
    "plt.scatter(transformed_data_df['PCA1'].values,transformed_data_df['PCA2'].values,c=colors)\n",
    "plt.show()\n"
   ]
  },
  {
   "cell_type": "code",
   "execution_count": 26,
   "metadata": {
    "collapsed": false
   },
   "outputs": [
    {
     "data": {
      "image/png": "[encoded data removed]",
      "text/plain": [
       "<matplotlib.figure.Figure at 0x10b1b12d0>"
      ]
     },
     "metadata": {},
     "output_type": "display_data"
    }
   ],
   "source": [
    "# Check how separable the responses using PCA\n",
    "data_to_cluster = X\n",
    "ismap = Isomap(n_components=2,copy=True)\n",
    "ismap_transformed_data = .fit_transform(data_to_cluster)\n",
    "pca_transformed_data_df = pd.DataFrame(pca_transformed_data, columns= ['PCA1','PCA2'])\n",
    "pca_transformed_data_df.head()\n",
    "colors = y\n",
    "plt.scatter(pca_transformed_data_df['PCA1'].values,pca_transformed_data_df['PCA2'].values,c=colors)\n",
    "plt.show()"
   ]
  },
  {
   "cell_type": "code",
   "execution_count": null,
   "metadata": {
    "collapsed": true
   },
   "outputs": [],
   "source": [
    "# # Compute pairwise correlations of all predictors\n",
    "# df_predictors = df_expanded\n",
    "# df_predictor_correlations = df_predictors.corr()\n"
   ]
  },
  {
   "cell_type": "code",
   "execution_count": null,
   "metadata": {
    "collapsed": true
   },
   "outputs": [],
   "source": [
    "# # Describe pairwise correlations\n",
    "# _corr_threshold = 0.5\n",
    "all_predictors = df_predictors_selected.columns\n",
    "# for pred in all_predictors:\n",
    "#     df_temp = df_predictor_correlations[pred]\n",
    "#     max_corr = df_temp[[idx for idx in df_temp.index if pred not in idx]].max()\n",
    "#     min_corr = df_temp.min()\n",
    "#     if np.isnan(max_corr)==False:\n",
    "#         if abs(min_corr)>max_corr:\n",
    "#             other_pred = df_temp[df_temp==min_corr].index[0]\n",
    "#             mcorr = min_corr\n",
    "#         else:\n",
    "#             other_pred = df_temp[df_temp==max_corr].index[0]\n",
    "#             mcorr = max_corr\n",
    "#         if abs(mcorr)>_corr_threshold:\n",
    "#             print '** ',\n",
    "#         print 'mcorr({})={:.4f} with {}'.format(pred, mcorr, other_pred)"
   ]
  },
  {
   "cell_type": "code",
   "execution_count": 27,
   "metadata": {
    "collapsed": false,
    "scrolled": true
   },
   "outputs": [
    {
     "data": {
      "text/html": [
       "<div>\n",
       "<table border=\"1\" class=\"dataframe\">\n",
       "  <thead>\n",
       "    <tr style=\"text-align: right;\">\n",
       "      <th></th>\n",
       "      <th>Response_1</th>\n",
       "      <th>Response_2</th>\n",
       "      <th>Response_3</th>\n",
       "      <th>Response_4</th>\n",
       "      <th>Response_5</th>\n",
       "      <th>Response_6</th>\n",
       "      <th>Response_7</th>\n",
       "      <th>Response_8</th>\n",
       "    </tr>\n",
       "    <tr>\n",
       "      <th>Id</th>\n",
       "      <th></th>\n",
       "      <th></th>\n",
       "      <th></th>\n",
       "      <th></th>\n",
       "      <th></th>\n",
       "      <th></th>\n",
       "      <th></th>\n",
       "      <th></th>\n",
       "    </tr>\n",
       "  </thead>\n",
       "  <tbody>\n",
       "    <tr>\n",
       "      <th>23579</th>\n",
       "      <td>0</td>\n",
       "      <td>1</td>\n",
       "      <td>0</td>\n",
       "      <td>0</td>\n",
       "      <td>0</td>\n",
       "      <td>0</td>\n",
       "      <td>0</td>\n",
       "      <td>0</td>\n",
       "    </tr>\n",
       "    <tr>\n",
       "      <th>2855</th>\n",
       "      <td>0</td>\n",
       "      <td>0</td>\n",
       "      <td>0</td>\n",
       "      <td>0</td>\n",
       "      <td>0</td>\n",
       "      <td>0</td>\n",
       "      <td>1</td>\n",
       "      <td>0</td>\n",
       "    </tr>\n",
       "    <tr>\n",
       "      <th>31814</th>\n",
       "      <td>0</td>\n",
       "      <td>0</td>\n",
       "      <td>0</td>\n",
       "      <td>0</td>\n",
       "      <td>0</td>\n",
       "      <td>1</td>\n",
       "      <td>0</td>\n",
       "      <td>0</td>\n",
       "    </tr>\n",
       "    <tr>\n",
       "      <th>70042</th>\n",
       "      <td>0</td>\n",
       "      <td>0</td>\n",
       "      <td>0</td>\n",
       "      <td>0</td>\n",
       "      <td>1</td>\n",
       "      <td>0</td>\n",
       "      <td>0</td>\n",
       "      <td>0</td>\n",
       "    </tr>\n",
       "    <tr>\n",
       "      <th>68999</th>\n",
       "      <td>0</td>\n",
       "      <td>0</td>\n",
       "      <td>0</td>\n",
       "      <td>0</td>\n",
       "      <td>0</td>\n",
       "      <td>0</td>\n",
       "      <td>0</td>\n",
       "      <td>1</td>\n",
       "    </tr>\n",
       "    <tr>\n",
       "      <th>71299</th>\n",
       "      <td>0</td>\n",
       "      <td>0</td>\n",
       "      <td>0</td>\n",
       "      <td>0</td>\n",
       "      <td>0</td>\n",
       "      <td>1</td>\n",
       "      <td>0</td>\n",
       "      <td>0</td>\n",
       "    </tr>\n",
       "    <tr>\n",
       "      <th>24553</th>\n",
       "      <td>0</td>\n",
       "      <td>0</td>\n",
       "      <td>0</td>\n",
       "      <td>0</td>\n",
       "      <td>0</td>\n",
       "      <td>0</td>\n",
       "      <td>0</td>\n",
       "      <td>1</td>\n",
       "    </tr>\n",
       "    <tr>\n",
       "      <th>16562</th>\n",
       "      <td>0</td>\n",
       "      <td>0</td>\n",
       "      <td>0</td>\n",
       "      <td>0</td>\n",
       "      <td>0</td>\n",
       "      <td>0</td>\n",
       "      <td>0</td>\n",
       "      <td>1</td>\n",
       "    </tr>\n",
       "    <tr>\n",
       "      <th>43835</th>\n",
       "      <td>1</td>\n",
       "      <td>0</td>\n",
       "      <td>0</td>\n",
       "      <td>0</td>\n",
       "      <td>0</td>\n",
       "      <td>0</td>\n",
       "      <td>0</td>\n",
       "      <td>0</td>\n",
       "    </tr>\n",
       "    <tr>\n",
       "      <th>52564</th>\n",
       "      <td>0</td>\n",
       "      <td>0</td>\n",
       "      <td>0</td>\n",
       "      <td>0</td>\n",
       "      <td>0</td>\n",
       "      <td>0</td>\n",
       "      <td>1</td>\n",
       "      <td>0</td>\n",
       "    </tr>\n",
       "    <tr>\n",
       "      <th>15844</th>\n",
       "      <td>0</td>\n",
       "      <td>1</td>\n",
       "      <td>0</td>\n",
       "      <td>0</td>\n",
       "      <td>0</td>\n",
       "      <td>0</td>\n",
       "      <td>0</td>\n",
       "      <td>0</td>\n",
       "    </tr>\n",
       "    <tr>\n",
       "      <th>68623</th>\n",
       "      <td>0</td>\n",
       "      <td>0</td>\n",
       "      <td>1</td>\n",
       "      <td>0</td>\n",
       "      <td>0</td>\n",
       "      <td>0</td>\n",
       "      <td>0</td>\n",
       "      <td>0</td>\n",
       "    </tr>\n",
       "    <tr>\n",
       "      <th>11597</th>\n",
       "      <td>0</td>\n",
       "      <td>0</td>\n",
       "      <td>0</td>\n",
       "      <td>0</td>\n",
       "      <td>0</td>\n",
       "      <td>1</td>\n",
       "      <td>0</td>\n",
       "      <td>0</td>\n",
       "    </tr>\n",
       "    <tr>\n",
       "      <th>15148</th>\n",
       "      <td>0</td>\n",
       "      <td>0</td>\n",
       "      <td>0</td>\n",
       "      <td>0</td>\n",
       "      <td>0</td>\n",
       "      <td>1</td>\n",
       "      <td>0</td>\n",
       "      <td>0</td>\n",
       "    </tr>\n",
       "    <tr>\n",
       "      <th>78495</th>\n",
       "      <td>0</td>\n",
       "      <td>0</td>\n",
       "      <td>0</td>\n",
       "      <td>0</td>\n",
       "      <td>0</td>\n",
       "      <td>1</td>\n",
       "      <td>0</td>\n",
       "      <td>0</td>\n",
       "    </tr>\n",
       "    <tr>\n",
       "      <th>50800</th>\n",
       "      <td>0</td>\n",
       "      <td>0</td>\n",
       "      <td>0</td>\n",
       "      <td>0</td>\n",
       "      <td>0</td>\n",
       "      <td>0</td>\n",
       "      <td>0</td>\n",
       "      <td>1</td>\n",
       "    </tr>\n",
       "    <tr>\n",
       "      <th>35829</th>\n",
       "      <td>0</td>\n",
       "      <td>0</td>\n",
       "      <td>0</td>\n",
       "      <td>0</td>\n",
       "      <td>0</td>\n",
       "      <td>0</td>\n",
       "      <td>0</td>\n",
       "      <td>1</td>\n",
       "    </tr>\n",
       "    <tr>\n",
       "      <th>41347</th>\n",
       "      <td>0</td>\n",
       "      <td>0</td>\n",
       "      <td>0</td>\n",
       "      <td>0</td>\n",
       "      <td>0</td>\n",
       "      <td>0</td>\n",
       "      <td>1</td>\n",
       "      <td>0</td>\n",
       "    </tr>\n",
       "    <tr>\n",
       "      <th>29815</th>\n",
       "      <td>0</td>\n",
       "      <td>0</td>\n",
       "      <td>0</td>\n",
       "      <td>0</td>\n",
       "      <td>0</td>\n",
       "      <td>1</td>\n",
       "      <td>0</td>\n",
       "      <td>0</td>\n",
       "    </tr>\n",
       "    <tr>\n",
       "      <th>61189</th>\n",
       "      <td>0</td>\n",
       "      <td>0</td>\n",
       "      <td>0</td>\n",
       "      <td>0</td>\n",
       "      <td>0</td>\n",
       "      <td>1</td>\n",
       "      <td>0</td>\n",
       "      <td>0</td>\n",
       "    </tr>\n",
       "    <tr>\n",
       "      <th>48091</th>\n",
       "      <td>0</td>\n",
       "      <td>0</td>\n",
       "      <td>0</td>\n",
       "      <td>0</td>\n",
       "      <td>0</td>\n",
       "      <td>0</td>\n",
       "      <td>0</td>\n",
       "      <td>1</td>\n",
       "    </tr>\n",
       "    <tr>\n",
       "      <th>26496</th>\n",
       "      <td>0</td>\n",
       "      <td>0</td>\n",
       "      <td>0</td>\n",
       "      <td>0</td>\n",
       "      <td>0</td>\n",
       "      <td>1</td>\n",
       "      <td>0</td>\n",
       "      <td>0</td>\n",
       "    </tr>\n",
       "    <tr>\n",
       "      <th>51343</th>\n",
       "      <td>0</td>\n",
       "      <td>0</td>\n",
       "      <td>0</td>\n",
       "      <td>0</td>\n",
       "      <td>1</td>\n",
       "      <td>0</td>\n",
       "      <td>0</td>\n",
       "      <td>0</td>\n",
       "    </tr>\n",
       "    <tr>\n",
       "      <th>65625</th>\n",
       "      <td>0</td>\n",
       "      <td>0</td>\n",
       "      <td>0</td>\n",
       "      <td>0</td>\n",
       "      <td>0</td>\n",
       "      <td>0</td>\n",
       "      <td>1</td>\n",
       "      <td>0</td>\n",
       "    </tr>\n",
       "    <tr>\n",
       "      <th>28589</th>\n",
       "      <td>0</td>\n",
       "      <td>0</td>\n",
       "      <td>0</td>\n",
       "      <td>0</td>\n",
       "      <td>0</td>\n",
       "      <td>0</td>\n",
       "      <td>0</td>\n",
       "      <td>1</td>\n",
       "    </tr>\n",
       "    <tr>\n",
       "      <th>21611</th>\n",
       "      <td>0</td>\n",
       "      <td>0</td>\n",
       "      <td>0</td>\n",
       "      <td>0</td>\n",
       "      <td>0</td>\n",
       "      <td>0</td>\n",
       "      <td>0</td>\n",
       "      <td>1</td>\n",
       "    </tr>\n",
       "    <tr>\n",
       "      <th>39943</th>\n",
       "      <td>0</td>\n",
       "      <td>1</td>\n",
       "      <td>0</td>\n",
       "      <td>0</td>\n",
       "      <td>0</td>\n",
       "      <td>0</td>\n",
       "      <td>0</td>\n",
       "      <td>0</td>\n",
       "    </tr>\n",
       "    <tr>\n",
       "      <th>63305</th>\n",
       "      <td>0</td>\n",
       "      <td>0</td>\n",
       "      <td>0</td>\n",
       "      <td>0</td>\n",
       "      <td>0</td>\n",
       "      <td>0</td>\n",
       "      <td>1</td>\n",
       "      <td>0</td>\n",
       "    </tr>\n",
       "    <tr>\n",
       "      <th>660</th>\n",
       "      <td>0</td>\n",
       "      <td>0</td>\n",
       "      <td>0</td>\n",
       "      <td>0</td>\n",
       "      <td>0</td>\n",
       "      <td>0</td>\n",
       "      <td>1</td>\n",
       "      <td>0</td>\n",
       "    </tr>\n",
       "    <tr>\n",
       "      <th>16660</th>\n",
       "      <td>1</td>\n",
       "      <td>0</td>\n",
       "      <td>0</td>\n",
       "      <td>0</td>\n",
       "      <td>0</td>\n",
       "      <td>0</td>\n",
       "      <td>0</td>\n",
       "      <td>0</td>\n",
       "    </tr>\n",
       "    <tr>\n",
       "      <th>...</th>\n",
       "      <td>...</td>\n",
       "      <td>...</td>\n",
       "      <td>...</td>\n",
       "      <td>...</td>\n",
       "      <td>...</td>\n",
       "      <td>...</td>\n",
       "      <td>...</td>\n",
       "      <td>...</td>\n",
       "    </tr>\n",
       "    <tr>\n",
       "      <th>33216</th>\n",
       "      <td>0</td>\n",
       "      <td>0</td>\n",
       "      <td>0</td>\n",
       "      <td>0</td>\n",
       "      <td>0</td>\n",
       "      <td>0</td>\n",
       "      <td>0</td>\n",
       "      <td>1</td>\n",
       "    </tr>\n",
       "    <tr>\n",
       "      <th>52852</th>\n",
       "      <td>0</td>\n",
       "      <td>1</td>\n",
       "      <td>0</td>\n",
       "      <td>0</td>\n",
       "      <td>0</td>\n",
       "      <td>0</td>\n",
       "      <td>0</td>\n",
       "      <td>0</td>\n",
       "    </tr>\n",
       "    <tr>\n",
       "      <th>72337</th>\n",
       "      <td>0</td>\n",
       "      <td>0</td>\n",
       "      <td>0</td>\n",
       "      <td>0</td>\n",
       "      <td>0</td>\n",
       "      <td>1</td>\n",
       "      <td>0</td>\n",
       "      <td>0</td>\n",
       "    </tr>\n",
       "    <tr>\n",
       "      <th>66097</th>\n",
       "      <td>0</td>\n",
       "      <td>0</td>\n",
       "      <td>0</td>\n",
       "      <td>0</td>\n",
       "      <td>0</td>\n",
       "      <td>0</td>\n",
       "      <td>0</td>\n",
       "      <td>1</td>\n",
       "    </tr>\n",
       "    <tr>\n",
       "      <th>47616</th>\n",
       "      <td>0</td>\n",
       "      <td>0</td>\n",
       "      <td>0</td>\n",
       "      <td>0</td>\n",
       "      <td>0</td>\n",
       "      <td>0</td>\n",
       "      <td>1</td>\n",
       "      <td>0</td>\n",
       "    </tr>\n",
       "    <tr>\n",
       "      <th>12151</th>\n",
       "      <td>0</td>\n",
       "      <td>0</td>\n",
       "      <td>0</td>\n",
       "      <td>0</td>\n",
       "      <td>0</td>\n",
       "      <td>0</td>\n",
       "      <td>1</td>\n",
       "      <td>0</td>\n",
       "    </tr>\n",
       "    <tr>\n",
       "      <th>17426</th>\n",
       "      <td>0</td>\n",
       "      <td>0</td>\n",
       "      <td>0</td>\n",
       "      <td>0</td>\n",
       "      <td>0</td>\n",
       "      <td>0</td>\n",
       "      <td>0</td>\n",
       "      <td>1</td>\n",
       "    </tr>\n",
       "    <tr>\n",
       "      <th>19141</th>\n",
       "      <td>0</td>\n",
       "      <td>0</td>\n",
       "      <td>0</td>\n",
       "      <td>0</td>\n",
       "      <td>0</td>\n",
       "      <td>0</td>\n",
       "      <td>0</td>\n",
       "      <td>1</td>\n",
       "    </tr>\n",
       "    <tr>\n",
       "      <th>36200</th>\n",
       "      <td>0</td>\n",
       "      <td>0</td>\n",
       "      <td>0</td>\n",
       "      <td>0</td>\n",
       "      <td>0</td>\n",
       "      <td>0</td>\n",
       "      <td>0</td>\n",
       "      <td>1</td>\n",
       "    </tr>\n",
       "    <tr>\n",
       "      <th>75738</th>\n",
       "      <td>0</td>\n",
       "      <td>0</td>\n",
       "      <td>0</td>\n",
       "      <td>0</td>\n",
       "      <td>0</td>\n",
       "      <td>0</td>\n",
       "      <td>0</td>\n",
       "      <td>1</td>\n",
       "    </tr>\n",
       "    <tr>\n",
       "      <th>71375</th>\n",
       "      <td>0</td>\n",
       "      <td>0</td>\n",
       "      <td>0</td>\n",
       "      <td>0</td>\n",
       "      <td>0</td>\n",
       "      <td>0</td>\n",
       "      <td>0</td>\n",
       "      <td>1</td>\n",
       "    </tr>\n",
       "    <tr>\n",
       "      <th>58070</th>\n",
       "      <td>0</td>\n",
       "      <td>0</td>\n",
       "      <td>0</td>\n",
       "      <td>0</td>\n",
       "      <td>0</td>\n",
       "      <td>1</td>\n",
       "      <td>0</td>\n",
       "      <td>0</td>\n",
       "    </tr>\n",
       "    <tr>\n",
       "      <th>50172</th>\n",
       "      <td>0</td>\n",
       "      <td>0</td>\n",
       "      <td>0</td>\n",
       "      <td>0</td>\n",
       "      <td>0</td>\n",
       "      <td>1</td>\n",
       "      <td>0</td>\n",
       "      <td>0</td>\n",
       "    </tr>\n",
       "    <tr>\n",
       "      <th>31857</th>\n",
       "      <td>0</td>\n",
       "      <td>0</td>\n",
       "      <td>0</td>\n",
       "      <td>0</td>\n",
       "      <td>0</td>\n",
       "      <td>0</td>\n",
       "      <td>0</td>\n",
       "      <td>1</td>\n",
       "    </tr>\n",
       "    <tr>\n",
       "      <th>51013</th>\n",
       "      <td>0</td>\n",
       "      <td>0</td>\n",
       "      <td>0</td>\n",
       "      <td>0</td>\n",
       "      <td>0</td>\n",
       "      <td>1</td>\n",
       "      <td>0</td>\n",
       "      <td>0</td>\n",
       "    </tr>\n",
       "    <tr>\n",
       "      <th>12835</th>\n",
       "      <td>0</td>\n",
       "      <td>1</td>\n",
       "      <td>0</td>\n",
       "      <td>0</td>\n",
       "      <td>0</td>\n",
       "      <td>0</td>\n",
       "      <td>0</td>\n",
       "      <td>0</td>\n",
       "    </tr>\n",
       "    <tr>\n",
       "      <th>26317</th>\n",
       "      <td>0</td>\n",
       "      <td>0</td>\n",
       "      <td>0</td>\n",
       "      <td>0</td>\n",
       "      <td>1</td>\n",
       "      <td>0</td>\n",
       "      <td>0</td>\n",
       "      <td>0</td>\n",
       "    </tr>\n",
       "    <tr>\n",
       "      <th>73015</th>\n",
       "      <td>0</td>\n",
       "      <td>0</td>\n",
       "      <td>0</td>\n",
       "      <td>0</td>\n",
       "      <td>0</td>\n",
       "      <td>1</td>\n",
       "      <td>0</td>\n",
       "      <td>0</td>\n",
       "    </tr>\n",
       "    <tr>\n",
       "      <th>10728</th>\n",
       "      <td>0</td>\n",
       "      <td>0</td>\n",
       "      <td>0</td>\n",
       "      <td>0</td>\n",
       "      <td>1</td>\n",
       "      <td>0</td>\n",
       "      <td>0</td>\n",
       "      <td>0</td>\n",
       "    </tr>\n",
       "    <tr>\n",
       "      <th>6876</th>\n",
       "      <td>1</td>\n",
       "      <td>0</td>\n",
       "      <td>0</td>\n",
       "      <td>0</td>\n",
       "      <td>0</td>\n",
       "      <td>0</td>\n",
       "      <td>0</td>\n",
       "      <td>0</td>\n",
       "    </tr>\n",
       "    <tr>\n",
       "      <th>16572</th>\n",
       "      <td>0</td>\n",
       "      <td>0</td>\n",
       "      <td>0</td>\n",
       "      <td>0</td>\n",
       "      <td>0</td>\n",
       "      <td>1</td>\n",
       "      <td>0</td>\n",
       "      <td>0</td>\n",
       "    </tr>\n",
       "    <tr>\n",
       "      <th>20785</th>\n",
       "      <td>0</td>\n",
       "      <td>0</td>\n",
       "      <td>0</td>\n",
       "      <td>0</td>\n",
       "      <td>1</td>\n",
       "      <td>0</td>\n",
       "      <td>0</td>\n",
       "      <td>0</td>\n",
       "    </tr>\n",
       "    <tr>\n",
       "      <th>69398</th>\n",
       "      <td>0</td>\n",
       "      <td>0</td>\n",
       "      <td>0</td>\n",
       "      <td>0</td>\n",
       "      <td>0</td>\n",
       "      <td>1</td>\n",
       "      <td>0</td>\n",
       "      <td>0</td>\n",
       "    </tr>\n",
       "    <tr>\n",
       "      <th>54134</th>\n",
       "      <td>0</td>\n",
       "      <td>0</td>\n",
       "      <td>0</td>\n",
       "      <td>0</td>\n",
       "      <td>0</td>\n",
       "      <td>0</td>\n",
       "      <td>0</td>\n",
       "      <td>1</td>\n",
       "    </tr>\n",
       "    <tr>\n",
       "      <th>55300</th>\n",
       "      <td>1</td>\n",
       "      <td>0</td>\n",
       "      <td>0</td>\n",
       "      <td>0</td>\n",
       "      <td>0</td>\n",
       "      <td>0</td>\n",
       "      <td>0</td>\n",
       "      <td>0</td>\n",
       "    </tr>\n",
       "    <tr>\n",
       "      <th>48270</th>\n",
       "      <td>0</td>\n",
       "      <td>0</td>\n",
       "      <td>0</td>\n",
       "      <td>0</td>\n",
       "      <td>0</td>\n",
       "      <td>0</td>\n",
       "      <td>0</td>\n",
       "      <td>1</td>\n",
       "    </tr>\n",
       "    <tr>\n",
       "      <th>65874</th>\n",
       "      <td>0</td>\n",
       "      <td>0</td>\n",
       "      <td>0</td>\n",
       "      <td>0</td>\n",
       "      <td>0</td>\n",
       "      <td>0</td>\n",
       "      <td>0</td>\n",
       "      <td>1</td>\n",
       "    </tr>\n",
       "    <tr>\n",
       "      <th>70122</th>\n",
       "      <td>0</td>\n",
       "      <td>0</td>\n",
       "      <td>0</td>\n",
       "      <td>0</td>\n",
       "      <td>0</td>\n",
       "      <td>0</td>\n",
       "      <td>0</td>\n",
       "      <td>1</td>\n",
       "    </tr>\n",
       "    <tr>\n",
       "      <th>49343</th>\n",
       "      <td>1</td>\n",
       "      <td>0</td>\n",
       "      <td>0</td>\n",
       "      <td>0</td>\n",
       "      <td>0</td>\n",
       "      <td>0</td>\n",
       "      <td>0</td>\n",
       "      <td>0</td>\n",
       "    </tr>\n",
       "    <tr>\n",
       "      <th>6060</th>\n",
       "      <td>0</td>\n",
       "      <td>0</td>\n",
       "      <td>0</td>\n",
       "      <td>0</td>\n",
       "      <td>0</td>\n",
       "      <td>0</td>\n",
       "      <td>0</td>\n",
       "      <td>1</td>\n",
       "    </tr>\n",
       "  </tbody>\n",
       "</table>\n",
       "<p>500 rows × 8 columns</p>\n",
       "</div>"
      ],
      "text/plain": [
       "       Response_1  Response_2  Response_3  Response_4  Response_5  Response_6  \\\n",
       "Id                                                                              \n",
       "23579           0           1           0           0           0           0   \n",
       "2855            0           0           0           0           0           0   \n",
       "31814           0           0           0           0           0           1   \n",
       "70042           0           0           0           0           1           0   \n",
       "68999           0           0           0           0           0           0   \n",
       "71299           0           0           0           0           0           1   \n",
       "24553           0           0           0           0           0           0   \n",
       "16562           0           0           0           0           0           0   \n",
       "43835           1           0           0           0           0           0   \n",
       "52564           0           0           0           0           0           0   \n",
       "15844           0           1           0           0           0           0   \n",
       "68623           0           0           1           0           0           0   \n",
       "11597           0           0           0           0           0           1   \n",
       "15148           0           0           0           0           0           1   \n",
       "78495           0           0           0           0           0           1   \n",
       "50800           0           0           0           0           0           0   \n",
       "35829           0           0           0           0           0           0   \n",
       "41347           0           0           0           0           0           0   \n",
       "29815           0           0           0           0           0           1   \n",
       "61189           0           0           0           0           0           1   \n",
       "48091           0           0           0           0           0           0   \n",
       "26496           0           0           0           0           0           1   \n",
       "51343           0           0           0           0           1           0   \n",
       "65625           0           0           0           0           0           0   \n",
       "28589           0           0           0           0           0           0   \n",
       "21611           0           0           0           0           0           0   \n",
       "39943           0           1           0           0           0           0   \n",
       "63305           0           0           0           0           0           0   \n",
       "660             0           0           0           0           0           0   \n",
       "16660           1           0           0           0           0           0   \n",
       "...           ...         ...         ...         ...         ...         ...   \n",
       "33216           0           0           0           0           0           0   \n",
       "52852           0           1           0           0           0           0   \n",
       "72337           0           0           0           0           0           1   \n",
       "66097           0           0           0           0           0           0   \n",
       "47616           0           0           0           0           0           0   \n",
       "12151           0           0           0           0           0           0   \n",
       "17426           0           0           0           0           0           0   \n",
       "19141           0           0           0           0           0           0   \n",
       "36200           0           0           0           0           0           0   \n",
       "75738           0           0           0           0           0           0   \n",
       "71375           0           0           0           0           0           0   \n",
       "58070           0           0           0           0           0           1   \n",
       "50172           0           0           0           0           0           1   \n",
       "31857           0           0           0           0           0           0   \n",
       "51013           0           0           0           0           0           1   \n",
       "12835           0           1           0           0           0           0   \n",
       "26317           0           0           0           0           1           0   \n",
       "73015           0           0           0           0           0           1   \n",
       "10728           0           0           0           0           1           0   \n",
       "6876            1           0           0           0           0           0   \n",
       "16572           0           0           0           0           0           1   \n",
       "20785           0           0           0           0           1           0   \n",
       "69398           0           0           0           0           0           1   \n",
       "54134           0           0           0           0           0           0   \n",
       "55300           1           0           0           0           0           0   \n",
       "48270           0           0           0           0           0           0   \n",
       "65874           0           0           0           0           0           0   \n",
       "70122           0           0           0           0           0           0   \n",
       "49343           1           0           0           0           0           0   \n",
       "6060            0           0           0           0           0           0   \n",
       "\n",
       "       Response_7  Response_8  \n",
       "Id                             \n",
       "23579           0           0  \n",
       "2855            1           0  \n",
       "31814           0           0  \n",
       "70042           0           0  \n",
       "68999           0           1  \n",
       "71299           0           0  \n",
       "24553           0           1  \n",
       "16562           0           1  \n",
       "43835           0           0  \n",
       "52564           1           0  \n",
       "15844           0           0  \n",
       "68623           0           0  \n",
       "11597           0           0  \n",
       "15148           0           0  \n",
       "78495           0           0  \n",
       "50800           0           1  \n",
       "35829           0           1  \n",
       "41347           1           0  \n",
       "29815           0           0  \n",
       "61189           0           0  \n",
       "48091           0           1  \n",
       "26496           0           0  \n",
       "51343           0           0  \n",
       "65625           1           0  \n",
       "28589           0           1  \n",
       "21611           0           1  \n",
       "39943           0           0  \n",
       "63305           1           0  \n",
       "660             1           0  \n",
       "16660           0           0  \n",
       "...           ...         ...  \n",
       "33216           0           1  \n",
       "52852           0           0  \n",
       "72337           0           0  \n",
       "66097           0           1  \n",
       "47616           1           0  \n",
       "12151           1           0  \n",
       "17426           0           1  \n",
       "19141           0           1  \n",
       "36200           0           1  \n",
       "75738           0           1  \n",
       "71375           0           1  \n",
       "58070           0           0  \n",
       "50172           0           0  \n",
       "31857           0           1  \n",
       "51013           0           0  \n",
       "12835           0           0  \n",
       "26317           0           0  \n",
       "73015           0           0  \n",
       "10728           0           0  \n",
       "6876            0           0  \n",
       "16572           0           0  \n",
       "20785           0           0  \n",
       "69398           0           0  \n",
       "54134           0           1  \n",
       "55300           0           0  \n",
       "48270           0           1  \n",
       "65874           0           1  \n",
       "70122           0           1  \n",
       "49343           0           0  \n",
       "6060            0           1  \n",
       "\n",
       "[500 rows x 8 columns]"
      ]
     },
     "execution_count": 27,
     "metadata": {},
     "output_type": "execute_result"
    }
   ],
   "source": [
    "df_response"
   ]
  },
  {
   "cell_type": "code",
   "execution_count": 28,
   "metadata": {
    "collapsed": false
   },
   "outputs": [
    {
     "ename": "SyntaxError",
     "evalue": "invalid syntax (<ipython-input-28-950934c9199d>, line 3)",
     "output_type": "error",
     "traceback": [
      "\u001b[0;36m  File \u001b[0;32m\"<ipython-input-28-950934c9199d>\"\u001b[0;36m, line \u001b[0;32m3\u001b[0m\n\u001b[0;31m    score = {}\u001b[0m\n\u001b[0m          ^\u001b[0m\n\u001b[0;31mSyntaxError\u001b[0m\u001b[0;31m:\u001b[0m invalid syntax\n"
     ]
    }
   ],
   "source": [
    "for response in df_response[df_response.Response_1:\n",
    "   \n",
    "        score = {}\n",
    "        score[response] = \n",
    "        score.append(df_response[response].corr(df_predictors_selected[predictor]))\n",
    "        #print 'corr of response {} with feature {}: {}'.format(response,predictor,(df_response[response].corr(df_predictors_selected[predictor]\n",
    "                                                                                                            # )))\n",
    "    "
   ]
  },
  {
   "cell_type": "code",
   "execution_count": 29,
   "metadata": {
    "collapsed": false
   },
   "outputs": [
    {
     "name": "stdout",
     "output_type": "stream",
     "text": [
      "Max correlated feature with Result_1: Insurance_History_2_3\n",
      "Insurance_History_2_1\n"
     ]
    }
   ],
   "source": [
    "score_result_1 = {}\n",
    "for predictor in X:    \n",
    "    score_result_1[predictor]= X[predictor].corr(df_response['Response_1'])\n",
    "    \n",
    "inverse = [(value,key) for key, value in score_result_1.items() ]\n",
    "print \"Max correlated feature with Result_1: {}\".format(max(inverse)[1])\n",
    "print min(inverse)[1]"
   ]
  },
  {
   "cell_type": "code",
   "execution_count": null,
   "metadata": {
    "collapsed": false
   },
   "outputs": [],
   "source": [
    "from pylab import*\n",
    "for ii in df_response:\n",
    "    score_result_ii = {}\n",
    "    for predictor in X:\n",
    "        score_result_ii[predictor] = X[predictor].corr(df_response[ii])\n",
    "    inverse = [(value,key) for key, value in score_result_ii.items()]\n",
    "#     pos = arange(1)\n",
    "#     plt.barh(pos,max(inverse)[0],align='center')\n",
    "#     yticks(pos, (max(inverse)[1]))\n",
    "#     plt.show()\n",
    "    print \"Max positively correlated feature with Result_{}: {}, correlation: {}\".format(ii,max(inverse)[1],max(inverse)[0])\n",
    "    print \"Min negatively correlated feature with Result_{}: {},correlation: {}\".format(ii,min(inverse)[1],min(inverse)[0])"
   ]
  },
  {
   "cell_type": "code",
   "execution_count": null,
   "metadata": {
    "collapsed": true
   },
   "outputs": [],
   "source": [
    "for "
   ]
  },
  {
   "cell_type": "markdown",
   "metadata": {},
   "source": [
    "# Learning curve\n",
    "\n",
    "The point is to see if we have enough data. We will do this by determining cross-validated training and test scores for different training set sizes. I'm going to give this a shot with Logistic Regression using all features."
   ]
  },
  {
   "cell_type": "code",
   "execution_count": null,
   "metadata": {
    "collapsed": true
   },
   "outputs": [],
   "source": [
    "def plot_learning_curve(estimator, title, X, y, ylim=None, cv=None,\n",
    "                        n_jobs=1, train_sizes=np.linspace(.1, 1.0, 5)):\n",
    "    plt.figure()\n",
    "    plt.title(title)\n",
    "    if ylim is not None:\n",
    "        plt.ylim(*ylim)\n",
    "    plt.xlabel(\"Training examples\")\n",
    "    plt.ylabel(\"Score\")\n",
    "    train_sizes, train_scores, test_scores = learning_curve(\n",
    "        estimator, X, y, cv=cv, n_jobs=n_jobs, train_sizes=train_sizes)\n",
    "    train_scores_mean = np.mean(train_scores, axis=1)\n",
    "    train_scores_std = np.std(train_scores, axis=1)\n",
    "    test_scores_mean = np.mean(test_scores, axis=1)\n",
    "    test_scores_std = np.std(test_scores, axis=1)\n",
    "    plt.grid()\n",
    "    plt.fill_between(train_sizes, train_scores_mean - train_scores_std,\n",
    "                     train_scores_mean + train_scores_std, alpha=0.1,\n",
    "                     color=\"r\")\n",
    "    plt.fill_between(train_sizes, test_scores_mean - test_scores_std,\n",
    "                     test_scores_mean + test_scores_std, alpha=0.1, color=\"g\")\n",
    "    plt.plot(train_sizes, train_scores_mean, 'o-', color=\"r\",\n",
    "             label=\"Training score\")\n",
    "    plt.plot(train_sizes, test_scores_mean, 'o-', color=\"g\",\n",
    "             label=\"Cross-validation score\")\n",
    "\n",
    "    plt.legend(loc=\"best\")\n",
    "    return plt"
   ]
  },
  {
   "cell_type": "code",
   "execution_count": null,
   "metadata": {
    "collapsed": false
   },
   "outputs": [],
   "source": [
    "# estimator = LogisticRegression()\n",
    "# title = \"Learning curve Logistic Regression\"\n",
    "# #cv = cross_validation.ShuffleSplit(digits.data.shape[0], n_iter=100,test_size=0.2, random_state=0)\n",
    "# cv=StratifiedKFold(y,n_folds=5,shuffle=True,random_state=1)\n",
    "# # plot_learning_curve(estimator, title, X, y, ylim=(0.7, 1.01), cv=cv, n_jobs=4)\n",
    "# # plt.show()"
   ]
  },
  {
   "cell_type": "markdown",
   "metadata": {},
   "source": [
    "# Model building:\n",
    "\n",
    "**Make another version of the data where the minority response values are oversampled OR synthetically generated using SMOTE. First use the original dataset and then the altered for each model:[X,y OR X1,y1]**\n",
    "\n",
    "1) Fit following models using all features:\n",
    "    - Logistic Regression\n",
    "    - Naive Bayes\n",
    "    - K-Nearest Neighbor\n",
    "\n",
    "\n",
    "\n",
    "2) Plot learning curve for any (?) model that gives a decent accuracy to see if we have enough data in hand!!\n",
    "\n",
    "\n",
    "\n",
    "3) Fit ensemble models using all features:\n",
    "    - RandomForest\n",
    "    - Gradient Boosting Classifier\n",
    "    - Voting Classifier (combo of models from Step#1: show that base classifiers are better than a coin toss)\n",
    "    \n",
    " \n",
    "**Other points to think about:**\n",
    "\n",
    "1) K-fold cross-validation can be folded into the model: each run will give a score: we can get the median score.\n",
    "\n",
    "\n",
    "2) Feature selection: Regularization (C which is 1/lambda.. C=0.1 means high penalty. Apply Lasso). Find coefficients and discuss the importance. Look for intuitive explanations. \n",
    "2.1) For Logistic Regression and Naive Bayes, we will get probabilities so besides just looking at the median CV score,will it be useful to look at the confusion matrix, find TPR, FPR, plot a ROC curve and determine AUC? Is that of interest to Prudential??\n",
    "\n",
    "\n",
    "3) To simplify the model, if scores aren't great, we can even remove features showing multicollinearity. (Should we be looking at covariance?). Besides plotting a correlation matrix, will PCA help in finding out which features are colinear (since they will be on the same axis)?\n",
    "\n",
    "\n"
   ]
  },
  {
   "cell_type": "code",
   "execution_count": null,
   "metadata": {
    "collapsed": false
   },
   "outputs": [],
   "source": [
    "# Fit LOGISTIC REGRESSION model and compute the max cross_validation score over various K-folds.\n",
    "model_lr = LogisticRegression(penalty = 'l1',C=0.05) # Instantiate Logistic Regression model\n",
    "scores =[]\n",
    "jj = 0\n",
    "for ii in range(2,11):\n",
    "    scores.append(np.median(cross_val_score(model_lr, X, y, cv=StratifiedKFold(y, ii, shuffle=False))))\n",
    "    print \"{}-fold cross-validation score: {}\".format(ii,scores[jj])\n",
    "    jj += 1\n",
    "print '\\n'\"Best CV score: {}\".format(max(scores))\n",
    "with plt.style.context('fivethirtyeight'):\n",
    "    plt.plot(range(2,11),scores)\n",
    "    plt.xlabel('K-fold')\n",
    "    plt.ylabel('Cross-val score')\n",
    "plt.show()"
   ]
  },
  {
   "cell_type": "code",
   "execution_count": null,
   "metadata": {
    "collapsed": false
   },
   "outputs": [],
   "source": [
    "# find the CV score for 5-fold cross-validation\n",
    "cv_score_5fold = cross_val_score(model_lr,X,y,cv=5).mean()\n",
    "cv_score_5fold"
   ]
  },
  {
   "cell_type": "code",
   "execution_count": null,
   "metadata": {
    "collapsed": false
   },
   "outputs": [],
   "source": [
    "# To obtain coefficients of features, we need to do a test train split, fit, predict, score and get coefs\n",
    "X_train, X_test, y_train, y_test = train_test_split(X, y, test_size=0.4, random_state=0)\n",
    "lr_fitted = model_lr.fit(X_train,y_train)\n",
    "lr_fitted.score(X_test,y_test)\n",
    "(lr_fitted.coef_).max()"
   ]
  },
  {
   "cell_type": "code",
   "execution_count": null,
   "metadata": {
    "collapsed": false
   },
   "outputs": [],
   "source": [
    "# Run KNN classifer\n",
    "myknn = KNeighborsClassifier(5).fit(X_train,y_train)\n",
    "\n",
    "# Output KNN score by running the model trained on training data on the test data\n",
    "myknn.score(X_test, y_test)"
   ]
  },
  {
   "cell_type": "code",
   "execution_count": null,
   "metadata": {
    "collapsed": false
   },
   "outputs": [],
   "source": [
    "# Run 5-fold cross-validation\n",
    "model = KNeighborsClassifier(5)\n",
    "data = X\n",
    "label = y\n",
    "cross_val_score(model, data, label, cv=StratifiedKFold(label, 5, shuffle=False))"
   ]
  },
  {
   "cell_type": "code",
   "execution_count": null,
   "metadata": {
    "collapsed": false
   },
   "outputs": [],
   "source": [
    "# Fit a Naive Bayes Model\n",
    "nb = MultinomialNB()\n",
    "nb.fit(X_train, y_train)\n",
    "preds = nb.predict(X_test)\n",
    "print metrics.accuracy_score(y_test, preds)\n",
    "print metrics.confusion_matrix(y_test, preds)"
   ]
  },
  {
   "cell_type": "markdown",
   "metadata": {},
   "source": [
    "**Conclusions:**\n",
    "\n",
    "Using all features of df_sampled, all three models are performing poorly.\n",
    "- LR_accuracy: 35%\n",
    "- KNN_accruacy: 21%\n",
    "- Naive Bayes accuracy: 19%\n",
    "\n",
    "\n",
    "**Next steps:**\n",
    "\n",
    "- No point doing a Voting Classifier with above methods since individually all of them are bad.\n",
    "\n",
    "- Fit gradient boosting classifier and do a grid search\n",
    "\n",
    "- Synthetically upsample (SMOTE) response # 3,4 and downsample response 6,8 and see if performance of gradient boosting improves"
   ]
  },
  {
   "cell_type": "code",
   "execution_count": null,
   "metadata": {
    "collapsed": false
   },
   "outputs": [],
   "source": [
    "from sklearn.ensemble import GradientBoostingClassifier\n",
    "from sklearn.grid_search import GridSearchCV\n",
    "\n",
    "X = df_predictors_selected\n",
    "y = df_response_selected\n",
    "\n",
    "CV_FOLDS = 2\n",
    "\n",
    "# Set up grid search\n",
    "pgrid = {'learning_rate': [0.05, 0.1, 0.5], #'n_estimators': [1, 10, 100, 1000], \n",
    "         'subsample': [0.6, 0.75, 0.9],\n",
    "         'max_depth': [3,7,15]\n",
    "        }\n",
    "\n",
    "clf_grdbst = GradientBoostingClassifier(verbose=True)\n",
    "\n",
    "grid = GridSearchCV(clf_grdbst, param_grid=pgrid, cv = CV_FOLDS)\n",
    "grid.fit(X, y)"
   ]
  },
  {
   "cell_type": "code",
   "execution_count": null,
   "metadata": {
    "collapsed": false
   },
   "outputs": [],
   "source": [
    "grid.best_estimator_.score(X,y)"
   ]
  },
  {
   "cell_type": "code",
   "execution_count": null,
   "metadata": {
    "collapsed": false
   },
   "outputs": [],
   "source": [
    "grid.best_params_"
   ]
  },
  {
   "cell_type": "code",
   "execution_count": null,
   "metadata": {
    "collapsed": false
   },
   "outputs": [],
   "source": [
    "grid.best_score_"
   ]
  },
  {
   "cell_type": "code",
   "execution_count": null,
   "metadata": {
    "collapsed": false
   },
   "outputs": [],
   "source": [
    "grid.best_estimator_"
   ]
  },
  {
   "cell_type": "markdown",
   "metadata": {},
   "source": [
    "**Gradient boosting classifier accuracy = 46.6%**"
   ]
  },
  {
   "cell_type": "markdown",
   "metadata": {
    "collapsed": true
   },
   "source": [
    "Meta-learner:\n",
    "Bagging: data is randomly subsampled but with replacement so parts of the data can be drawnn again.\n",
    "Random feature is when a sampe of the features is selected. When these two are put together it is called patching."
   ]
  },
  {
   "cell_type": "code",
   "execution_count": null,
   "metadata": {
    "collapsed": true
   },
   "outputs": [],
   "source": [
    "# Feature engineering"
   ]
  }
 ],
 "metadata": {
  "kernelspec": {
   "display_name": "Python 2",
   "language": "python",
   "name": "python2"
  },
  "language_info": {
   "codemirror_mode": {
    "name": "ipython",
    "version": 2
   },
   "file_extension": ".py",
   "mimetype": "text/x-python",
   "name": "python",
   "nbconvert_exporter": "python",
   "pygments_lexer": "ipython2",
   "version": "2.7.10"
  }
 },
 "nbformat": 4,
 "nbformat_minor": 0
}
