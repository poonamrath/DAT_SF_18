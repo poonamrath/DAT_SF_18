{
 "cells": [
  {
   "cell_type": "code",
   "execution_count": 1,
   "metadata": {
    "collapsed": true
   },
   "outputs": [],
   "source": [
    "import pandas as pd\n",
    "import datetime as dt"
   ]
  },
  {
   "cell_type": "markdown",
   "metadata": {},
   "source": [
    "## Warmup: Working With Datetimes"
   ]
  },
  {
   "cell_type": "code",
   "execution_count": 2,
   "metadata": {
    "collapsed": false
   },
   "outputs": [
    {
     "data": {
      "text/html": [
       "<div>\n",
       "<table border=\"1\" class=\"dataframe\">\n",
       "  <thead>\n",
       "    <tr style=\"text-align: right;\">\n",
       "      <th></th>\n",
       "      <th>trip_date</th>\n",
       "      <th>searches</th>\n",
       "    </tr>\n",
       "  </thead>\n",
       "  <tbody>\n",
       "    <tr>\n",
       "      <th>0</th>\n",
       "      <td>7/1/14</td>\n",
       "      <td>715</td>\n",
       "    </tr>\n",
       "    <tr>\n",
       "      <th>1</th>\n",
       "      <td>7/2/14</td>\n",
       "      <td>733</td>\n",
       "    </tr>\n",
       "    <tr>\n",
       "      <th>2</th>\n",
       "      <td>7/3/14</td>\n",
       "      <td>832</td>\n",
       "    </tr>\n",
       "    <tr>\n",
       "      <th>3</th>\n",
       "      <td>7/4/14</td>\n",
       "      <td>1211</td>\n",
       "    </tr>\n",
       "    <tr>\n",
       "      <th>4</th>\n",
       "      <td>7/5/14</td>\n",
       "      <td>1321</td>\n",
       "    </tr>\n",
       "  </tbody>\n",
       "</table>\n",
       "</div>"
      ],
      "text/plain": [
       "  trip_date  searches\n",
       "0    7/1/14       715\n",
       "1    7/2/14       733\n",
       "2    7/3/14       832\n",
       "3    7/4/14      1211\n",
       "4    7/5/14      1321"
      ]
     },
     "execution_count": 2,
     "metadata": {},
     "output_type": "execute_result"
    }
   ],
   "source": [
    "df = pd.read_csv('warmup_data.csv')\n",
    "df.head()"
   ]
  },
  {
   "cell_type": "code",
   "execution_count": 3,
   "metadata": {
    "collapsed": false
   },
   "outputs": [
    {
     "name": "stdout",
     "output_type": "stream",
     "text": [
      "<class 'pandas.core.frame.DataFrame'>\n",
      "Int64Index: 365 entries, 0 to 364\n",
      "Data columns (total 2 columns):\n",
      "trip_date    365 non-null object\n",
      "searches     365 non-null int64\n",
      "dtypes: int64(1), object(1)\n",
      "memory usage: 8.6+ KB\n"
     ]
    }
   ],
   "source": [
    "df.info()"
   ]
  },
  {
   "cell_type": "markdown",
   "metadata": {},
   "source": [
    "### Exercise 1:\n",
    "- Convert the date column to datetime\n",
    "- Bonus: do it in one line!"
   ]
  },
  {
   "cell_type": "code",
<<<<<<< HEAD
<<<<<<< HEAD
   "execution_count": 11,
   "metadata": {
    "collapsed": false,
    "scrolled": true
=======
   "execution_count": null,
   "metadata": {
    "collapsed": true
>>>>>>> 207b977f5a901cb3bf5d74da97a971998bcb3637
=======
   "execution_count": null,
   "metadata": {
    "collapsed": true
>>>>>>> ccc74681d89202f919b857d3f7f9684d336a4c50
   },
   "outputs": [],
   "source": [
    "#Your code here\n",
<<<<<<< HEAD
<<<<<<< HEAD
    "#x = dt.datetime.strftime()\n",
    "x = '7/4/14'\n",
    "#dt.datetime.strptime(x,'%m/%d/%y')\n",
    "df.trip_date = df.trip_date.apply(lambda x: dt.datetime.strptime(x, '%m/%d/%y'))\n",
    "    \n",
=======
    "\n",
    "\n",
>>>>>>> 207b977f5a901cb3bf5d74da97a971998bcb3637
=======
    "\n",
    "\n",
>>>>>>> ccc74681d89202f919b857d3f7f9684d336a4c50
    "\n"
   ]
  },
  {
<<<<<<< HEAD
<<<<<<< HEAD
   "cell_type": "code",
   "execution_count": 18,
   "metadata": {
    "collapsed": false
   },
   "outputs": [
    {
     "data": {
      "text/html": [
       "<div>\n",
       "<table border=\"1\" class=\"dataframe\">\n",
       "  <thead>\n",
       "    <tr style=\"text-align: right;\">\n",
       "      <th></th>\n",
       "      <th>trip_date</th>\n",
       "      <th>searches</th>\n",
       "      <th>col</th>\n",
       "      <th>datetime</th>\n",
       "    </tr>\n",
       "  </thead>\n",
       "  <tbody>\n",
       "    <tr>\n",
       "      <th>0</th>\n",
       "      <td>2014-07-01</td>\n",
       "      <td>715</td>\n",
       "      <td>2014-07-01</td>\n",
       "      <td>2014-07-01</td>\n",
       "    </tr>\n",
       "    <tr>\n",
       "      <th>1</th>\n",
       "      <td>2014-07-02</td>\n",
       "      <td>733</td>\n",
       "      <td>2014-07-02</td>\n",
       "      <td>2014-07-02</td>\n",
       "    </tr>\n",
       "    <tr>\n",
       "      <th>2</th>\n",
       "      <td>2014-07-03</td>\n",
       "      <td>832</td>\n",
       "      <td>2014-07-03</td>\n",
       "      <td>2014-07-03</td>\n",
       "    </tr>\n",
       "    <tr>\n",
       "      <th>3</th>\n",
       "      <td>2014-07-04</td>\n",
       "      <td>1211</td>\n",
       "      <td>2014-07-04</td>\n",
       "      <td>2014-07-04</td>\n",
       "    </tr>\n",
       "    <tr>\n",
       "      <th>4</th>\n",
       "      <td>2014-07-05</td>\n",
       "      <td>1321</td>\n",
       "      <td>2014-07-05</td>\n",
       "      <td>2014-07-05</td>\n",
       "    </tr>\n",
       "  </tbody>\n",
       "</table>\n",
       "</div>"
      ],
      "text/plain": [
       "   trip_date  searches        col   datetime\n",
       "0 2014-07-01       715 2014-07-01 2014-07-01\n",
       "1 2014-07-02       733 2014-07-02 2014-07-02\n",
       "2 2014-07-03       832 2014-07-03 2014-07-03\n",
       "3 2014-07-04      1211 2014-07-04 2014-07-04\n",
       "4 2014-07-05      1321 2014-07-05 2014-07-05"
      ]
     },
     "execution_count": 18,
     "metadata": {},
     "output_type": "execute_result"
    }
   ],
   "source": [
    "df['datetime'] = pd.to_datetime(df['trip_date'])\n",
    "df.head()"
   ]
  },
  {
   "cell_type": "code",
   "execution_count": 19,
   "metadata": {
    "collapsed": false
   },
   "outputs": [
    {
     "name": "stdout",
     "output_type": "stream",
     "text": [
      "<class 'pandas.core.frame.DataFrame'>\n",
      "Int64Index: 365 entries, 0 to 364\n",
      "Data columns (total 4 columns):\n",
      "trip_date    365 non-null datetime64[ns]\n",
      "searches     365 non-null int64\n",
      "col          365 non-null datetime64[ns]\n",
      "datetime     365 non-null datetime64[ns]\n",
      "dtypes: datetime64[ns](3), int64(1)\n",
      "memory usage: 14.3 KB\n"
     ]
    }
   ],
   "source": [
    "df.info()"
   ]
  },
  {
   "cell_type": "code",
   "execution_count": 12,
   "metadata": {
    "collapsed": false
   },
   "outputs": [
    {
     "data": {
      "text/html": [
       "<div>\n",
       "<table border=\"1\" class=\"dataframe\">\n",
       "  <thead>\n",
       "    <tr style=\"text-align: right;\">\n",
       "      <th></th>\n",
       "      <th>trip_date</th>\n",
       "      <th>searches</th>\n",
       "      <th>col</th>\n",
       "    </tr>\n",
       "  </thead>\n",
       "  <tbody>\n",
       "    <tr>\n",
       "      <th>0</th>\n",
       "      <td>2014-07-01</td>\n",
       "      <td>715</td>\n",
       "      <td>2014-07-01</td>\n",
       "    </tr>\n",
       "    <tr>\n",
       "      <th>1</th>\n",
       "      <td>2014-07-02</td>\n",
       "      <td>733</td>\n",
       "      <td>2014-07-02</td>\n",
       "    </tr>\n",
       "    <tr>\n",
       "      <th>2</th>\n",
       "      <td>2014-07-03</td>\n",
       "      <td>832</td>\n",
       "      <td>2014-07-03</td>\n",
       "    </tr>\n",
       "    <tr>\n",
       "      <th>3</th>\n",
       "      <td>2014-07-04</td>\n",
       "      <td>1211</td>\n",
       "      <td>2014-07-04</td>\n",
       "    </tr>\n",
       "    <tr>\n",
       "      <th>4</th>\n",
       "      <td>2014-07-05</td>\n",
       "      <td>1321</td>\n",
       "      <td>2014-07-05</td>\n",
       "    </tr>\n",
       "  </tbody>\n",
       "</table>\n",
       "</div>"
      ],
      "text/plain": [
       "   trip_date  searches        col\n",
       "0 2014-07-01       715 2014-07-01\n",
       "1 2014-07-02       733 2014-07-02\n",
       "2 2014-07-03       832 2014-07-03\n",
       "3 2014-07-04      1211 2014-07-04\n",
       "4 2014-07-05      1321 2014-07-05"
      ]
     },
     "execution_count": 12,
     "metadata": {},
     "output_type": "execute_result"
    }
   ],
   "source": [
    "df.head()"
   ]
  },
  {
   "cell_type": "code",
   "execution_count": 9,
   "metadata": {
    "collapsed": true
   },
   "outputs": [
    {
     "data": {
      "text/plain": [
       "0     2014-07-01\n",
       "1     2014-07-02\n",
       "2     2014-07-03\n",
       "3     2014-07-04\n",
       "4     2014-07-05\n",
       "5     2014-07-06\n",
       "6     2014-07-07\n",
       "7     2014-07-08\n",
       "8     2014-07-09\n",
       "9     2014-07-10\n",
       "10    2014-07-11\n",
       "11    2014-07-12\n",
       "12    2014-07-13\n",
       "13    2014-07-14\n",
       "14    2014-07-15\n",
       "15    2014-07-16\n",
       "16    2014-07-17\n",
       "17    2014-07-18\n",
       "18    2014-07-19\n",
       "19    2014-07-20\n",
       "20    2014-07-21\n",
       "21    2014-07-22\n",
       "22    2014-07-23\n",
       "23    2014-07-24\n",
       "24    2014-07-25\n",
       "25    2014-07-26\n",
       "26    2014-07-27\n",
       "27    2014-07-28\n",
       "28    2014-07-29\n",
       "29    2014-07-30\n",
       "         ...    \n",
       "335   2015-06-01\n",
       "336   2015-06-02\n",
       "337   2015-06-03\n",
       "338   2015-06-04\n",
       "339   2015-06-05\n",
       "340   2015-06-06\n",
       "341   2015-06-07\n",
       "342   2015-06-08\n",
       "343   2015-06-09\n",
       "344   2015-06-10\n",
       "345   2015-06-11\n",
       "346   2015-06-12\n",
       "347   2015-06-13\n",
       "348   2015-06-14\n",
       "349   2015-06-15\n",
       "350   2015-06-16\n",
       "351   2015-06-17\n",
       "352   2015-06-18\n",
       "353   2015-06-19\n",
       "354   2015-06-20\n",
       "355   2015-06-21\n",
       "356   2015-06-22\n",
       "357   2015-06-23\n",
       "358   2015-06-24\n",
       "359   2015-06-25\n",
       "360   2015-06-26\n",
       "361   2015-06-27\n",
       "362   2015-06-28\n",
       "363   2015-06-29\n",
       "364   2015-06-30\n",
       "Name: trip_date, dtype: datetime64[ns]"
      ]
     },
     "execution_count": 9,
     "metadata": {},
     "output_type": "execute_result"
    }
   ],
   "source": [
    "pd.to_datetime(df['trip_date'])"
   ]
  },
  {
=======
>>>>>>> 207b977f5a901cb3bf5d74da97a971998bcb3637
=======
>>>>>>> ccc74681d89202f919b857d3f7f9684d336a4c50
   "cell_type": "markdown",
   "metadata": {},
   "source": [
    "### Exercise 2: \n",
    "- Find the total searches between 12/25/14 and 1/3/15"
   ]
  },
  {
   "cell_type": "code",
<<<<<<< HEAD
<<<<<<< HEAD
   "execution_count": 13,
   "metadata": {
    "collapsed": false,
    "scrolled": true
   },
   "outputs": [
    {
     "ename": "ValueError",
     "evalue": "Must specify two of start, end, or periods",
     "output_type": "error",
     "traceback": [
      "\u001b[0;31m---------------------------------------------------------------------------\u001b[0m",
      "\u001b[0;31mValueError\u001b[0m                                Traceback (most recent call last)",
      "\u001b[0;32m<ipython-input-13-660f1074dcd7>\u001b[0m in \u001b[0;36m<module>\u001b[0;34m()\u001b[0m\n\u001b[1;32m      3\u001b[0m \u001b[0mdf1\u001b[0m  \u001b[0;34m=\u001b[0m \u001b[0mdf\u001b[0m\u001b[0;34m[\u001b[0m\u001b[0mdf\u001b[0m\u001b[0;34m.\u001b[0m\u001b[0mtrip_date\u001b[0m\u001b[0;34m>\u001b[0m\u001b[0;34m'2014'\u001b[0m\u001b[0;34m]\u001b[0m\u001b[0;34m\u001b[0m\u001b[0m\n\u001b[1;32m      4\u001b[0m \u001b[0;34m\u001b[0m\u001b[0m\n\u001b[0;32m----> 5\u001b[0;31m \u001b[0mpd\u001b[0m\u001b[0;34m.\u001b[0m\u001b[0mdate_range\u001b[0m\u001b[0;34m(\u001b[0m\u001b[0;34m)\u001b[0m\u001b[0;34m\u001b[0m\u001b[0m\n\u001b[0m",
      "\u001b[0;32m/Users/PoonamRath/anaconda/lib/python2.7/site-packages/pandas/tseries/index.pyc\u001b[0m in \u001b[0;36mdate_range\u001b[0;34m(start, end, periods, freq, tz, normalize, name, closed)\u001b[0m\n\u001b[1;32m   1912\u001b[0m     return DatetimeIndex(start=start, end=end, periods=periods,\n\u001b[1;32m   1913\u001b[0m                          \u001b[0mfreq\u001b[0m\u001b[0;34m=\u001b[0m\u001b[0mfreq\u001b[0m\u001b[0;34m,\u001b[0m \u001b[0mtz\u001b[0m\u001b[0;34m=\u001b[0m\u001b[0mtz\u001b[0m\u001b[0;34m,\u001b[0m \u001b[0mnormalize\u001b[0m\u001b[0;34m=\u001b[0m\u001b[0mnormalize\u001b[0m\u001b[0;34m,\u001b[0m \u001b[0mname\u001b[0m\u001b[0;34m=\u001b[0m\u001b[0mname\u001b[0m\u001b[0;34m,\u001b[0m\u001b[0;34m\u001b[0m\u001b[0m\n\u001b[0;32m-> 1914\u001b[0;31m                          closed=closed)\n\u001b[0m\u001b[1;32m   1915\u001b[0m \u001b[0;34m\u001b[0m\u001b[0m\n\u001b[1;32m   1916\u001b[0m \u001b[0;34m\u001b[0m\u001b[0m\n",
      "\u001b[0;32m/Users/PoonamRath/anaconda/lib/python2.7/site-packages/pandas/util/decorators.pyc\u001b[0m in \u001b[0;36mwrapper\u001b[0;34m(*args, **kwargs)\u001b[0m\n\u001b[1;32m     87\u001b[0m                 \u001b[0;32melse\u001b[0m\u001b[0;34m:\u001b[0m\u001b[0;34m\u001b[0m\u001b[0m\n\u001b[1;32m     88\u001b[0m                     \u001b[0mkwargs\u001b[0m\u001b[0;34m[\u001b[0m\u001b[0mnew_arg_name\u001b[0m\u001b[0;34m]\u001b[0m \u001b[0;34m=\u001b[0m \u001b[0mnew_arg_value\u001b[0m\u001b[0;34m\u001b[0m\u001b[0m\n\u001b[0;32m---> 89\u001b[0;31m             \u001b[0;32mreturn\u001b[0m \u001b[0mfunc\u001b[0m\u001b[0;34m(\u001b[0m\u001b[0;34m*\u001b[0m\u001b[0margs\u001b[0m\u001b[0;34m,\u001b[0m \u001b[0;34m**\u001b[0m\u001b[0mkwargs\u001b[0m\u001b[0;34m)\u001b[0m\u001b[0;34m\u001b[0m\u001b[0m\n\u001b[0m\u001b[1;32m     90\u001b[0m         \u001b[0;32mreturn\u001b[0m \u001b[0mwrapper\u001b[0m\u001b[0;34m\u001b[0m\u001b[0m\n\u001b[1;32m     91\u001b[0m     \u001b[0;32mreturn\u001b[0m \u001b[0m_deprecate_kwarg\u001b[0m\u001b[0;34m\u001b[0m\u001b[0m\n",
      "\u001b[0;32m/Users/PoonamRath/anaconda/lib/python2.7/site-packages/pandas/tseries/index.pyc\u001b[0m in \u001b[0;36m__new__\u001b[0;34m(cls, data, freq, start, end, periods, copy, name, tz, verify_integrity, normalize, closed, ambiguous, dtype, **kwargs)\u001b[0m\n\u001b[1;32m    234\u001b[0m             return cls._generate(start, end, periods, name, freq,\n\u001b[1;32m    235\u001b[0m                                  \u001b[0mtz\u001b[0m\u001b[0;34m=\u001b[0m\u001b[0mtz\u001b[0m\u001b[0;34m,\u001b[0m \u001b[0mnormalize\u001b[0m\u001b[0;34m=\u001b[0m\u001b[0mnormalize\u001b[0m\u001b[0;34m,\u001b[0m \u001b[0mclosed\u001b[0m\u001b[0;34m=\u001b[0m\u001b[0mclosed\u001b[0m\u001b[0;34m,\u001b[0m\u001b[0;34m\u001b[0m\u001b[0m\n\u001b[0;32m--> 236\u001b[0;31m                                  ambiguous=ambiguous)\n\u001b[0m\u001b[1;32m    237\u001b[0m \u001b[0;34m\u001b[0m\u001b[0m\n\u001b[1;32m    238\u001b[0m         \u001b[0;32mif\u001b[0m \u001b[0;32mnot\u001b[0m \u001b[0misinstance\u001b[0m\u001b[0;34m(\u001b[0m\u001b[0mdata\u001b[0m\u001b[0;34m,\u001b[0m \u001b[0;34m(\u001b[0m\u001b[0mnp\u001b[0m\u001b[0;34m.\u001b[0m\u001b[0mndarray\u001b[0m\u001b[0;34m,\u001b[0m \u001b[0mIndex\u001b[0m\u001b[0;34m,\u001b[0m \u001b[0mABCSeries\u001b[0m\u001b[0;34m)\u001b[0m\u001b[0;34m)\u001b[0m\u001b[0;34m:\u001b[0m\u001b[0;34m\u001b[0m\u001b[0m\n",
      "\u001b[0;32m/Users/PoonamRath/anaconda/lib/python2.7/site-packages/pandas/tseries/index.pyc\u001b[0m in \u001b[0;36m_generate\u001b[0;34m(cls, start, end, periods, name, offset, tz, normalize, ambiguous, closed)\u001b[0m\n\u001b[1;32m    378\u001b[0m                   tz=None, normalize=False, ambiguous='raise', closed=None):\n\u001b[1;32m    379\u001b[0m         \u001b[0;32mif\u001b[0m \u001b[0mcom\u001b[0m\u001b[0;34m.\u001b[0m\u001b[0m_count_not_none\u001b[0m\u001b[0;34m(\u001b[0m\u001b[0mstart\u001b[0m\u001b[0;34m,\u001b[0m \u001b[0mend\u001b[0m\u001b[0;34m,\u001b[0m \u001b[0mperiods\u001b[0m\u001b[0;34m)\u001b[0m \u001b[0;34m!=\u001b[0m \u001b[0;36m2\u001b[0m\u001b[0;34m:\u001b[0m\u001b[0;34m\u001b[0m\u001b[0m\n\u001b[0;32m--> 380\u001b[0;31m             \u001b[0;32mraise\u001b[0m \u001b[0mValueError\u001b[0m\u001b[0;34m(\u001b[0m\u001b[0;34m'Must specify two of start, end, or periods'\u001b[0m\u001b[0;34m)\u001b[0m\u001b[0;34m\u001b[0m\u001b[0m\n\u001b[0m\u001b[1;32m    381\u001b[0m \u001b[0;34m\u001b[0m\u001b[0m\n\u001b[1;32m    382\u001b[0m         \u001b[0m_normalized\u001b[0m \u001b[0;34m=\u001b[0m \u001b[0mTrue\u001b[0m\u001b[0;34m\u001b[0m\u001b[0m\n",
      "\u001b[0;31mValueError\u001b[0m: Must specify two of start, end, or periods"
     ]
    }
   ],
   "source": [
    "#your code here\n",
    "date_filter = pd.date_range('2014-12-25','2015-01-03')\n",
    "df1  = df[df.trip_date>'2014']\n",
    "\n",
    "pd.date_range()\n"
=======
=======
>>>>>>> ccc74681d89202f919b857d3f7f9684d336a4c50
   "execution_count": null,
   "metadata": {
    "collapsed": true
   },
   "outputs": [],
   "source": [
    "#your code here\n",
    "\n",
    "\n"
<<<<<<< HEAD
>>>>>>> 207b977f5a901cb3bf5d74da97a971998bcb3637
=======
>>>>>>> ccc74681d89202f919b857d3f7f9684d336a4c50
   ]
  },
  {
   "cell_type": "markdown",
   "metadata": {},
   "source": [
    "### Exercise 3: \n",
    "- Did Saturdays or Sundays have more total searches in January?"
   ]
  },
  {
   "cell_type": "code",
<<<<<<< HEAD
<<<<<<< HEAD
   "execution_count": 14,
   "metadata": {
    "collapsed": false
   },
   "outputs": [
    {
     "data": {
      "text/plain": [
       "4"
      ]
     },
     "execution_count": 14,
     "metadata": {},
     "output_type": "execute_result"
    }
   ],
   "source": [
    "#your code here\n",
    "x = '7/4/14'\n",
    "dt.datetime.strptime(x,'%m/%d/%y').weekday()\n",
=======
=======
>>>>>>> ccc74681d89202f919b857d3f7f9684d336a4c50
   "execution_count": 4,
   "metadata": {
    "collapsed": true
   },
   "outputs": [],
   "source": [
    "#your code here\n",
    "\n",
<<<<<<< HEAD
>>>>>>> 207b977f5a901cb3bf5d74da97a971998bcb3637
=======
>>>>>>> ccc74681d89202f919b857d3f7f9684d336a4c50
    "\n",
    "\n"
   ]
  },
  {
   "cell_type": "code",
<<<<<<< HEAD
<<<<<<< HEAD
   "execution_count": 15,
   "metadata": {
    "collapsed": false
   },
   "outputs": [
    {
     "data": {
      "text/plain": [
       "0      1\n",
       "1      2\n",
       "2      3\n",
       "3      4\n",
       "4      5\n",
       "5      6\n",
       "6      0\n",
       "7      1\n",
       "8      2\n",
       "9      3\n",
       "10     4\n",
       "11     5\n",
       "12     6\n",
       "13     0\n",
       "14     1\n",
       "15     2\n",
       "16     3\n",
       "17     4\n",
       "18     5\n",
       "19     6\n",
       "20     0\n",
       "21     1\n",
       "22     2\n",
       "23     3\n",
       "24     4\n",
       "25     5\n",
       "26     6\n",
       "27     0\n",
       "28     1\n",
       "29     2\n",
       "      ..\n",
       "335    0\n",
       "336    1\n",
       "337    2\n",
       "338    3\n",
       "339    4\n",
       "340    5\n",
       "341    6\n",
       "342    0\n",
       "343    1\n",
       "344    2\n",
       "345    3\n",
       "346    4\n",
       "347    5\n",
       "348    6\n",
       "349    0\n",
       "350    1\n",
       "351    2\n",
       "352    3\n",
       "353    4\n",
       "354    5\n",
       "355    6\n",
       "356    0\n",
       "357    1\n",
       "358    2\n",
       "359    3\n",
       "360    4\n",
       "361    5\n",
       "362    6\n",
       "363    0\n",
       "364    1\n",
       "Name: trip_date, dtype: int64"
      ]
     },
     "execution_count": 15,
     "metadata": {},
     "output_type": "execute_result"
    }
   ],
   "source": [
    "df.trip_date.apply(lambda x: x.weekday())"
   ]
  },
  {
   "cell_type": "code",
=======
>>>>>>> 207b977f5a901cb3bf5d74da97a971998bcb3637
=======
>>>>>>> ccc74681d89202f919b857d3f7f9684d336a4c50
   "execution_count": null,
   "metadata": {
    "collapsed": true
   },
   "outputs": [],
   "source": []
  }
 ],
 "metadata": {
  "kernelspec": {
   "display_name": "Python 2",
   "language": "python",
   "name": "python2"
  },
  "language_info": {
   "codemirror_mode": {
    "name": "ipython",
    "version": 2
   },
   "file_extension": ".py",
   "mimetype": "text/x-python",
   "name": "python",
   "nbconvert_exporter": "python",
   "pygments_lexer": "ipython2",
<<<<<<< HEAD
<<<<<<< HEAD
   "version": "2.7.10"
=======
   "version": "2.7.11"
>>>>>>> 207b977f5a901cb3bf5d74da97a971998bcb3637
=======
   "version": "2.7.11"
>>>>>>> ccc74681d89202f919b857d3f7f9684d336a4c50
  }
 },
 "nbformat": 4,
 "nbformat_minor": 0
}
