{
 "cells": [
  {
   "cell_type": "code",
   "execution_count": 1,
   "metadata": {
    "collapsed": true
   },
   "outputs": [],
   "source": [
    "import pandas as pd"
   ]
  },
  {
   "cell_type": "code",
   "execution_count": 2,
   "metadata": {
    "collapsed": true
   },
   "outputs": [],
   "source": [
    "df = pd.read_csv('data/lab5warmupdata.txt', delimiter='\\t')"
   ]
  },
  {
   "cell_type": "code",
   "execution_count": 3,
   "metadata": {
    "collapsed": false
   },
   "outputs": [
    {
     "data": {
      "text/html": [
       "<div style=\"max-height:1000px;max-width:1500px;overflow:auto;\">\n",
       "<table border=\"1\" class=\"dataframe\">\n",
       "  <thead>\n",
       "    <tr style=\"text-align: right;\">\n",
       "      <th></th>\n",
       "      <th>number1</th>\n",
       "      <th>number2</th>\n",
       "    </tr>\n",
       "  </thead>\n",
       "  <tbody>\n",
       "    <tr>\n",
       "      <th>0</th>\n",
       "      <td> 0,589</td>\n",
       "      <td> '0,589'</td>\n",
       "    </tr>\n",
       "    <tr>\n",
       "      <th>1</th>\n",
       "      <td> 0,578</td>\n",
       "      <td> '0,578'</td>\n",
       "    </tr>\n",
       "    <tr>\n",
       "      <th>2</th>\n",
       "      <td> 7,779</td>\n",
       "      <td> '7,779'</td>\n",
       "    </tr>\n",
       "    <tr>\n",
       "      <th>3</th>\n",
       "      <td> 0,139</td>\n",
       "      <td> '0,139'</td>\n",
       "    </tr>\n",
       "    <tr>\n",
       "      <th>4</th>\n",
       "      <td> 1,687</td>\n",
       "      <td> '1,687'</td>\n",
       "    </tr>\n",
       "  </tbody>\n",
       "</table>\n",
       "</div>"
      ],
      "text/plain": [
       "  number1  number2\n",
       "0   0,589  '0,589'\n",
       "1   0,578  '0,578'\n",
       "2   7,779  '7,779'\n",
       "3   0,139  '0,139'\n",
       "4   1,687  '1,687'"
      ]
     },
     "execution_count": 3,
     "metadata": {},
     "output_type": "execute_result"
    }
   ],
   "source": [
    "df.head()"
   ]
  },
  {
   "cell_type": "code",
   "execution_count": 4,
   "metadata": {
    "collapsed": false
   },
   "outputs": [
    {
     "data": {
      "text/plain": [
       "str"
      ]
     },
     "execution_count": 4,
     "metadata": {},
     "output_type": "execute_result"
    }
   ],
   "source": [
    "type(df['number2'][0])"
   ]
  },
  {
   "cell_type": "markdown",
   "metadata": {},
   "source": [
    "####Exercise 1: Strip the extra comma from the number1 column and convert to integer"
   ]
  },
  {
   "cell_type": "code",
   "execution_count": 5,
   "metadata": {
    "collapsed": true
   },
   "outputs": [
    {
     "data": {
      "text/plain": [
       "0      589\n",
       "1      578\n",
       "2     7779\n",
       "3      139\n",
       "4     1687\n",
       "5     3246\n",
       "6      254\n",
       "7     3133\n",
       "8     9446\n",
       "9     6241\n",
       "10    4922\n",
       "11    4657\n",
       "12    5134\n",
       "13    4947\n",
       "14    5988\n",
       "15    1376\n",
       "16     291\n",
       "17    1515\n",
       "18    3126\n",
       "19     853\n",
       "20    2768\n",
       "21    6738\n",
       "22    8168\n",
       "23     181\n",
       "24    6760\n",
       "25    2199\n",
       "26    2207\n",
       "27    5145\n",
       "28    8247\n",
       "29    7646\n",
       "30     941\n",
       "31    1886\n",
       "32    4981\n",
       "33    2140\n",
       "34    6987\n",
       "35     326\n",
       "36    2867\n",
       "37    4890\n",
       "38    8625\n",
       "39    4475\n",
       "40     903\n",
       "Name: number1, dtype: int64"
      ]
     },
     "execution_count": 5,
     "metadata": {},
     "output_type": "execute_result"
    }
   ],
   "source": [
    "# #Your code here\n",
    "# df['number1'] = df['number1'].apply(lambda x: x.replace(',', '')).astype(int)\n",
    "# df.number1"
   ]
  },
  {
   "cell_type": "code",
   "execution_count": 5,
   "metadata": {
    "collapsed": true
   },
   "outputs": [
    {
     "data": {
      "text/plain": [
       "0     0589\n",
       "1     0578\n",
       "2     7779\n",
       "3     0139\n",
       "4     1687\n",
       "5     3246\n",
       "6     0254\n",
       "7     3133\n",
       "8     9446\n",
       "9     6241\n",
       "10    4922\n",
       "11    4657\n",
       "12    5134\n",
       "13    4947\n",
       "14    5988\n",
       "15    1376\n",
       "16    0291\n",
       "17    1515\n",
       "18    3126\n",
       "19    0853\n",
       "20    2768\n",
       "21    6738\n",
       "22    8168\n",
       "23    0181\n",
       "24    6760\n",
       "25    2199\n",
       "26    2207\n",
       "27    5145\n",
       "28    8247\n",
       "29    7646\n",
       "30    0941\n",
       "31    1886\n",
       "32    4981\n",
       "33    2140\n",
       "34    6987\n",
       "35    0326\n",
       "36    2867\n",
       "37    4890\n",
       "38    8625\n",
       "39    4475\n",
       "40    0903\n",
       "Name: number1, dtype: object"
      ]
     },
     "execution_count": 5,
     "metadata": {},
     "output_type": "execute_result"
    }
   ],
   "source": [
    "def replace_comma(x):\n",
    "    return x.replace(\",\",\"\")\n",
    "df.number1.apply(replace_comma)"
   ]
  },
  {
   "cell_type": "code",
   "execution_count": 7,
   "metadata": {
    "collapsed": true
   },
   "outputs": [
    {
     "data": {
      "text/plain": [
       "0     0589\n",
       "1     0578\n",
       "2     7779\n",
       "3     0139\n",
       "4     1687\n",
       "5     3246\n",
       "6     0254\n",
       "7     3133\n",
       "8     9446\n",
       "9     6241\n",
       "10    4922\n",
       "11    4657\n",
       "12    5134\n",
       "13    4947\n",
       "14    5988\n",
       "15    1376\n",
       "16    0291\n",
       "17    1515\n",
       "18    3126\n",
       "19    0853\n",
       "20    2768\n",
       "21    6738\n",
       "22    8168\n",
       "23    0181\n",
       "24    6760\n",
       "25    2199\n",
       "26    2207\n",
       "27    5145\n",
       "28    8247\n",
       "29    7646\n",
       "30    0941\n",
       "31    1886\n",
       "32    4981\n",
       "33    2140\n",
       "34    6987\n",
       "35    0326\n",
       "36    2867\n",
       "37    4890\n",
       "38    8625\n",
       "39    4475\n",
       "40    0903\n",
       "Name: number1, dtype: object"
      ]
     },
     "execution_count": 7,
     "metadata": {},
     "output_type": "execute_result"
    }
   ],
   "source": [
    "df.number1= df.number1.apply(replace_comma)\n",
    "df.number1"
   ]
  },
  {
   "cell_type": "code",
   "execution_count": 14,
   "metadata": {
    "collapsed": true
   },
   "outputs": [
    {
     "data": {
      "text/html": [
       "<div style=\"max-height:1000px;max-width:1500px;overflow:auto;\">\n",
       "<table border=\"1\" class=\"dataframe\">\n",
       "  <thead>\n",
       "    <tr style=\"text-align: right;\">\n",
       "      <th></th>\n",
       "      <th>number1</th>\n",
       "      <th>number2</th>\n",
       "    </tr>\n",
       "  </thead>\n",
       "  <tbody>\n",
       "    <tr>\n",
       "      <th>0 </th>\n",
       "      <td> 0589</td>\n",
       "      <td> '0,589'</td>\n",
       "    </tr>\n",
       "    <tr>\n",
       "      <th>1 </th>\n",
       "      <td> 0578</td>\n",
       "      <td> '0,578'</td>\n",
       "    </tr>\n",
       "    <tr>\n",
       "      <th>2 </th>\n",
       "      <td> 7779</td>\n",
       "      <td> '7,779'</td>\n",
       "    </tr>\n",
       "    <tr>\n",
       "      <th>3 </th>\n",
       "      <td> 0139</td>\n",
       "      <td> '0,139'</td>\n",
       "    </tr>\n",
       "    <tr>\n",
       "      <th>4 </th>\n",
       "      <td> 1687</td>\n",
       "      <td> '1,687'</td>\n",
       "    </tr>\n",
       "    <tr>\n",
       "      <th>5 </th>\n",
       "      <td> 3246</td>\n",
       "      <td> '3,246'</td>\n",
       "    </tr>\n",
       "    <tr>\n",
       "      <th>6 </th>\n",
       "      <td> 0254</td>\n",
       "      <td> '0,254'</td>\n",
       "    </tr>\n",
       "    <tr>\n",
       "      <th>7 </th>\n",
       "      <td> 3133</td>\n",
       "      <td> '3,133'</td>\n",
       "    </tr>\n",
       "    <tr>\n",
       "      <th>8 </th>\n",
       "      <td> 9446</td>\n",
       "      <td> '9,446'</td>\n",
       "    </tr>\n",
       "    <tr>\n",
       "      <th>9 </th>\n",
       "      <td> 6241</td>\n",
       "      <td> '6,241'</td>\n",
       "    </tr>\n",
       "    <tr>\n",
       "      <th>10</th>\n",
       "      <td> 4922</td>\n",
       "      <td> '4,922'</td>\n",
       "    </tr>\n",
       "    <tr>\n",
       "      <th>11</th>\n",
       "      <td> 4657</td>\n",
       "      <td> '4,657'</td>\n",
       "    </tr>\n",
       "    <tr>\n",
       "      <th>12</th>\n",
       "      <td> 5134</td>\n",
       "      <td> '5,134'</td>\n",
       "    </tr>\n",
       "    <tr>\n",
       "      <th>13</th>\n",
       "      <td> 4947</td>\n",
       "      <td> '4,947'</td>\n",
       "    </tr>\n",
       "    <tr>\n",
       "      <th>14</th>\n",
       "      <td> 5988</td>\n",
       "      <td> '5,988'</td>\n",
       "    </tr>\n",
       "    <tr>\n",
       "      <th>15</th>\n",
       "      <td> 1376</td>\n",
       "      <td> '1,376'</td>\n",
       "    </tr>\n",
       "    <tr>\n",
       "      <th>16</th>\n",
       "      <td> 0291</td>\n",
       "      <td> '0,291'</td>\n",
       "    </tr>\n",
       "    <tr>\n",
       "      <th>17</th>\n",
       "      <td> 1515</td>\n",
       "      <td> '1,515'</td>\n",
       "    </tr>\n",
       "    <tr>\n",
       "      <th>18</th>\n",
       "      <td> 3126</td>\n",
       "      <td> '3,126'</td>\n",
       "    </tr>\n",
       "    <tr>\n",
       "      <th>19</th>\n",
       "      <td> 0853</td>\n",
       "      <td> '0,853'</td>\n",
       "    </tr>\n",
       "    <tr>\n",
       "      <th>20</th>\n",
       "      <td> 2768</td>\n",
       "      <td> '2,768'</td>\n",
       "    </tr>\n",
       "    <tr>\n",
       "      <th>21</th>\n",
       "      <td> 6738</td>\n",
       "      <td> '6,738'</td>\n",
       "    </tr>\n",
       "    <tr>\n",
       "      <th>22</th>\n",
       "      <td> 8168</td>\n",
       "      <td> '8,168'</td>\n",
       "    </tr>\n",
       "    <tr>\n",
       "      <th>23</th>\n",
       "      <td> 0181</td>\n",
       "      <td> '0,181'</td>\n",
       "    </tr>\n",
       "    <tr>\n",
       "      <th>24</th>\n",
       "      <td> 6760</td>\n",
       "      <td> '6,760'</td>\n",
       "    </tr>\n",
       "    <tr>\n",
       "      <th>25</th>\n",
       "      <td> 2199</td>\n",
       "      <td> '2,199'</td>\n",
       "    </tr>\n",
       "    <tr>\n",
       "      <th>26</th>\n",
       "      <td> 2207</td>\n",
       "      <td> '2,207'</td>\n",
       "    </tr>\n",
       "    <tr>\n",
       "      <th>27</th>\n",
       "      <td> 5145</td>\n",
       "      <td> '5,145'</td>\n",
       "    </tr>\n",
       "    <tr>\n",
       "      <th>28</th>\n",
       "      <td> 8247</td>\n",
       "      <td> '8,247'</td>\n",
       "    </tr>\n",
       "    <tr>\n",
       "      <th>29</th>\n",
       "      <td> 7646</td>\n",
       "      <td> '7,646'</td>\n",
       "    </tr>\n",
       "    <tr>\n",
       "      <th>30</th>\n",
       "      <td> 0941</td>\n",
       "      <td> '0,941'</td>\n",
       "    </tr>\n",
       "    <tr>\n",
       "      <th>31</th>\n",
       "      <td> 1886</td>\n",
       "      <td> '1,886'</td>\n",
       "    </tr>\n",
       "    <tr>\n",
       "      <th>32</th>\n",
       "      <td> 4981</td>\n",
       "      <td> '4,981'</td>\n",
       "    </tr>\n",
       "    <tr>\n",
       "      <th>33</th>\n",
       "      <td> 2140</td>\n",
       "      <td> '2,140'</td>\n",
       "    </tr>\n",
       "    <tr>\n",
       "      <th>34</th>\n",
       "      <td> 6987</td>\n",
       "      <td> '6,987'</td>\n",
       "    </tr>\n",
       "    <tr>\n",
       "      <th>35</th>\n",
       "      <td> 0326</td>\n",
       "      <td> '0,326'</td>\n",
       "    </tr>\n",
       "    <tr>\n",
       "      <th>36</th>\n",
       "      <td> 2867</td>\n",
       "      <td> '2,867'</td>\n",
       "    </tr>\n",
       "    <tr>\n",
       "      <th>37</th>\n",
       "      <td> 4890</td>\n",
       "      <td> '4,890'</td>\n",
       "    </tr>\n",
       "    <tr>\n",
       "      <th>38</th>\n",
       "      <td> 8625</td>\n",
       "      <td> '8,625'</td>\n",
       "    </tr>\n",
       "    <tr>\n",
       "      <th>39</th>\n",
       "      <td> 4475</td>\n",
       "      <td> '4,475'</td>\n",
       "    </tr>\n",
       "    <tr>\n",
       "      <th>40</th>\n",
       "      <td> 0903</td>\n",
       "      <td> '0,903'</td>\n",
       "    </tr>\n",
       "  </tbody>\n",
       "</table>\n",
       "</div>"
      ],
      "text/plain": [
       "   number1  number2\n",
       "0     0589  '0,589'\n",
       "1     0578  '0,578'\n",
       "2     7779  '7,779'\n",
       "3     0139  '0,139'\n",
       "4     1687  '1,687'\n",
       "5     3246  '3,246'\n",
       "6     0254  '0,254'\n",
       "7     3133  '3,133'\n",
       "8     9446  '9,446'\n",
       "9     6241  '6,241'\n",
       "10    4922  '4,922'\n",
       "11    4657  '4,657'\n",
       "12    5134  '5,134'\n",
       "13    4947  '4,947'\n",
       "14    5988  '5,988'\n",
       "15    1376  '1,376'\n",
       "16    0291  '0,291'\n",
       "17    1515  '1,515'\n",
       "18    3126  '3,126'\n",
       "19    0853  '0,853'\n",
       "20    2768  '2,768'\n",
       "21    6738  '6,738'\n",
       "22    8168  '8,168'\n",
       "23    0181  '0,181'\n",
       "24    6760  '6,760'\n",
       "25    2199  '2,199'\n",
       "26    2207  '2,207'\n",
       "27    5145  '5,145'\n",
       "28    8247  '8,247'\n",
       "29    7646  '7,646'\n",
       "30    0941  '0,941'\n",
       "31    1886  '1,886'\n",
       "32    4981  '4,981'\n",
       "33    2140  '2,140'\n",
       "34    6987  '6,987'\n",
       "35    0326  '0,326'\n",
       "36    2867  '2,867'\n",
       "37    4890  '4,890'\n",
       "38    8625  '8,625'\n",
       "39    4475  '4,475'\n",
       "40    0903  '0,903'"
      ]
     },
     "execution_count": 14,
     "metadata": {},
     "output_type": "execute_result"
    }
   ],
   "source": [
    "df"
   ]
  },
  {
   "cell_type": "code",
   "execution_count": 22,
   "metadata": {
    "collapsed": false
   },
   "outputs": [
    {
     "data": {
      "text/plain": [
       "numpy.int64"
      ]
     },
     "execution_count": 22,
     "metadata": {},
     "output_type": "execute_result"
    }
   ],
   "source": [
    "type(df.number1[0])"
   ]
  },
  {
   "cell_type": "code",
   "execution_count": 18,
   "metadata": {
    "collapsed": false
   },
   "outputs": [
    {
     "data": {
      "text/plain": [
       "'0589'"
      ]
     },
     "execution_count": 18,
     "metadata": {},
     "output_type": "execute_result"
    }
   ],
   "source": [
    "df.number1[1].lstrip(',')"
   ]
  },
  {
   "cell_type": "code",
   "execution_count": 14,
   "metadata": {
    "collapsed": false
   },
   "outputs": [
    {
     "data": {
      "text/plain": [
       "pandas.core.series.Series"
      ]
     },
     "execution_count": 14,
     "metadata": {},
     "output_type": "execute_result"
    }
   ],
   "source": [
    "type(df.number1)"
   ]
  },
  {
   "cell_type": "code",
   "execution_count": null,
   "metadata": {
    "collapsed": true
   },
   "outputs": [],
   "source": [
    "#Bonus: Do it a different way\n"
   ]
  },
  {
   "cell_type": "code",
   "execution_count": 30,
   "metadata": {
    "collapsed": false
   },
   "outputs": [],
   "source": [
    "def remove_comma(x):\n",
    "    x = x.replace(\",\",\"\")\n",
    "    x = x.replace(\"'\",\"\") ## could we have done this in a single line?\n",
    "    return x   "
   ]
  },
  {
   "cell_type": "code",
   "execution_count": 31,
   "metadata": {
    "collapsed": true
   },
   "outputs": [
    {
     "data": {
      "text/plain": [
       "0     0589\n",
       "1     0578\n",
       "2     7779\n",
       "3     0139\n",
       "4     1687\n",
       "5     3246\n",
       "6     0254\n",
       "7     3133\n",
       "8     9446\n",
       "9     6241\n",
       "10    4922\n",
       "11    4657\n",
       "12    5134\n",
       "13    4947\n",
       "14    5988\n",
       "15    1376\n",
       "16    0291\n",
       "17    1515\n",
       "18    3126\n",
       "19    0853\n",
       "20    2768\n",
       "21    6738\n",
       "22    8168\n",
       "23    0181\n",
       "24    6760\n",
       "25    2199\n",
       "26    2207\n",
       "27    5145\n",
       "28    8247\n",
       "29    7646\n",
       "30    0941\n",
       "31    1886\n",
       "32    4981\n",
       "33    2140\n",
       "34    6987\n",
       "35    0326\n",
       "36    2867\n",
       "37    4890\n",
       "38    8625\n",
       "39    4475\n",
       "40    0903\n",
       "Name: number2, dtype: object"
      ]
     },
     "execution_count": 31,
     "metadata": {},
     "output_type": "execute_result"
    }
   ],
   "source": [
    "df.number2.apply(remove_comma) ## \"apply\" applies to every element of the series"
   ]
  },
  {
   "cell_type": "code",
   "execution_count": 36,
   "metadata": {
    "collapsed": true
   },
   "outputs": [
    {
     "data": {
      "text/html": [
       "<div style=\"max-height:1000px;max-width:1500px;overflow:auto;\">\n",
       "<table border=\"1\" class=\"dataframe\">\n",
       "  <thead>\n",
       "    <tr style=\"text-align: right;\">\n",
       "      <th></th>\n",
       "      <th>number1</th>\n",
       "      <th>number2</th>\n",
       "    </tr>\n",
       "  </thead>\n",
       "  <tbody>\n",
       "    <tr>\n",
       "      <th>0 </th>\n",
       "      <td> 0589</td>\n",
       "      <td> 0589</td>\n",
       "    </tr>\n",
       "    <tr>\n",
       "      <th>1 </th>\n",
       "      <td> 0578</td>\n",
       "      <td> 0578</td>\n",
       "    </tr>\n",
       "    <tr>\n",
       "      <th>2 </th>\n",
       "      <td> 7779</td>\n",
       "      <td> 7779</td>\n",
       "    </tr>\n",
       "    <tr>\n",
       "      <th>3 </th>\n",
       "      <td> 0139</td>\n",
       "      <td> 0139</td>\n",
       "    </tr>\n",
       "    <tr>\n",
       "      <th>4 </th>\n",
       "      <td> 1687</td>\n",
       "      <td> 1687</td>\n",
       "    </tr>\n",
       "    <tr>\n",
       "      <th>5 </th>\n",
       "      <td> 3246</td>\n",
       "      <td> 3246</td>\n",
       "    </tr>\n",
       "    <tr>\n",
       "      <th>6 </th>\n",
       "      <td> 0254</td>\n",
       "      <td> 0254</td>\n",
       "    </tr>\n",
       "    <tr>\n",
       "      <th>7 </th>\n",
       "      <td> 3133</td>\n",
       "      <td> 3133</td>\n",
       "    </tr>\n",
       "    <tr>\n",
       "      <th>8 </th>\n",
       "      <td> 9446</td>\n",
       "      <td> 9446</td>\n",
       "    </tr>\n",
       "    <tr>\n",
       "      <th>9 </th>\n",
       "      <td> 6241</td>\n",
       "      <td> 6241</td>\n",
       "    </tr>\n",
       "    <tr>\n",
       "      <th>10</th>\n",
       "      <td> 4922</td>\n",
       "      <td> 4922</td>\n",
       "    </tr>\n",
       "    <tr>\n",
       "      <th>11</th>\n",
       "      <td> 4657</td>\n",
       "      <td> 4657</td>\n",
       "    </tr>\n",
       "    <tr>\n",
       "      <th>12</th>\n",
       "      <td> 5134</td>\n",
       "      <td> 5134</td>\n",
       "    </tr>\n",
       "    <tr>\n",
       "      <th>13</th>\n",
       "      <td> 4947</td>\n",
       "      <td> 4947</td>\n",
       "    </tr>\n",
       "    <tr>\n",
       "      <th>14</th>\n",
       "      <td> 5988</td>\n",
       "      <td> 5988</td>\n",
       "    </tr>\n",
       "    <tr>\n",
       "      <th>15</th>\n",
       "      <td> 1376</td>\n",
       "      <td> 1376</td>\n",
       "    </tr>\n",
       "    <tr>\n",
       "      <th>16</th>\n",
       "      <td> 0291</td>\n",
       "      <td> 0291</td>\n",
       "    </tr>\n",
       "    <tr>\n",
       "      <th>17</th>\n",
       "      <td> 1515</td>\n",
       "      <td> 1515</td>\n",
       "    </tr>\n",
       "    <tr>\n",
       "      <th>18</th>\n",
       "      <td> 3126</td>\n",
       "      <td> 3126</td>\n",
       "    </tr>\n",
       "    <tr>\n",
       "      <th>19</th>\n",
       "      <td> 0853</td>\n",
       "      <td> 0853</td>\n",
       "    </tr>\n",
       "    <tr>\n",
       "      <th>20</th>\n",
       "      <td> 2768</td>\n",
       "      <td> 2768</td>\n",
       "    </tr>\n",
       "    <tr>\n",
       "      <th>21</th>\n",
       "      <td> 6738</td>\n",
       "      <td> 6738</td>\n",
       "    </tr>\n",
       "    <tr>\n",
       "      <th>22</th>\n",
       "      <td> 8168</td>\n",
       "      <td> 8168</td>\n",
       "    </tr>\n",
       "    <tr>\n",
       "      <th>23</th>\n",
       "      <td> 0181</td>\n",
       "      <td> 0181</td>\n",
       "    </tr>\n",
       "    <tr>\n",
       "      <th>24</th>\n",
       "      <td> 6760</td>\n",
       "      <td> 6760</td>\n",
       "    </tr>\n",
       "    <tr>\n",
       "      <th>25</th>\n",
       "      <td> 2199</td>\n",
       "      <td> 2199</td>\n",
       "    </tr>\n",
       "    <tr>\n",
       "      <th>26</th>\n",
       "      <td> 2207</td>\n",
       "      <td> 2207</td>\n",
       "    </tr>\n",
       "    <tr>\n",
       "      <th>27</th>\n",
       "      <td> 5145</td>\n",
       "      <td> 5145</td>\n",
       "    </tr>\n",
       "    <tr>\n",
       "      <th>28</th>\n",
       "      <td> 8247</td>\n",
       "      <td> 8247</td>\n",
       "    </tr>\n",
       "    <tr>\n",
       "      <th>29</th>\n",
       "      <td> 7646</td>\n",
       "      <td> 7646</td>\n",
       "    </tr>\n",
       "    <tr>\n",
       "      <th>30</th>\n",
       "      <td> 0941</td>\n",
       "      <td> 0941</td>\n",
       "    </tr>\n",
       "    <tr>\n",
       "      <th>31</th>\n",
       "      <td> 1886</td>\n",
       "      <td> 1886</td>\n",
       "    </tr>\n",
       "    <tr>\n",
       "      <th>32</th>\n",
       "      <td> 4981</td>\n",
       "      <td> 4981</td>\n",
       "    </tr>\n",
       "    <tr>\n",
       "      <th>33</th>\n",
       "      <td> 2140</td>\n",
       "      <td> 2140</td>\n",
       "    </tr>\n",
       "    <tr>\n",
       "      <th>34</th>\n",
       "      <td> 6987</td>\n",
       "      <td> 6987</td>\n",
       "    </tr>\n",
       "    <tr>\n",
       "      <th>35</th>\n",
       "      <td> 0326</td>\n",
       "      <td> 0326</td>\n",
       "    </tr>\n",
       "    <tr>\n",
       "      <th>36</th>\n",
       "      <td> 2867</td>\n",
       "      <td> 2867</td>\n",
       "    </tr>\n",
       "    <tr>\n",
       "      <th>37</th>\n",
       "      <td> 4890</td>\n",
       "      <td> 4890</td>\n",
       "    </tr>\n",
       "    <tr>\n",
       "      <th>38</th>\n",
       "      <td> 8625</td>\n",
       "      <td> 8625</td>\n",
       "    </tr>\n",
       "    <tr>\n",
       "      <th>39</th>\n",
       "      <td> 4475</td>\n",
       "      <td> 4475</td>\n",
       "    </tr>\n",
       "    <tr>\n",
       "      <th>40</th>\n",
       "      <td> 0903</td>\n",
       "      <td> 0903</td>\n",
       "    </tr>\n",
       "  </tbody>\n",
       "</table>\n",
       "</div>"
      ],
      "text/plain": [
       "   number1 number2\n",
       "0     0589    0589\n",
       "1     0578    0578\n",
       "2     7779    7779\n",
       "3     0139    0139\n",
       "4     1687    1687\n",
       "5     3246    3246\n",
       "6     0254    0254\n",
       "7     3133    3133\n",
       "8     9446    9446\n",
       "9     6241    6241\n",
       "10    4922    4922\n",
       "11    4657    4657\n",
       "12    5134    5134\n",
       "13    4947    4947\n",
       "14    5988    5988\n",
       "15    1376    1376\n",
       "16    0291    0291\n",
       "17    1515    1515\n",
       "18    3126    3126\n",
       "19    0853    0853\n",
       "20    2768    2768\n",
       "21    6738    6738\n",
       "22    8168    8168\n",
       "23    0181    0181\n",
       "24    6760    6760\n",
       "25    2199    2199\n",
       "26    2207    2207\n",
       "27    5145    5145\n",
       "28    8247    8247\n",
       "29    7646    7646\n",
       "30    0941    0941\n",
       "31    1886    1886\n",
       "32    4981    4981\n",
       "33    2140    2140\n",
       "34    6987    6987\n",
       "35    0326    0326\n",
       "36    2867    2867\n",
       "37    4890    4890\n",
       "38    8625    8625\n",
       "39    4475    4475\n",
       "40    0903    0903"
      ]
     },
     "execution_count": 36,
     "metadata": {},
     "output_type": "execute_result"
    }
   ],
   "source": [
    "## \"Apply\" NOT apply to every columns. You have to specify the column.\n",
    "## Or you could use \"applymap\" which applies to a dataframe.\n",
    "df.applymap(remove_comma) "
   ]
  },
  {
   "cell_type": "markdown",
   "metadata": {},
   "source": [
    "####Exercise 2: Strip the extra quotation marks from the column2 and convert to integer"
   ]
  },
  {
   "cell_type": "code",
   "execution_count": 32,
   "metadata": {
    "collapsed": true
   },
   "outputs": [
    {
     "data": {
      "text/plain": [
       "0     0,589\n",
       "1     0,578\n",
       "2     7,779\n",
       "3     0,139\n",
       "4     1,687\n",
       "5     3,246\n",
       "6     0,254\n",
       "7     3,133\n",
       "8     9,446\n",
       "9     6,241\n",
       "10    4,922\n",
       "11    4,657\n",
       "12    5,134\n",
       "13    4,947\n",
       "14    5,988\n",
       "15    1,376\n",
       "16    0,291\n",
       "17    1,515\n",
       "18    3,126\n",
       "19    0,853\n",
       "20    2,768\n",
       "21    6,738\n",
       "22    8,168\n",
       "23    0,181\n",
       "24    6,760\n",
       "25    2,199\n",
       "26    2,207\n",
       "27    5,145\n",
       "28    8,247\n",
       "29    7,646\n",
       "30    0,941\n",
       "31    1,886\n",
       "32    4,981\n",
       "33    2,140\n",
       "34    6,987\n",
       "35    0,326\n",
       "36    2,867\n",
       "37    4,890\n",
       "38    8,625\n",
       "39    4,475\n",
       "40    0,903\n",
       "Name: number2, dtype: object"
      ]
     },
     "execution_count": 32,
     "metadata": {},
     "output_type": "execute_result"
    }
   ],
   "source": [
    "#Your code here\n",
    "df.number2.str[1:-1]"
   ]
  },
  {
   "cell_type": "code",
   "execution_count": 40,
   "metadata": {
    "collapsed": true
   },
   "outputs": [
    {
     "data": {
      "text/plain": [
       "0     '0,589'\n",
       "1     '0,578'\n",
       "2     '7,779'\n",
       "3     '0,139'\n",
       "4     '1,687'\n",
       "5     '3,246'\n",
       "6     '0,254'\n",
       "7     '3,133'\n",
       "8     '9,446'\n",
       "9     '6,241'\n",
       "10    '4,922'\n",
       "11    '4,657'\n",
       "12    '5,134'\n",
       "13    '4,947'\n",
       "14    '5,988'\n",
       "15    '1,376'\n",
       "16    '0,291'\n",
       "17    '1,515'\n",
       "18    '3,126'\n",
       "19    '0,853'\n",
       "20    '2,768'\n",
       "21    '6,738'\n",
       "22    '8,168'\n",
       "23    '0,181'\n",
       "24    '6,760'\n",
       "25    '2,199'\n",
       "26    '2,207'\n",
       "27    '5,145'\n",
       "28    '8,247'\n",
       "29    '7,646'\n",
       "30    '0,941'\n",
       "31    '1,886'\n",
       "32    '4,981'\n",
       "33    '2,140'\n",
       "34    '6,987'\n",
       "35    '0,326'\n",
       "36    '2,867'\n",
       "37    '4,890'\n",
       "38    '8,625'\n",
       "39    '4,475'\n",
       "40    '0,903'\n",
       "Name: number2, dtype: object"
      ]
     },
     "execution_count": 40,
     "metadata": {},
     "output_type": "execute_result"
    }
   ],
   "source": [
    "df.number2\n",
    "# another way to remove comma\n",
    "df.number2.str.strip(\",\")## why does this not work?"
   ]
  },
  {
   "cell_type": "code",
   "execution_count": 44,
   "metadata": {
    "collapsed": true
   },
   "outputs": [
    {
     "data": {
      "text/plain": [
       "0     0,589\n",
       "1     0,578\n",
       "2     7,779\n",
       "3     0,139\n",
       "4     1,687\n",
       "5     3,246\n",
       "6     0,254\n",
       "7     3,133\n",
       "8     9,446\n",
       "9     6,241\n",
       "10    4,922\n",
       "11    4,657\n",
       "12    5,134\n",
       "13    4,947\n",
       "14    5,988\n",
       "15    1,376\n",
       "16    0,291\n",
       "17    1,515\n",
       "18    3,126\n",
       "19    0,853\n",
       "20    2,768\n",
       "21    6,738\n",
       "22    8,168\n",
       "23    0,181\n",
       "24    6,760\n",
       "25    2,199\n",
       "26    2,207\n",
       "27    5,145\n",
       "28    8,247\n",
       "29    7,646\n",
       "30    0,941\n",
       "31    1,886\n",
       "32    4,981\n",
       "33    2,140\n",
       "34    6,987\n",
       "35    0,326\n",
       "36    2,867\n",
       "37    4,890\n",
       "38    8,625\n",
       "39    4,475\n",
       "40    0,903\n",
       "Name: number2, dtype: object"
      ]
     },
     "execution_count": 44,
     "metadata": {},
     "output_type": "execute_result"
    }
   ],
   "source": [
    "## str.lstrip can be use to remove an element on the left and rstrip on the right... what about the middle?\n",
    "df.number2.str.rstrip(\"'\").str.lstrip(\"'\")"
   ]
  },
  {
   "cell_type": "code",
   "execution_count": 45,
   "metadata": {
    "collapsed": true
   },
   "outputs": [
    {
     "data": {
      "text/plain": [
       "0     ['0, 589']\n",
       "1     ['0, 578']\n",
       "2     ['7, 779']\n",
       "3     ['0, 139']\n",
       "4     ['1, 687']\n",
       "5     ['3, 246']\n",
       "6     ['0, 254']\n",
       "7     ['3, 133']\n",
       "8     ['9, 446']\n",
       "9     ['6, 241']\n",
       "10    ['4, 922']\n",
       "11    ['4, 657']\n",
       "12    ['5, 134']\n",
       "13    ['4, 947']\n",
       "14    ['5, 988']\n",
       "15    ['1, 376']\n",
       "16    ['0, 291']\n",
       "17    ['1, 515']\n",
       "18    ['3, 126']\n",
       "19    ['0, 853']\n",
       "20    ['2, 768']\n",
       "21    ['6, 738']\n",
       "22    ['8, 168']\n",
       "23    ['0, 181']\n",
       "24    ['6, 760']\n",
       "25    ['2, 199']\n",
       "26    ['2, 207']\n",
       "27    ['5, 145']\n",
       "28    ['8, 247']\n",
       "29    ['7, 646']\n",
       "30    ['0, 941']\n",
       "31    ['1, 886']\n",
       "32    ['4, 981']\n",
       "33    ['2, 140']\n",
       "34    ['6, 987']\n",
       "35    ['0, 326']\n",
       "36    ['2, 867']\n",
       "37    ['4, 890']\n",
       "38    ['8, 625']\n",
       "39    ['4, 475']\n",
       "40    ['0, 903']\n",
       "Name: number2, dtype: object"
      ]
     },
     "execution_count": 45,
     "metadata": {},
     "output_type": "execute_result"
    }
   ],
   "source": [
    "## split works perfectly\n",
    "df.number2.str.split(\",\")"
   ]
  },
  {
   "cell_type": "code",
   "execution_count": 46,
   "metadata": {
    "collapsed": false
   },
   "outputs": [
    {
     "data": {
      "text/plain": [
       "0     '0,589'\n",
       "1     '0,578'\n",
       "2     '7,779'\n",
       "3     '0,139'\n",
       "4     '1,687'\n",
       "5     '3,246'\n",
       "6     '0,254'\n",
       "7     '3,133'\n",
       "8     '9,446'\n",
       "9     '6,241'\n",
       "10    '4,922'\n",
       "11    '4,657'\n",
       "12    '5,134'\n",
       "13    '4,947'\n",
       "14    '5,988'\n",
       "15    '1,376'\n",
       "16    '0,291'\n",
       "17    '1,515'\n",
       "18    '3,126'\n",
       "19    '0,853'\n",
       "20    '2,768'\n",
       "21    '6,738'\n",
       "22    '8,168'\n",
       "23    '0,181'\n",
       "24    '6,760'\n",
       "25    '2,199'\n",
       "26    '2,207'\n",
       "27    '5,145'\n",
       "28    '8,247'\n",
       "29    '7,646'\n",
       "30    '0,941'\n",
       "31    '1,886'\n",
       "32    '4,981'\n",
       "33    '2,140'\n",
       "34    '6,987'\n",
       "35    '0,326'\n",
       "36    '2,867'\n",
       "37    '4,890'\n",
       "38    '8,625'\n",
       "39    '4,475'\n",
       "40    '0,903'\n",
       "Name: number2, dtype: object"
      ]
     },
     "execution_count": 46,
     "metadata": {},
     "output_type": "execute_result"
    }
   ],
   "source": [
    "df.number2.str.strip(\",\") ## why does \",\" not work ??"
   ]
  },
  {
   "cell_type": "code",
   "execution_count": null,
   "metadata": {
    "collapsed": true
   },
   "outputs": [],
   "source": []
  }
 ],
 "metadata": {
  "kernelspec": {
   "display_name": "Python 2",
   "language": "python",
   "name": "python2"
  },
  "language_info": {
   "codemirror_mode": {
    "name": "ipython",
    "version": 2
   },
   "file_extension": ".py",
   "mimetype": "text/x-python",
   "name": "python",
   "nbconvert_exporter": "python",
   "pygments_lexer": "ipython2",
   "version": "2.7.9"
  }
 },
 "nbformat": 4,
 "nbformat_minor": 0
}
