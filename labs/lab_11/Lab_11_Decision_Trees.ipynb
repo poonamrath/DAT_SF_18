{
 "cells": [
  {
   "cell_type": "markdown",
   "metadata": {},
   "source": [
    "# Lab 11 Introduction to Decision Trees\n",
    "\n",
    "- Dat_SF_18"
   ]
  },
  {
   "cell_type": "markdown",
   "metadata": {},
   "source": [
    "## Before we begin:\n",
    "\n",
    "\n",
    "**Installing Graphviz (optional):**\n",
    "* Mac:\n",
    "    * [Download and install PKG file](http://www.graphviz.org/Download_macos.php)\n",
    "* Windows:\n",
    "    * [Download and install MSI file](http://www.graphviz.org/Download_windows.php)\n",
    "    * Add it to your Path: Go to Control Panel, System, Advanced System Settings, Environment Variables. Under system variables, edit \"Path\" to include the path to the \"bin\" folder, such as: `C:\\Program Files (x86)\\Graphviz2.38\\bin`\n",
    "__________"
   ]
  },
  {
   "cell_type": "markdown",
   "metadata": {},
   "source": [
    "*Adapted from Chapter 8 of [An Introduction to Statistical Learning](http://www-bcf.usc.edu/~gareth/ISL/)*\n",
    "\n",
    "||continuous|categorical|\n",
    "|---|---|---|\n",
    "|**supervised**|**regression**|**classification**|\n",
    "|**unsupervised**|dimension reduction|clustering|"
   ]
  },
  {
   "cell_type": "markdown",
   "metadata": {},
   "source": [
    "## Objectives"
   ]
  },
  {
   "cell_type": "markdown",
   "metadata": {},
   "source": [
    "* Identify various methods of measuring purity\n",
    "* Learn how trees are build for both regressions and classification\n",
    "* Use the ROC curve to understand the depth of classification error"
   ]
  },
  {
   "cell_type": "markdown",
   "metadata": {},
   "source": [
    "### Exercise 1: Building a regression tree by hand\n",
    "\n",
    "How do you build a decision tree? You're going to find out by building one in pairs!\n",
    "\n",
    "Your training data is a tiny dataset of [used vehicle sale prices](https://raw.githubusercontent.com/justmarkham/DAT4/master/data/used_vehicles.csv). Your goal is to predict Price for out-of-sample data. Here are your instructions:\n",
    "\n",
    "- Read the data into Pandas.\n",
    "- Explore the data by sorting, plotting, or split-apply-combine (aka `group_by`).\n",
    "- Decide which feature is the most important predictor, and use that to make your first split. (Only binary splits are allowed!)\n",
    "- After making your first split, you should actually split your data in Pandas into two parts, and then explore each part to figure out what other splits to make.\n",
    "- Stop making splits once you are convinced that it strikes a good balance between underfitting and overfitting. (As always, your goal is to build a model that generalizes well!)\n",
    "- You are allowed to split on the same variable multiple times!\n",
    "- Draw your tree, making sure to label your leaves with the mean Price for the observations in that \"bucket\".\n",
    "- When you're finished, review your tree to make sure nothing is backwards. (Remember: follow the left branch if the rule is true, and follow the right branch if the rule is false.)"
   ]
  },
  {
   "cell_type": "code",
   "execution_count": 1,
   "metadata": {
    "collapsed": false
   },
   "outputs": [],
   "source": [
    "# import pandas\n",
    "import pandas as pd\n",
    "\n",
    "# read in vehicle data\n",
    "vehicles = pd.read_csv('../data/used_vehicles.csv')"
   ]
  },
  {
   "cell_type": "code",
<<<<<<< HEAD
   "execution_count": 22,
   "metadata": {
    "collapsed": false
   },
   "outputs": [
    {
     "data": {
      "text/html": [
       "<div>\n",
       "<table border=\"1\" class=\"dataframe\">\n",
       "  <thead>\n",
       "    <tr style=\"text-align: right;\">\n",
       "      <th></th>\n",
       "      <th>price</th>\n",
       "      <th>year</th>\n",
       "      <th>miles</th>\n",
       "      <th>doors</th>\n",
       "      <th>type</th>\n",
       "    </tr>\n",
       "  </thead>\n",
       "  <tbody>\n",
       "    <tr>\n",
       "      <th>0</th>\n",
       "      <td>22000</td>\n",
       "      <td>2012</td>\n",
       "      <td>13000</td>\n",
       "      <td>2</td>\n",
       "      <td>0</td>\n",
       "    </tr>\n",
       "    <tr>\n",
       "      <th>1</th>\n",
       "      <td>14000</td>\n",
       "      <td>2010</td>\n",
       "      <td>30000</td>\n",
       "      <td>2</td>\n",
       "      <td>0</td>\n",
       "    </tr>\n",
       "    <tr>\n",
       "      <th>2</th>\n",
       "      <td>13000</td>\n",
       "      <td>2010</td>\n",
       "      <td>73500</td>\n",
       "      <td>4</td>\n",
       "      <td>0</td>\n",
       "    </tr>\n",
       "    <tr>\n",
       "      <th>3</th>\n",
       "      <td>9500</td>\n",
       "      <td>2009</td>\n",
       "      <td>78000</td>\n",
       "      <td>4</td>\n",
       "      <td>0</td>\n",
       "    </tr>\n",
       "    <tr>\n",
       "      <th>4</th>\n",
       "      <td>9000</td>\n",
       "      <td>2007</td>\n",
       "      <td>47000</td>\n",
       "      <td>4</td>\n",
       "      <td>0</td>\n",
       "    </tr>\n",
       "    <tr>\n",
       "      <th>5</th>\n",
       "      <td>4000</td>\n",
       "      <td>2006</td>\n",
       "      <td>124000</td>\n",
       "      <td>2</td>\n",
       "      <td>0</td>\n",
       "    </tr>\n",
       "    <tr>\n",
       "      <th>6</th>\n",
       "      <td>3000</td>\n",
       "      <td>2004</td>\n",
       "      <td>177000</td>\n",
       "      <td>4</td>\n",
       "      <td>0</td>\n",
       "    </tr>\n",
       "    <tr>\n",
       "      <th>7</th>\n",
       "      <td>2000</td>\n",
       "      <td>2004</td>\n",
       "      <td>209000</td>\n",
       "      <td>4</td>\n",
       "      <td>1</td>\n",
       "    </tr>\n",
       "    <tr>\n",
       "      <th>8</th>\n",
       "      <td>3000</td>\n",
       "      <td>2003</td>\n",
       "      <td>138000</td>\n",
       "      <td>2</td>\n",
       "      <td>0</td>\n",
       "    </tr>\n",
       "    <tr>\n",
       "      <th>9</th>\n",
       "      <td>1900</td>\n",
       "      <td>2003</td>\n",
       "      <td>160000</td>\n",
       "      <td>4</td>\n",
       "      <td>0</td>\n",
       "    </tr>\n",
       "    <tr>\n",
       "      <th>10</th>\n",
       "      <td>2500</td>\n",
       "      <td>2003</td>\n",
       "      <td>190000</td>\n",
       "      <td>2</td>\n",
       "      <td>1</td>\n",
       "    </tr>\n",
       "    <tr>\n",
       "      <th>11</th>\n",
       "      <td>5000</td>\n",
       "      <td>2001</td>\n",
       "      <td>62000</td>\n",
       "      <td>4</td>\n",
       "      <td>0</td>\n",
       "    </tr>\n",
       "    <tr>\n",
       "      <th>12</th>\n",
       "      <td>1800</td>\n",
       "      <td>1999</td>\n",
       "      <td>163000</td>\n",
       "      <td>2</td>\n",
       "      <td>1</td>\n",
       "    </tr>\n",
       "    <tr>\n",
       "      <th>13</th>\n",
       "      <td>1300</td>\n",
       "      <td>1997</td>\n",
       "      <td>138000</td>\n",
       "      <td>4</td>\n",
       "      <td>0</td>\n",
       "    </tr>\n",
       "  </tbody>\n",
       "</table>\n",
       "</div>"
      ],
      "text/plain": [
       "    price  year   miles  doors  type\n",
       "0   22000  2012   13000      2     0\n",
       "1   14000  2010   30000      2     0\n",
       "2   13000  2010   73500      4     0\n",
       "3    9500  2009   78000      4     0\n",
       "4    9000  2007   47000      4     0\n",
       "5    4000  2006  124000      2     0\n",
       "6    3000  2004  177000      4     0\n",
       "7    2000  2004  209000      4     1\n",
       "8    3000  2003  138000      2     0\n",
       "9    1900  2003  160000      4     0\n",
       "10   2500  2003  190000      2     1\n",
       "11   5000  2001   62000      4     0\n",
       "12   1800  1999  163000      2     1\n",
       "13   1300  1997  138000      4     0"
      ]
     },
     "execution_count": 22,
     "metadata": {},
     "output_type": "execute_result"
    }
   ],
   "source": [
    "vehicles"
   ]
  },
  {
   "cell_type": "code",
   "execution_count": 24,
   "metadata": {
    "collapsed": false
   },
   "outputs": [
    {
     "data": {
      "text/html": [
       "<div>\n",
       "<table border=\"1\" class=\"dataframe\">\n",
       "  <thead>\n",
       "    <tr style=\"text-align: right;\">\n",
       "      <th></th>\n",
       "      <th>price</th>\n",
       "      <th>year</th>\n",
       "      <th>miles</th>\n",
       "      <th>doors</th>\n",
       "      <th>type</th>\n",
       "    </tr>\n",
       "  </thead>\n",
       "  <tbody>\n",
       "    <tr>\n",
       "      <th>10</th>\n",
       "      <td>2500</td>\n",
       "      <td>2003</td>\n",
       "      <td>190000</td>\n",
       "      <td>2</td>\n",
       "      <td>1</td>\n",
       "    </tr>\n",
       "    <tr>\n",
       "      <th>12</th>\n",
       "      <td>1800</td>\n",
       "      <td>1999</td>\n",
       "      <td>163000</td>\n",
       "      <td>2</td>\n",
       "      <td>1</td>\n",
       "    </tr>\n",
       "  </tbody>\n",
       "</table>\n",
       "</div>"
      ],
      "text/plain": [
       "    price  year   miles  doors  type\n",
       "10   2500  2003  190000      2     1\n",
       "12   1800  1999  163000      2     1"
      ]
     },
     "execution_count": 24,
     "metadata": {},
     "output_type": "execute_result"
    }
   ],
   "source": [
    "#Your code here:\n",
    "\n",
    "#vehicles\n",
    "\n",
    "two_doors = vehicles[vehicles.doors==2]\n",
    "\n",
    "price = two_doors[two_doors.price<3000]\n",
    "price\n",
=======
   "execution_count": null,
   "metadata": {
    "collapsed": true
   },
   "outputs": [],
   "source": [
    "#Your code here:\n",
    "\n",
    "\n",
    "\n",
    "\n",
    "\n",
>>>>>>> 53f609591e6748463329cbfe8cff1bfd8d1c2603
    "\n"
   ]
  },
  {
   "cell_type": "markdown",
   "metadata": {},
   "source": [
    "#### How does a computer build a regression tree?\n",
    "\n",
    "The ideal approach would be for the computer to consider every possible partition of the feature space. However, this is computationally infeasible, so instead an approach is used called **recursive binary splitting:**\n",
    "\n",
    "- Begin at the top of the tree.\n",
    "- For every single predictor, examine every possible cutpoint, and choose the predictor and cutpoint such that the resulting tree has the **lowest possible mean squared error (MSE)**. Make that split.\n",
    "- Repeat the examination for the two resulting regions, and again make a single split (in one of the regions) to minimize the MSE.\n",
    "- Keep repeating this process until a stopping criteria is met.\n",
    "\n",
    "**How does it know when to stop?**\n",
    "\n",
    "1. We could define a stopping criterion, such as a **maximum depth** of the tree or the **minimum number of samples in the leaf**.\n",
    "2. We could grow the tree deep, and then \"prune\" it back using a method such as \"cost complexity pruning\" (aka \"weakest link pruning\").\n",
    "\n",
    "Method 2 involves setting a tuning parameter that penalizes the tree for having too many leaves. As the parameter is increased, branches automatically get pruned from the tree, resulting in smaller and smaller trees. The tuning parameter can be selected through cross-validation.\n",
    "\n",
    "Note: **Method 2 is not currently supported by scikit-learn**, and so we will use Method 1 instead.\n"
   ]
  },
  {
   "cell_type": "markdown",
   "metadata": {},
   "source": [
    "### Building a regression tree in scikit-learn"
   ]
  },
  {
   "cell_type": "code",
<<<<<<< HEAD
   "execution_count": 2,
=======
   "execution_count": 41,
>>>>>>> 53f609591e6748463329cbfe8cff1bfd8d1c2603
   "metadata": {
    "collapsed": false
   },
   "outputs": [
    {
     "data": {
      "text/html": [
       "<div>\n",
       "<table border=\"1\" class=\"dataframe\">\n",
       "  <thead>\n",
       "    <tr style=\"text-align: right;\">\n",
       "      <th></th>\n",
       "      <th>price</th>\n",
       "      <th>year</th>\n",
       "      <th>miles</th>\n",
       "      <th>doors</th>\n",
       "      <th>type</th>\n",
       "    </tr>\n",
       "  </thead>\n",
       "  <tbody>\n",
       "    <tr>\n",
       "      <th>0</th>\n",
       "      <td>22000</td>\n",
       "      <td>2012</td>\n",
       "      <td>13000</td>\n",
       "      <td>2</td>\n",
       "      <td>car</td>\n",
       "    </tr>\n",
       "    <tr>\n",
       "      <th>1</th>\n",
       "      <td>14000</td>\n",
       "      <td>2010</td>\n",
       "      <td>30000</td>\n",
       "      <td>2</td>\n",
       "      <td>car</td>\n",
       "    </tr>\n",
       "    <tr>\n",
       "      <th>2</th>\n",
       "      <td>13000</td>\n",
       "      <td>2010</td>\n",
       "      <td>73500</td>\n",
       "      <td>4</td>\n",
       "      <td>car</td>\n",
       "    </tr>\n",
       "    <tr>\n",
       "      <th>3</th>\n",
       "      <td>9500</td>\n",
       "      <td>2009</td>\n",
       "      <td>78000</td>\n",
       "      <td>4</td>\n",
       "      <td>car</td>\n",
       "    </tr>\n",
       "    <tr>\n",
       "      <th>4</th>\n",
       "      <td>9000</td>\n",
       "      <td>2007</td>\n",
       "      <td>47000</td>\n",
       "      <td>4</td>\n",
       "      <td>car</td>\n",
       "    </tr>\n",
       "    <tr>\n",
       "      <th>5</th>\n",
       "      <td>4000</td>\n",
       "      <td>2006</td>\n",
       "      <td>124000</td>\n",
       "      <td>2</td>\n",
       "      <td>car</td>\n",
       "    </tr>\n",
       "    <tr>\n",
       "      <th>6</th>\n",
       "      <td>3000</td>\n",
       "      <td>2004</td>\n",
       "      <td>177000</td>\n",
       "      <td>4</td>\n",
       "      <td>car</td>\n",
       "    </tr>\n",
       "    <tr>\n",
       "      <th>7</th>\n",
       "      <td>2000</td>\n",
       "      <td>2004</td>\n",
       "      <td>209000</td>\n",
       "      <td>4</td>\n",
       "      <td>truck</td>\n",
       "    </tr>\n",
       "    <tr>\n",
       "      <th>8</th>\n",
       "      <td>3000</td>\n",
       "      <td>2003</td>\n",
       "      <td>138000</td>\n",
       "      <td>2</td>\n",
       "      <td>car</td>\n",
       "    </tr>\n",
       "    <tr>\n",
       "      <th>9</th>\n",
       "      <td>1900</td>\n",
       "      <td>2003</td>\n",
       "      <td>160000</td>\n",
       "      <td>4</td>\n",
       "      <td>car</td>\n",
       "    </tr>\n",
       "    <tr>\n",
       "      <th>10</th>\n",
       "      <td>2500</td>\n",
       "      <td>2003</td>\n",
       "      <td>190000</td>\n",
       "      <td>2</td>\n",
       "      <td>truck</td>\n",
       "    </tr>\n",
       "    <tr>\n",
       "      <th>11</th>\n",
       "      <td>5000</td>\n",
       "      <td>2001</td>\n",
       "      <td>62000</td>\n",
       "      <td>4</td>\n",
       "      <td>car</td>\n",
       "    </tr>\n",
       "    <tr>\n",
       "      <th>12</th>\n",
       "      <td>1800</td>\n",
       "      <td>1999</td>\n",
       "      <td>163000</td>\n",
       "      <td>2</td>\n",
       "      <td>truck</td>\n",
       "    </tr>\n",
       "    <tr>\n",
       "      <th>13</th>\n",
       "      <td>1300</td>\n",
       "      <td>1997</td>\n",
       "      <td>138000</td>\n",
       "      <td>4</td>\n",
       "      <td>car</td>\n",
       "    </tr>\n",
       "  </tbody>\n",
       "</table>\n",
       "</div>"
      ],
      "text/plain": [
       "    price  year   miles  doors   type\n",
       "0   22000  2012   13000      2    car\n",
       "1   14000  2010   30000      2    car\n",
       "2   13000  2010   73500      4    car\n",
       "3    9500  2009   78000      4    car\n",
       "4    9000  2007   47000      4    car\n",
       "5    4000  2006  124000      2    car\n",
       "6    3000  2004  177000      4    car\n",
       "7    2000  2004  209000      4  truck\n",
       "8    3000  2003  138000      2    car\n",
       "9    1900  2003  160000      4    car\n",
       "10   2500  2003  190000      2  truck\n",
       "11   5000  2001   62000      4    car\n",
       "12   1800  1999  163000      2  truck\n",
       "13   1300  1997  138000      4    car"
      ]
     },
<<<<<<< HEAD
     "execution_count": 2,
=======
     "execution_count": 41,
>>>>>>> 53f609591e6748463329cbfe8cff1bfd8d1c2603
     "metadata": {},
     "output_type": "execute_result"
    }
   ],
   "source": [
    "# import pandas\n",
    "import pandas as pd\n",
    "\n",
    "# read in vehicle data\n",
    "vehicles = pd.read_csv('../data/used_vehicles.csv')\n",
    "\n",
    "# print out data\n",
    "vehicles"
   ]
  },
  {
   "cell_type": "code",
<<<<<<< HEAD
   "execution_count": 3,
=======
   "execution_count": 42,
>>>>>>> 53f609591e6748463329cbfe8cff1bfd8d1c2603
   "metadata": {
    "collapsed": false
   },
   "outputs": [],
   "source": [
    "# convert car to 0 and truck to 1\n",
    "vehicles['type'] = vehicles.type.map({'car':0, 'truck':1})"
   ]
  },
  {
   "cell_type": "code",
<<<<<<< HEAD
   "execution_count": 4,
=======
   "execution_count": 43,
>>>>>>> 53f609591e6748463329cbfe8cff1bfd8d1c2603
   "metadata": {
    "collapsed": false
   },
   "outputs": [],
   "source": [
    "# select feature columns (every column except for the 0th column)\n",
    "feature_cols = vehicles.columns[1:]\n",
    "\n",
    "# define X (features) and y (response)\n",
    "X = vehicles[feature_cols]\n",
    "y = vehicles.price"
   ]
  },
  {
   "cell_type": "code",
<<<<<<< HEAD
   "execution_count": 5,
=======
   "execution_count": 44,
>>>>>>> 53f609591e6748463329cbfe8cff1bfd8d1c2603
   "metadata": {
    "collapsed": false
   },
   "outputs": [],
   "source": [
    "# split into train/test\n",
    "from sklearn.cross_validation import train_test_split\n",
    "X_train, X_test, y_train, y_test = train_test_split(X, y, random_state=1)"
   ]
  },
  {
   "cell_type": "code",
<<<<<<< HEAD
   "execution_count": 6,
=======
   "execution_count": 45,
>>>>>>> 53f609591e6748463329cbfe8cff1bfd8d1c2603
   "metadata": {
    "collapsed": false
   },
   "outputs": [
    {
     "name": "stdout",
     "output_type": "stream",
     "text": [
      "    year   miles  doors  type\n",
      "10  2003  190000      2     1\n",
      "4   2007   47000      4     0\n",
      "1   2010   30000      2     0\n",
      "12  1999  163000      2     1\n",
      "0   2012   13000      2     0\n",
      "13  1997  138000      4     0\n",
      "9   2003  160000      4     0\n",
      "8   2003  138000      2     0\n",
      "11  2001   62000      4     0\n",
      "5   2006  124000      2     0\n",
      "10     2500\n",
      "4      9000\n",
      "1     14000\n",
      "12     1800\n",
      "0     22000\n",
      "13     1300\n",
      "9      1900\n",
      "8      3000\n",
      "11     5000\n",
      "5      4000\n",
      "Name: price, dtype: int64\n",
      "   year   miles  doors  type\n",
      "3  2009   78000      4     0\n",
      "7  2004  209000      4     1\n",
      "6  2004  177000      4     0\n",
      "2  2010   73500      4     0\n",
      "3     9500\n",
      "7     2000\n",
      "6     3000\n",
      "2    13000\n",
      "Name: price, dtype: int64\n"
     ]
    }
   ],
   "source": [
    "# print out each of the arrays\n",
    "print X_train\n",
    "print y_train\n",
    "print X_test\n",
    "print y_test"
   ]
  },
  {
   "cell_type": "code",
<<<<<<< HEAD
   "execution_count": 7,
=======
   "execution_count": 46,
>>>>>>> 53f609591e6748463329cbfe8cff1bfd8d1c2603
   "metadata": {
    "collapsed": false
   },
   "outputs": [
    {
     "data": {
      "text/plain": [
       "DecisionTreeRegressor(criterion='mse', max_depth=None, max_features=None,\n",
       "           max_leaf_nodes=None, min_samples_leaf=1, min_samples_split=2,\n",
       "           min_weight_fraction_leaf=0.0, random_state=1, splitter='best')"
      ]
     },
<<<<<<< HEAD
     "execution_count": 7,
=======
     "execution_count": 46,
>>>>>>> 53f609591e6748463329cbfe8cff1bfd8d1c2603
     "metadata": {},
     "output_type": "execute_result"
    }
   ],
   "source": [
    "# import class, instantiate estimator, fit with training set\n",
    "from sklearn.tree import DecisionTreeRegressor\n",
    "treereg = DecisionTreeRegressor(random_state=1)\n",
    "treereg.fit(X_train, y_train)"
   ]
  },
  {
   "cell_type": "code",
<<<<<<< HEAD
   "execution_count": 8,
=======
   "execution_count": 47,
>>>>>>> 53f609591e6748463329cbfe8cff1bfd8d1c2603
   "metadata": {
    "collapsed": false
   },
   "outputs": [
    {
     "name": "stdout",
     "output_type": "stream",
     "text": [
      "[ 5000.  1900.  1900.  5000.]\n",
      "3     9500\n",
      "7     2000\n",
      "6     3000\n",
      "2    13000\n",
      "Name: price, dtype: int64\n"
     ]
    }
   ],
   "source": [
    "# make predictions\n",
    "preds = treereg.predict(X_test)\n",
    "\n",
    "# print predictions and actual values\n",
    "print preds\n",
    "print y_test"
   ]
  },
  {
   "cell_type": "code",
<<<<<<< HEAD
   "execution_count": 9,
=======
   "execution_count": 48,
>>>>>>> 53f609591e6748463329cbfe8cff1bfd8d1c2603
   "metadata": {
    "collapsed": false
   },
   "outputs": [
    {
     "data": {
      "text/plain": [
       "4622.4993239588475"
      ]
     },
<<<<<<< HEAD
     "execution_count": 9,
=======
     "execution_count": 48,
>>>>>>> 53f609591e6748463329cbfe8cff1bfd8d1c2603
     "metadata": {},
     "output_type": "execute_result"
    }
   ],
   "source": [
    "# print RMSE\n",
    "from sklearn import metrics\n",
    "import numpy as np\n",
    "np.sqrt(metrics.mean_squared_error(y_test, preds))"
   ]
  },
  {
   "cell_type": "markdown",
   "metadata": {},
   "source": [
    "### `cross_val_score`\n",
    "\n",
    "`cross_val_score` is a function in sklearn that allows us to generate cross validation scores more programatically.\n",
    "\n",
    "\n",
    "With `cross_val_score`, we can assume a k fold given X and y, and pass in a string for scoring.  \n",
    "This should completely simplify our process:\n",
    "\n",
    "```python\n",
    "scores = cross_val_score(treereg, X, y, cv=3, scoring='accuracy_score')\n",
    "```\n",
    "\n",
    "the scoring string should match any function from the [metrics](http://scikit-learn.org/stable/modules/classes.html#module-sklearn.metrics) module:\n",
    "\n",
    "```python\n",
    "['accuracy', 'adjusted_rand_score', 'average_precision', 'f1', 'log_loss', 'mean_absolute_error', 'mean_squared_error', 'precision', 'r2', 'recall', 'roc_auc']\n",
    "```"
   ]
  },
  {
   "cell_type": "code",
<<<<<<< HEAD
   "execution_count": 10,
=======
   "execution_count": 49,
>>>>>>> 53f609591e6748463329cbfe8cff1bfd8d1c2603
   "metadata": {
    "collapsed": false
   },
   "outputs": [],
   "source": [
    "# use cross-validation to find best max_depth\n",
    "from sklearn.cross_validation import cross_val_score"
   ]
  },
  {
   "cell_type": "code",
<<<<<<< HEAD
   "execution_count": 11,
=======
   "execution_count": 50,
>>>>>>> 53f609591e6748463329cbfe8cff1bfd8d1c2603
   "metadata": {
    "collapsed": false
   },
   "outputs": [
    {
     "data": {
      "text/plain": [
       "4804.3767888427128"
      ]
     },
<<<<<<< HEAD
     "execution_count": 11,
=======
     "execution_count": 50,
>>>>>>> 53f609591e6748463329cbfe8cff1bfd8d1c2603
     "metadata": {},
     "output_type": "execute_result"
    }
   ],
   "source": [
    "# try max_depth=2\n",
    "treereg = DecisionTreeRegressor(max_depth=2, random_state=1)\n",
    "scores = cross_val_score(treereg, X, y, cv=3, scoring='mean_squared_error')\n",
    "np.mean(np.sqrt(-scores))"
   ]
  },
  {
   "cell_type": "code",
<<<<<<< HEAD
   "execution_count": 12,
=======
   "execution_count": 51,
>>>>>>> 53f609591e6748463329cbfe8cff1bfd8d1c2603
   "metadata": {
    "collapsed": false
   },
   "outputs": [
    {
     "data": {
      "text/plain": [
       "4592.1554255755254"
      ]
     },
<<<<<<< HEAD
     "execution_count": 12,
=======
     "execution_count": 51,
>>>>>>> 53f609591e6748463329cbfe8cff1bfd8d1c2603
     "metadata": {},
     "output_type": "execute_result"
    }
   ],
   "source": [
    "# try max_depth=3\n",
    "treereg = DecisionTreeRegressor(max_depth=3, random_state=1)\n",
    "scores = cross_val_score(treereg, X, y, cv=3, scoring='mean_squared_error')\n",
    "np.mean(np.sqrt(-scores))"
   ]
  },
  {
   "cell_type": "code",
<<<<<<< HEAD
   "execution_count": 13,
=======
   "execution_count": 52,
>>>>>>> 53f609591e6748463329cbfe8cff1bfd8d1c2603
   "metadata": {
    "collapsed": false
   },
   "outputs": [
    {
     "data": {
      "text/plain": [
       "4704.0052694797387"
      ]
     },
<<<<<<< HEAD
     "execution_count": 13,
=======
     "execution_count": 52,
>>>>>>> 53f609591e6748463329cbfe8cff1bfd8d1c2603
     "metadata": {},
     "output_type": "execute_result"
    }
   ],
   "source": [
    "# try max_depth=4\n",
    "treereg = DecisionTreeRegressor(max_depth=4, random_state=1)\n",
    "scores = cross_val_score(treereg, X, y, cv=3, scoring='mean_squared_error')\n",
    "np.mean(np.sqrt(-scores))"
   ]
  },
  {
   "cell_type": "code",
<<<<<<< HEAD
   "execution_count": 14,
=======
   "execution_count": 53,
>>>>>>> 53f609591e6748463329cbfe8cff1bfd8d1c2603
   "metadata": {
    "collapsed": false
   },
   "outputs": [
    {
     "data": {
      "text/plain": [
       "DecisionTreeRegressor(criterion='mse', max_depth=3, max_features=None,\n",
       "           max_leaf_nodes=None, min_samples_leaf=1, min_samples_split=2,\n",
       "           min_weight_fraction_leaf=0.0, random_state=1, splitter='best')"
      ]
     },
<<<<<<< HEAD
     "execution_count": 14,
=======
     "execution_count": 53,
>>>>>>> 53f609591e6748463329cbfe8cff1bfd8d1c2603
     "metadata": {},
     "output_type": "execute_result"
    }
   ],
   "source": [
    "# max_depth=3 was best, so fit a tree using that parameter with ALL DATA\n",
    "treereg = DecisionTreeRegressor(max_depth=3, random_state=1)\n",
    "treereg.fit(X, y)"
   ]
  },
  {
   "cell_type": "markdown",
   "metadata": {},
   "source": [
    "Likewise, we can solve (and plot) for this more programattically:"
   ]
  },
  {
   "cell_type": "code",
<<<<<<< HEAD
   "execution_count": 15,
=======
   "execution_count": 54,
>>>>>>> 53f609591e6748463329cbfe8cff1bfd8d1c2603
   "metadata": {
    "collapsed": false
   },
   "outputs": [
    {
     "name": "stdout",
     "output_type": "stream",
     "text": [
      "Best score: 4592.15542558\n",
      "Best depth: 3\n"
     ]
    },
    {
     "data": {
      "text/plain": [
<<<<<<< HEAD
       "<matplotlib.text.Text at 0x100634210>"
      ]
     },
     "execution_count": 15,
=======
       "<matplotlib.text.Text at 0x109607110>"
      ]
     },
     "execution_count": 54,
>>>>>>> 53f609591e6748463329cbfe8cff1bfd8d1c2603
     "metadata": {},
     "output_type": "execute_result"
    },
    {
     "data": {
<<<<<<< HEAD
      "image/png": "iVBORw0KGgoAAAANSUhEUgAAAfAAAAFkCAYAAADfW2mzAAAABHNCSVQICAgIfAhkiAAAAAlwSFlz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\nArgQQgiRhCSACyGEEElIArgQQgiRhL4BciTcprBudZoAAAAASUVORK5CYII=\n",
      "text/plain": [
       "<matplotlib.figure.Figure at 0x1085b2c10>"
=======
      "image/png": "iVBORw0KGgoAAAANSUhEUgAAAYAAAAERCAYAAABy/XBZAAAABHNCSVQICAgIfAhkiAAAAAlwSFlz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\nsFJSAEIIYaWkAIQQwkr9P7KxWkeuara9AAAAAElFTkSuQmCC\n",
      "text/plain": [
       "<matplotlib.figure.Figure at 0x1095f7290>"
>>>>>>> 53f609591e6748463329cbfe8cff1bfd8d1c2603
      ]
     },
     "metadata": {},
     "output_type": "display_data"
    }
   ],
   "source": [
    "% matplotlib inline\n",
    "from matplotlib import pyplot as plt\n",
    "import seaborn as sns\n",
    "\n",
    "sns.set_style('whitegrid')\n",
    "\n",
    "all_scores = []\n",
    "best_score = -1\n",
    "best_depth = 0\n",
    "for i in range(1, 6):\n",
    "    treereg = DecisionTreeRegressor(max_depth=i, random_state=1)\n",
    "    scores = cross_val_score(treereg, X, y, cv=3, scoring='mean_squared_error')\n",
    "    current_score = np.mean(np.sqrt(-scores))\n",
    "    # If the score mean is better than the current best, or best is the default (-1), then update!\n",
    "    if current_score < best_score or best_score == -1:\n",
    "        best_score = current_score\n",
    "        best_depth = i\n",
    "    # store to plot anyway!\n",
    "    all_scores.append(current_score)\n",
    "    \n",
    "print \"Best score: %s\" % best_score\n",
    "print \"Best depth: %s\" % best_depth\n",
    "\n",
    "# now actually fit the model\n",
    "treereg = DecisionTreeRegressor(max_depth=best_depth, random_state=1)\n",
    "treereg.fit(X, y)\n",
    "\n",
    "plt.figure()\n",
    "plt.plot(range(1, 6), all_scores)\n",
    "plt.xlabel('x=max tree depth')"
   ]
  },
  {
   "cell_type": "code",
   "execution_count": 16,
   "metadata": {
    "collapsed": false
   },
   "outputs": [
    {
     "data": {
      "text/html": [
<<<<<<< HEAD
       "<div>\n",
=======
       "<div style=\"max-height:1000px;max-width:1500px;overflow:auto;\">\n",
>>>>>>> 53f609591e6748463329cbfe8cff1bfd8d1c2603
       "<table border=\"1\" class=\"dataframe\">\n",
       "  <thead>\n",
       "    <tr style=\"text-align: right;\">\n",
       "      <th></th>\n",
       "      <th>feature</th>\n",
       "      <th>importance</th>\n",
       "    </tr>\n",
       "  </thead>\n",
       "  <tbody>\n",
       "    <tr>\n",
       "      <th>0</th>\n",
<<<<<<< HEAD
       "      <td>year</td>\n",
       "      <td>0.798744</td>\n",
       "    </tr>\n",
       "    <tr>\n",
       "      <th>1</th>\n",
       "      <td>miles</td>\n",
       "      <td>0.201256</td>\n",
       "    </tr>\n",
       "    <tr>\n",
       "      <th>2</th>\n",
       "      <td>doors</td>\n",
       "      <td>0.000000</td>\n",
       "    </tr>\n",
       "    <tr>\n",
       "      <th>3</th>\n",
       "      <td>type</td>\n",
       "      <td>0.000000</td>\n",
=======
       "      <td>  year</td>\n",
       "      <td> 0.798744</td>\n",
       "    </tr>\n",
       "    <tr>\n",
       "      <th>1</th>\n",
       "      <td> miles</td>\n",
       "      <td> 0.201256</td>\n",
       "    </tr>\n",
       "    <tr>\n",
       "      <th>2</th>\n",
       "      <td> doors</td>\n",
       "      <td> 0.000000</td>\n",
       "    </tr>\n",
       "    <tr>\n",
       "      <th>3</th>\n",
       "      <td>  type</td>\n",
       "      <td> 0.000000</td>\n",
>>>>>>> 53f609591e6748463329cbfe8cff1bfd8d1c2603
       "    </tr>\n",
       "  </tbody>\n",
       "</table>\n",
       "</div>"
      ],
      "text/plain": [
       "  feature  importance\n",
       "0    year    0.798744\n",
       "1   miles    0.201256\n",
       "2   doors    0.000000\n",
       "3    type    0.000000"
      ]
     },
     "execution_count": 16,
     "metadata": {},
     "output_type": "execute_result"
    }
   ],
   "source": [
    "# compute the \"Gini importance\" of each feature: the (normalized) total reduction of MSE brought by that feature\n",
    "pd.DataFrame({'feature':feature_cols, 'importance':treereg.feature_importances_})"
   ]
  },
  {
   "cell_type": "code",
<<<<<<< HEAD
   "execution_count": 17,
=======
   "execution_count": 22,
>>>>>>> 53f609591e6748463329cbfe8cff1bfd8d1c2603
   "metadata": {
    "collapsed": false
   },
   "outputs": [],
   "source": [
    "# create a Graphviz file\n",
    "from sklearn.tree import export_graphviz\n",
    "with open(\"15_vehicles.dot\", 'wb') as f:\n",
    "    f = export_graphviz(treereg, out_file=f, feature_names=feature_cols)\n",
    "\n",
    "# at the command line, run this to convert to PNG:\n",
    "#dot -Tpng 15_vehicles.dot -o 15_vehicles.png"
   ]
  },
  {
   "cell_type": "markdown",
   "metadata": {},
   "source": [
    "<img src=\"img/15_vehicles_instructor.png\">"
   ]
  },
  {
   "cell_type": "markdown",
   "metadata": {},
   "source": [
    "#### Interpreting a tree diagram\n",
    "\n",
    "How do we read this decision tree?\n",
    "\n",
    "**Internal nodes:**\n",
    "\n",
    "- \"samples\" is the number of observations in that node before splitting\n",
    "- \"mse\" is the mean squared error calculated by comparing the actual response values in that node against the mean response value in that node\n",
    "- first line is the condition used to split that node (go left if true, go right if false)\n",
    "\n",
    "**Leaves:**\n",
    "\n",
    "- \"samples\" is the number of observations in that node\n",
    "- \"value\" is the mean response value in that node\n",
    "- \"mse\" is the mean squared error calculated by comparing the actual response values in that node against \"value\""
   ]
  },
  {
   "cell_type": "markdown",
   "metadata": {},
   "source": [
    "### Exercises: \n",
    "\n",
    "\n",
    "### Exercise 2: Use GridSearchCV to find te best Regression Tree\n",
    "\n",
    "How do we know by pruning with max depth is the best model for us? Trees offer a variety of ways to pre-prune (that is, we tell a computer how to design the resulting tree with certain \"gotchas\").\n",
    "\n",
    "Measure           | What it does\n",
    "------------------|-------------\n",
    "max_depth         | How many nodes deep can the decision tree go?\n",
    "max_features      | Is there a cut off to the number of features to use?\n",
    "max_leaf_nodes    | How many leaves can be generated per node?\n",
    "min_samples_leaf  | How many samples need to be included at a leaf, at a minimum?  \n",
    "min_samples_split | How many samples need to be included at a node, at a minimum?\n",
    "\n",
    "While the data set is small, experiment with each in a loop and explain what is occuring."
   ]
  },
  {
   "cell_type": "code",
   "execution_count": null,
   "metadata": {
    "collapsed": true
   },
   "outputs": [],
   "source": [
    "#Your code here:\n",
    "\n",
    "PARAMETERS = {}\n",
    "SCORING = ''"
   ]
  },
  {
   "cell_type": "code",
   "execution_count": null,
   "metadata": {
    "collapsed": true
   },
   "outputs": [],
   "source": [
    "from sklearn import grid_search\n",
    "\n",
    "#Grid Search\n",
    "model = DecisionTreeRegressor()\n",
    "clf = grid_search.GridSearchCV(model, parameters=PARAMETERS, scoring=SCORING, verbose=True, n_jobs=1)\n",
    "clf.fit(X, y)\n",
    "\n",
    "#After completion, show the final best results and scores\n",
    "print clf.best_estimator_\n",
    "print clf.best_score_\n",
    "print np.sqrt(-clf.best_score_)"
   ]
  },
  {
   "cell_type": "markdown",
   "metadata": {},
   "source": [
    "### Execrise 3: Predicting for out-of-sample data\n",
    "\n",
    "How accurate is scikit-learn's regression tree at predicting the out-of-sample data?"
   ]
  },
  {
   "cell_type": "code",
   "execution_count": 34,
   "metadata": {
    "collapsed": false
   },
   "outputs": [],
   "source": [
    "# read in out-of-sample data\n",
    "oos = pd.read_csv('../data/used_vehicles_oos.csv')\n",
    "\n",
    "# convert car to 0 and truck to 1\n",
    "\n"
   ]
  },
  {
   "cell_type": "code",
   "execution_count": 24,
   "metadata": {
    "collapsed": false
   },
   "outputs": [],
   "source": [
    "# define X and y\n",
    "X_oos = \n",
    "y_oos = "
   ]
  },
  {
   "cell_type": "code",
   "execution_count": 32,
   "metadata": {
    "collapsed": false
   },
   "outputs": [],
   "source": [
    "# make predictions on out-of-sample data\n",
    "# preds = \n",
    "\n",
    "# print predictions and actual values\n",
    "print \"Predicted Values: {}\".format(preds)\n",
    "print \"Actual Values:    {}\".format(y_oos.values)"
   ]
  },
  {
   "cell_type": "code",
   "execution_count": 33,
   "metadata": {
    "collapsed": false
   },
   "outputs": [],
   "source": [
    "# print RMSE\n",
    "np.sqrt(metrics.mean_squared_error(y_oos, preds))"
   ]
  },
  {
   "cell_type": "markdown",
   "metadata": {},
   "source": [
    "__________________________\n",
    "### Classification trees\n",
    "\n",
    "Classification trees are very similar to regression trees. Here is a quick comparison:\n",
    "\n",
    "|regression trees|classification trees|\n",
    "|---|---|\n",
    "|predict a continuous response|predict a categorical response|\n",
    "|predict using mean response of each leaf|predict using most commonly occuring class of each leaf|\n",
    "|splits are chosen to minimize MSE|splits are chosen to minimize a different criterion (discussed below)|\n",
    "\n",
    "Note that classification trees easily handle **more than two response classes**! (How have other classification models we've seen handled this scenario?)\n",
    "\n",
    "Here's an **example of a classification tree**, which predicts whether or not a patient who presented with chest pain has heart disease:"
   ]
  },
  {
   "cell_type": "markdown",
   "metadata": {},
   "source": [
    "### Building a classification tree in scikit-learn"
   ]
  },
  {
   "cell_type": "markdown",
   "metadata": {},
   "source": [
    "We'll build a classification tree using the [Titanic data](https://www.kaggle.com/c/titanic-gettingStarted/data) provided by Kaggle.\n",
    "\n",
    "Note: this is the same data we used for the Midterm!"
   ]
  },
  {
   "cell_type": "code",
   "execution_count": 70,
   "metadata": {
    "collapsed": false
   },
   "outputs": [],
   "source": [
    "# read in the data\n",
    "titanic = pd.read_csv('../data/titanic.csv')\n",
    "titanic.head(10)"
   ]
  },
  {
   "cell_type": "code",
   "execution_count": 71,
   "metadata": {
    "collapsed": false
   },
   "outputs": [],
   "source": [
    "# look for missing values\n",
    "titanic.isnull().sum()"
   ]
  },
  {
   "cell_type": "markdown",
   "metadata": {},
   "source": [
    "Let's choose our response and a few features, and decide whether we need to adjust them:\n",
    "\n",
    "- **survived:** This is our response, and is already encoded as 0=died and 1=survived.\n",
    "- **pclass:** These are the passenger class categories (1=first class, 2=second class, 3=third class). Should we consider these ordered or nonordered?\n",
    "- **sex:** This is a binary category, so we should encode as 0=female and 1=male.\n",
    "- **age:** We need to fill in the missing values.\n",
    "- **embarked:** This is the port they emarked from. There are three unordered categories, so we'll create dummy variables."
   ]
  },
  {
   "cell_type": "code",
   "execution_count": 69,
   "metadata": {
    "collapsed": false
   },
   "outputs": [],
   "source": [
    "# copy\n",
    "titanic_c = pd.DataFrame(titanic)\n",
    "\n",
    "# encode sex feature\n",
    "titanic_c['sex'] = titanic.sex.map({'female':0, 'male':1})\n",
    "\n",
    "# fill in missing values for age - there are much more intelligent ways to handle this... but for today:\n",
    "titanic_c.age.fillna(titanic.age.mean(), inplace=True)\n",
    "\n",
    "# print the updated DataFrame\n",
    "titanic_c.head(10)"
   ]
  },
  {
   "cell_type": "code",
   "execution_count": 74,
   "metadata": {
    "collapsed": false
   },
   "outputs": [],
   "source": [
    "# create three dummy variables using get_dummies\n",
    "pd.get_dummies(titanic_c.embarked, prefix='embarked').head(10)"
   ]
  },
  {
   "cell_type": "code",
   "execution_count": 77,
   "metadata": {
    "collapsed": false
   },
   "outputs": [],
   "source": [
    "# # create three dummy variables, drop the first dummy variable, and store this as a DataFrame\n",
    "embarked_dummies = pd.get_dummies(titanic_c.embarked, prefix='embarked').iloc[:, 1:]\n",
    "\n",
    "# # join the two dummy variable columns onto the original DataFrame\n",
    "titanic_c = titanic_c.join(embarked_dummies)\n",
    "\n",
    "# # print the updated DataFrame\n",
    "titanic_c.head(10)"
   ]
  },
  {
   "cell_type": "code",
   "execution_count": 78,
   "metadata": {
    "collapsed": false
   },
   "outputs": [],
   "source": [
    "# create a list of feature columns\n",
    "feature_cols = ['pclass', 'sex', 'age', 'embarked_Q', 'embarked_S']\n",
    "\n",
    "# define X and y\n",
    "X = titanic_c[feature_cols]\n",
    "y = titanic_c.survived"
   ]
  },
  {
   "cell_type": "code",
   "execution_count": 81,
   "metadata": {
    "collapsed": false
   },
   "outputs": [],
   "source": [
    "# fit a classification tree with max_depth=3 on all data\n",
    "from sklearn.tree import DecisionTreeClassifier\n",
    "treeclf = DecisionTreeClassifier(max_depth=3, random_state=1)\n",
    "treeclf.fit(X, y)"
   ]
  },
  {
   "cell_type": "code",
   "execution_count": 80,
   "metadata": {
    "collapsed": false
   },
   "outputs": [],
   "source": [
    "# create a Graphviz file\n",
    "with open(\"15_titanic.dot\", 'wb') as f:\n",
    "    f = export_graphviz(treeclf, out_file=f, feature_names=feature_cols)\n",
    "    \n",
    "#from the command line run: \n",
    "#dot -Tpng 15_titanic.dot -o 15_titanic.png"
   ]
  },
  {
   "cell_type": "markdown",
   "metadata": {},
   "source": [
    "<img src=\"img/15_titanic_instructor.png\">"
   ]
  },
  {
   "cell_type": "markdown",
   "metadata": {},
   "source": [
    "Notice the split in the bottom right, which was made only to increase node purity."
   ]
  },
  {
   "cell_type": "code",
   "execution_count": 82,
   "metadata": {
    "collapsed": false
   },
   "outputs": [],
   "source": [
    "# compute the feature importances\n",
    "pd.DataFrame({'feature':feature_cols, 'importance':treeclf.feature_importances_})"
   ]
  },
  {
   "cell_type": "code",
   "execution_count": 33,
   "metadata": {
    "collapsed": false
   },
   "outputs": [
    {
     "name": "stdout",
     "output_type": "stream",
     "text": [
      "[[524  25]\n",
      " [133 209]]\n"
     ]
    }
   ],
   "source": [
    "# Compute the confusion matrix\n",
    "conf = metrics.confusion_matrix(y, treeclf.predict(X))\n",
    "print conf"
   ]
  },
  {
   "cell_type": "markdown",
   "metadata": {},
   "source": [
    "### More on Confusion Matrices (one last metric for classification)\n",
    "\n",
    "Arguably the most useful metric we can use in binary classification problems is the Recieving Opererating Characteristic (ROC) curve, or in particular, the Area Under said Curve (AUC). We can calculate the AUC from the results of a confusion matrix:"
   ]
  },
  {
   "cell_type": "markdown",
   "metadata": {},
   "source": [
    "<img src='img/confusion_matrix_metrics.png'>"
   ]
  },
  {
   "cell_type": "code",
   "execution_count": 34,
   "metadata": {
    "collapsed": false
   },
   "outputs": [
    {
     "name": "stdout",
     "output_type": "stream",
     "text": [
      "[[209  25]\n",
      " [133 524]]\n",
      "fpr 0.0455373406193\n",
      "tpr 0.611111111111\n",
      "precision 0.893162393162\n",
      "accuracy 0.822671156004\n"
     ]
    }
   ],
   "source": [
    "## THE CONFUSION MATRIX FROM SKLEARN IS INVERTED. (rows = true, cols = predicted)\n",
    "from __future__ import division\n",
    "def true_confusion_matrix(mtrx):\n",
    "    return np.array([[mtrx[1, 1], mtrx[0, 1]], [mtrx[1, 0], mtrx[0, 0]]])\n",
    "\n",
    "true_conf = true_confusion_matrix(conf)\n",
    "\n",
    "print true_conf\n",
    "# false positive rate (fpr) = false positives / (false positives + true negatives)\n",
    "# \"What percent of the negatives were predicted as positive?\"\n",
    "# Goal: keep this low\n",
    "def fpr(confusion):\n",
    "    return confusion[0, 1] / (confusion[0, 1] + confusion[1, 1])\n",
    "\n",
    "print 'fpr', fpr(true_conf)\n",
    "\n",
    "# true positive rate/recall (tpr) = true positives / (true positives + false negatives)\n",
    "# \"What percent of the positives were accurately measured as positives?\"\n",
    "# Goal: keep this high\n",
    "def tpr(confusion):\n",
    "    return confusion[0, 0] / (confusion[0, 0] + confusion[1, 0])\n",
    "\n",
    "print 'tpr', tpr(true_conf)\n",
    "\n",
    "\n",
    "# precision = true positives / (true positives + false positives)\n",
    "# \"What percent of predicted positives were truly positive?\n",
    "# Goal: keep this high\n",
    "def precision(confusion):\n",
    "    return confusion[0, 0] / (confusion[0, 0] + confusion[0, 1])\n",
    "\n",
    "print 'precision', precision(true_conf)\n",
    "    \n",
    "# accuracy = (true positives + true negatives) / total observations\n",
    "# \"What percent of values were accurately predicted?\"\n",
    "# Goal: Keep this high\n",
    "def acc(confusion):\n",
    "    return (confusion[0, 0] + confusion[1, 1]) / (confusion[0, 0] + confusion[1, 1] + confusion[0, 1] + confusion[1, 0])\n",
    "\n",
    "print 'accuracy', acc(true_conf)\n",
    "    \n",
    "# auc = calculate area under x=fpr, y=tpr"
   ]
  },
  {
   "cell_type": "code",
   "execution_count": 35,
   "metadata": {
    "collapsed": false
   },
   "outputs": [
    {
     "name": "stdout",
     "output_type": "stream",
     "text": [
      "fpr 0.0455373406193\n",
      "tpr 0.611111111111\n",
      "precision 0.893162393162\n",
      "accuracy 0.822671156004\n"
     ]
    },
    {
     "data": {
      "text/plain": [
       "<matplotlib.text.Text at 0x10a294c50>"
      ]
     },
     "execution_count": 35,
     "metadata": {},
     "output_type": "execute_result"
    },
    {
     "data": {
      "image/png": "iVBORw0KGgoAAAANSUhEUgAAAfYAAAFkCAYAAADSRRn0AAAABHNCSVQICAgIfAhkiAAAAAlwSFlz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\nIhHy/wMauUCRLDTPZgAAAABJRU5ErkJggg==\n",
      "text/plain": [
       "<matplotlib.figure.Figure at 0x10a29c990>"
      ]
     },
     "metadata": {},
     "output_type": "display_data"
    }
   ],
   "source": [
    "# sklearn has all of this built in:\n",
    "\n",
    "print 'fpr', metrics.roc_curve(y, treeclf.predict(X))[0][1] #fpr\n",
    "print 'tpr', metrics.roc_curve(y, treeclf.predict(X))[1][1] #tpr\n",
    "print 'precision', metrics.precision_score(y, treeclf.predict(X))\n",
    "print 'accuracy', metrics.accuracy_score(y, treeclf.predict(X))\n",
    "\n",
    "roc = metrics.roc_curve(y, treeclf.predict(X))\n",
    "plt.figure()\n",
    "# dummy, what's the worst random job we can do?\n",
    "plt.plot([0, 0.5, 1], [0, 0.5, 1])\n",
    "plt.plot(roc[0], roc[1])\n",
    "plt.xlabel('false positive rate')\n",
    "plt.ylabel('true positive rate')"
   ]
  },
  {
   "cell_type": "markdown",
   "metadata": {},
   "source": [
    "### Independent / On your Own\n",
    "\n",
    "Like we had done early optimizing the model, here are a few things we should try to make sure we've fit our best model:\n",
    "\n",
    "1. Play with the stopping criteria in a loop and determine which produces the best cross validated model.\n",
    "2. Compare your best tree model to another classifier (naive bayes, logistic regression). Which seems to perform the best, and why do you think so?"
   ]
  },
  {
   "cell_type": "markdown",
   "metadata": {},
   "source": [
    "### Wrapping up decision trees\n",
    "\n",
    "Here are some advantages and disadvantages of decision trees that we haven't yet talked about:\n",
    "\n",
    "**Advantages:**\n",
    "\n",
    "- Can be specified as a series of rules, and are thought to more closely approximate human decision-making than other models\n",
    "- Non-parametric (will do better than linear regression if relationship between predictors and response is highly non-linear)"
   ]
  },
  {
   "cell_type": "markdown",
   "metadata": {},
   "source": [
    "**Disadvantages:**\n",
    "\n",
    "- Small variations in the data can result in a completely different tree\n",
    "- Recursive binary splitting makes \"locally optimal\" decisions that may not result in a globally optimal tree\n",
    "- Can create biased trees if the classes are highly imbalanced\n",
    "\n",
    "Note that there is not just one decision tree algorithm; instead, there are many variations. A few common decision tree algorithms that are often referred to by name are C4.5, C5.0, and CART. (More details are available in the [scikit-learn documentation](http://scikit-learn.org/stable/modules/tree.html#tree-algorithms-id3-c4-5-c5-0-and-cart).) scikit-learn uses an \"optimized version\" of CART."
   ]
  },
  {
   "cell_type": "markdown",
   "metadata": {},
   "source": [
    "## Resources\n",
    "\n",
    "**Decision Trees**\n",
    "\n",
    "- scikit-learn documentation: [Decision Trees](http://scikit-learn.org/stable/modules/tree.html)\n",
    "- Additional thoughts on [Gini Vs Entropy](http://www.garysieling.com/blog/sklearn-gini-vs-entropy-criteria)\n",
    "\n",
    "** ROC **\n",
    "- [Really Awesome Paper!](https://ccrma.stanford.edu/workshops/mir2009/references/ROCintro.pdf)\n",
    "\n",
    "\n",
    "\n"
   ]
  }
 ],
 "metadata": {
  "kernelspec": {
   "display_name": "Python 2",
   "language": "python",
   "name": "python2"
  },
  "language_info": {
   "codemirror_mode": {
    "name": "ipython",
    "version": 2
   },
   "file_extension": ".py",
   "mimetype": "text/x-python",
   "name": "python",
   "nbconvert_exporter": "python",
   "pygments_lexer": "ipython2",
   "version": "2.7.10"
  }
 },
 "nbformat": 4,
 "nbformat_minor": 0
}
