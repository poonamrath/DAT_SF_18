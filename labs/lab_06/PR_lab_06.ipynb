{
 "cells": [
  {
   "cell_type": "markdown",
   "metadata": {},
   "source": [
    "\n",
    "\n",
    "\n",
    "Cross Validation & Naive Bayes Lab - SMS Spam Classification\n",
    "===============\n",
    "* orignally developed by Ankit Jain\n",
    "* modified by Justin Breucop\n",
    "* modified by Dylan Hercher\n",
    "\n",
    "Data source: https://archive.ics.uci.edu/ml/datasets/SMS+Spam+Collection"
   ]
  },
  {
   "cell_type": "markdown",
   "metadata": {},
   "source": [
    "# Section 1)"
   ]
  },
  {
   "cell_type": "markdown",
   "metadata": {},
   "source": [
    "## Cross Validation from Scratch\n",
    "\n",
    "Let's build it the function together! The steps to cross validation are:\n",
    "1. Randomly separate your training set into _k_ groups\n",
    "2. For each group _k_:\n",
    ">1. Train your model on the other groups\n",
    ">2. Score your model using group _k_ as validation\n",
    ">3. Save your score and move to your next group\n",
    "\n",
    "3. Add your _k_ scores and divide by _k_ to get your average score"
   ]
  },
  {
   "cell_type": "code",
   "execution_count": 12,
   "metadata": {
    "collapsed": false
   },
   "outputs": [],
   "source": [
    "# Importing Packages \n",
    "import numpy as np\n",
    "import pandas as pd\n",
    "\n",
    "from sklearn.neighbors import KNeighborsClassifier\n",
    "from sklearn.cross_validation import train_test_split, StratifiedKFold, KFold"
   ]
  },
  {
   "cell_type": "code",
   "execution_count": 2,
   "metadata": {
    "collapsed": false
   },
   "outputs": [],
   "source": [
    "model = KNeighborsClassifier(10)\n",
    "\n",
    "df = pd.DataFrame.from_csv('../data/titanic-train.csv',index_col=None)[['Age','Pclass','SibSp','Survived']].dropna()\n",
    "to_predict = \"Survived\"\n",
    "features=['Age','Pclass','SibSp']\n",
    "data = df[features]\n",
    "label = df[to_predict]\n",
    "folds=5"
   ]
  },
  {
   "cell_type": "code",
   "execution_count": 27,
   "metadata": {
    "collapsed": false
   },
   "outputs": [
    {
     "data": {
      "text/plain": [
       "array([ 0.64335664,  0.69230769,  0.6993007 ,  0.74125874,  0.67605634])"
      ]
     },
     "execution_count": 27,
     "metadata": {},
     "output_type": "execute_result"
    }
   ],
   "source": [
    "from sklearn.cross_validation import cross_val_score\n",
    "\n",
    "# Results of using the built-in cross validation\n",
    "# Note: Default is Kfold, but within sklearn.cross_validation\n",
    "# there are many types of validation that can be used\n",
    "cross_val_score(model, data, label, cv=StratifiedKFold(label, 5, shuffle=False)) ## set shuffle to false to randomize the split"
   ]
  },
  {
   "cell_type": "code",
   "execution_count": 7,
   "metadata": {
    "collapsed": false
   },
   "outputs": [
    {
     "data": {
      "text/plain": [
       "Index([u'Age', u'Pclass', u'SibSp'], dtype='object')"
      ]
     },
     "execution_count": 7,
     "metadata": {},
     "output_type": "execute_result"
    }
   ],
   "source": [
    "data.columns"
   ]
  },
  {
   "cell_type": "code",
   "execution_count": 8,
   "metadata": {
    "collapsed": false
   },
   "outputs": [
    {
     "data": {
      "text/plain": [
       "0    0\n",
       "1    1\n",
       "2    1\n",
       "3    1\n",
       "4    0\n",
       "Name: Survived, dtype: int64"
      ]
     },
     "execution_count": 8,
     "metadata": {},
     "output_type": "execute_result"
    }
   ],
   "source": [
    "label.head()"
   ]
  },
  {
   "cell_type": "code",
   "execution_count": 10,
   "metadata": {
    "collapsed": true
   },
   "outputs": [
    {
     "data": {
      "text/html": [
       "<div style=\"max-height:1000px;max-width:1500px;overflow:auto;\">\n",
       "<table border=\"1\" class=\"dataframe\">\n",
       "  <thead>\n",
       "    <tr style=\"text-align: right;\">\n",
       "      <th></th>\n",
       "      <th>Age</th>\n",
       "      <th>Pclass</th>\n",
       "      <th>SibSp</th>\n",
       "    </tr>\n",
       "  </thead>\n",
       "  <tbody>\n",
       "    <tr>\n",
       "      <th>0  </th>\n",
       "      <td> 22</td>\n",
       "      <td> 3</td>\n",
       "      <td> 1</td>\n",
       "    </tr>\n",
       "    <tr>\n",
       "      <th>1  </th>\n",
       "      <td> 38</td>\n",
       "      <td> 1</td>\n",
       "      <td> 1</td>\n",
       "    </tr>\n",
       "    <tr>\n",
       "      <th>2  </th>\n",
       "      <td> 26</td>\n",
       "      <td> 3</td>\n",
       "      <td> 0</td>\n",
       "    </tr>\n",
       "    <tr>\n",
       "      <th>3  </th>\n",
       "      <td> 35</td>\n",
       "      <td> 1</td>\n",
       "      <td> 1</td>\n",
       "    </tr>\n",
       "    <tr>\n",
       "      <th>4  </th>\n",
       "      <td> 35</td>\n",
       "      <td> 3</td>\n",
       "      <td> 0</td>\n",
       "    </tr>\n",
       "    <tr>\n",
       "      <th>6  </th>\n",
       "      <td> 54</td>\n",
       "      <td> 1</td>\n",
       "      <td> 0</td>\n",
       "    </tr>\n",
       "    <tr>\n",
       "      <th>7  </th>\n",
       "      <td>  2</td>\n",
       "      <td> 3</td>\n",
       "      <td> 3</td>\n",
       "    </tr>\n",
       "    <tr>\n",
       "      <th>8  </th>\n",
       "      <td> 27</td>\n",
       "      <td> 3</td>\n",
       "      <td> 0</td>\n",
       "    </tr>\n",
       "    <tr>\n",
       "      <th>9  </th>\n",
       "      <td> 14</td>\n",
       "      <td> 2</td>\n",
       "      <td> 1</td>\n",
       "    </tr>\n",
       "    <tr>\n",
       "      <th>10 </th>\n",
       "      <td>  4</td>\n",
       "      <td> 3</td>\n",
       "      <td> 1</td>\n",
       "    </tr>\n",
       "    <tr>\n",
       "      <th>11 </th>\n",
       "      <td> 58</td>\n",
       "      <td> 1</td>\n",
       "      <td> 0</td>\n",
       "    </tr>\n",
       "    <tr>\n",
       "      <th>12 </th>\n",
       "      <td> 20</td>\n",
       "      <td> 3</td>\n",
       "      <td> 0</td>\n",
       "    </tr>\n",
       "    <tr>\n",
       "      <th>13 </th>\n",
       "      <td> 39</td>\n",
       "      <td> 3</td>\n",
       "      <td> 1</td>\n",
       "    </tr>\n",
       "    <tr>\n",
       "      <th>14 </th>\n",
       "      <td> 14</td>\n",
       "      <td> 3</td>\n",
       "      <td> 0</td>\n",
       "    </tr>\n",
       "    <tr>\n",
       "      <th>15 </th>\n",
       "      <td> 55</td>\n",
       "      <td> 2</td>\n",
       "      <td> 0</td>\n",
       "    </tr>\n",
       "    <tr>\n",
       "      <th>16 </th>\n",
       "      <td>  2</td>\n",
       "      <td> 3</td>\n",
       "      <td> 4</td>\n",
       "    </tr>\n",
       "    <tr>\n",
       "      <th>18 </th>\n",
       "      <td> 31</td>\n",
       "      <td> 3</td>\n",
       "      <td> 1</td>\n",
       "    </tr>\n",
       "    <tr>\n",
       "      <th>20 </th>\n",
       "      <td> 35</td>\n",
       "      <td> 2</td>\n",
       "      <td> 0</td>\n",
       "    </tr>\n",
       "    <tr>\n",
       "      <th>21 </th>\n",
       "      <td> 34</td>\n",
       "      <td> 2</td>\n",
       "      <td> 0</td>\n",
       "    </tr>\n",
       "    <tr>\n",
       "      <th>22 </th>\n",
       "      <td> 15</td>\n",
       "      <td> 3</td>\n",
       "      <td> 0</td>\n",
       "    </tr>\n",
       "    <tr>\n",
       "      <th>23 </th>\n",
       "      <td> 28</td>\n",
       "      <td> 1</td>\n",
       "      <td> 0</td>\n",
       "    </tr>\n",
       "    <tr>\n",
       "      <th>24 </th>\n",
       "      <td>  8</td>\n",
       "      <td> 3</td>\n",
       "      <td> 3</td>\n",
       "    </tr>\n",
       "    <tr>\n",
       "      <th>25 </th>\n",
       "      <td> 38</td>\n",
       "      <td> 3</td>\n",
       "      <td> 1</td>\n",
       "    </tr>\n",
       "    <tr>\n",
       "      <th>27 </th>\n",
       "      <td> 19</td>\n",
       "      <td> 1</td>\n",
       "      <td> 3</td>\n",
       "    </tr>\n",
       "    <tr>\n",
       "      <th>30 </th>\n",
       "      <td> 40</td>\n",
       "      <td> 1</td>\n",
       "      <td> 0</td>\n",
       "    </tr>\n",
       "    <tr>\n",
       "      <th>33 </th>\n",
       "      <td> 66</td>\n",
       "      <td> 2</td>\n",
       "      <td> 0</td>\n",
       "    </tr>\n",
       "    <tr>\n",
       "      <th>34 </th>\n",
       "      <td> 28</td>\n",
       "      <td> 1</td>\n",
       "      <td> 1</td>\n",
       "    </tr>\n",
       "    <tr>\n",
       "      <th>35 </th>\n",
       "      <td> 42</td>\n",
       "      <td> 1</td>\n",
       "      <td> 1</td>\n",
       "    </tr>\n",
       "    <tr>\n",
       "      <th>37 </th>\n",
       "      <td> 21</td>\n",
       "      <td> 3</td>\n",
       "      <td> 0</td>\n",
       "    </tr>\n",
       "    <tr>\n",
       "      <th>38 </th>\n",
       "      <td> 18</td>\n",
       "      <td> 3</td>\n",
       "      <td> 2</td>\n",
       "    </tr>\n",
       "    <tr>\n",
       "      <th>...</th>\n",
       "      <td>...</td>\n",
       "      <td>...</td>\n",
       "      <td>...</td>\n",
       "    </tr>\n",
       "    <tr>\n",
       "      <th>856</th>\n",
       "      <td> 45</td>\n",
       "      <td> 1</td>\n",
       "      <td> 1</td>\n",
       "    </tr>\n",
       "    <tr>\n",
       "      <th>857</th>\n",
       "      <td> 51</td>\n",
       "      <td> 1</td>\n",
       "      <td> 0</td>\n",
       "    </tr>\n",
       "    <tr>\n",
       "      <th>858</th>\n",
       "      <td> 24</td>\n",
       "      <td> 3</td>\n",
       "      <td> 0</td>\n",
       "    </tr>\n",
       "    <tr>\n",
       "      <th>860</th>\n",
       "      <td> 41</td>\n",
       "      <td> 3</td>\n",
       "      <td> 2</td>\n",
       "    </tr>\n",
       "    <tr>\n",
       "      <th>861</th>\n",
       "      <td> 21</td>\n",
       "      <td> 2</td>\n",
       "      <td> 1</td>\n",
       "    </tr>\n",
       "    <tr>\n",
       "      <th>862</th>\n",
       "      <td> 48</td>\n",
       "      <td> 1</td>\n",
       "      <td> 0</td>\n",
       "    </tr>\n",
       "    <tr>\n",
       "      <th>864</th>\n",
       "      <td> 24</td>\n",
       "      <td> 2</td>\n",
       "      <td> 0</td>\n",
       "    </tr>\n",
       "    <tr>\n",
       "      <th>865</th>\n",
       "      <td> 42</td>\n",
       "      <td> 2</td>\n",
       "      <td> 0</td>\n",
       "    </tr>\n",
       "    <tr>\n",
       "      <th>866</th>\n",
       "      <td> 27</td>\n",
       "      <td> 2</td>\n",
       "      <td> 1</td>\n",
       "    </tr>\n",
       "    <tr>\n",
       "      <th>867</th>\n",
       "      <td> 31</td>\n",
       "      <td> 1</td>\n",
       "      <td> 0</td>\n",
       "    </tr>\n",
       "    <tr>\n",
       "      <th>869</th>\n",
       "      <td>  4</td>\n",
       "      <td> 3</td>\n",
       "      <td> 1</td>\n",
       "    </tr>\n",
       "    <tr>\n",
       "      <th>870</th>\n",
       "      <td> 26</td>\n",
       "      <td> 3</td>\n",
       "      <td> 0</td>\n",
       "    </tr>\n",
       "    <tr>\n",
       "      <th>871</th>\n",
       "      <td> 47</td>\n",
       "      <td> 1</td>\n",
       "      <td> 1</td>\n",
       "    </tr>\n",
       "    <tr>\n",
       "      <th>872</th>\n",
       "      <td> 33</td>\n",
       "      <td> 1</td>\n",
       "      <td> 0</td>\n",
       "    </tr>\n",
       "    <tr>\n",
       "      <th>873</th>\n",
       "      <td> 47</td>\n",
       "      <td> 3</td>\n",
       "      <td> 0</td>\n",
       "    </tr>\n",
       "    <tr>\n",
       "      <th>874</th>\n",
       "      <td> 28</td>\n",
       "      <td> 2</td>\n",
       "      <td> 1</td>\n",
       "    </tr>\n",
       "    <tr>\n",
       "      <th>875</th>\n",
       "      <td> 15</td>\n",
       "      <td> 3</td>\n",
       "      <td> 0</td>\n",
       "    </tr>\n",
       "    <tr>\n",
       "      <th>876</th>\n",
       "      <td> 20</td>\n",
       "      <td> 3</td>\n",
       "      <td> 0</td>\n",
       "    </tr>\n",
       "    <tr>\n",
       "      <th>877</th>\n",
       "      <td> 19</td>\n",
       "      <td> 3</td>\n",
       "      <td> 0</td>\n",
       "    </tr>\n",
       "    <tr>\n",
       "      <th>879</th>\n",
       "      <td> 56</td>\n",
       "      <td> 1</td>\n",
       "      <td> 0</td>\n",
       "    </tr>\n",
       "    <tr>\n",
       "      <th>880</th>\n",
       "      <td> 25</td>\n",
       "      <td> 2</td>\n",
       "      <td> 0</td>\n",
       "    </tr>\n",
       "    <tr>\n",
       "      <th>881</th>\n",
       "      <td> 33</td>\n",
       "      <td> 3</td>\n",
       "      <td> 0</td>\n",
       "    </tr>\n",
       "    <tr>\n",
       "      <th>882</th>\n",
       "      <td> 22</td>\n",
       "      <td> 3</td>\n",
       "      <td> 0</td>\n",
       "    </tr>\n",
       "    <tr>\n",
       "      <th>883</th>\n",
       "      <td> 28</td>\n",
       "      <td> 2</td>\n",
       "      <td> 0</td>\n",
       "    </tr>\n",
       "    <tr>\n",
       "      <th>884</th>\n",
       "      <td> 25</td>\n",
       "      <td> 3</td>\n",
       "      <td> 0</td>\n",
       "    </tr>\n",
       "    <tr>\n",
       "      <th>885</th>\n",
       "      <td> 39</td>\n",
       "      <td> 3</td>\n",
       "      <td> 0</td>\n",
       "    </tr>\n",
       "    <tr>\n",
       "      <th>886</th>\n",
       "      <td> 27</td>\n",
       "      <td> 2</td>\n",
       "      <td> 0</td>\n",
       "    </tr>\n",
       "    <tr>\n",
       "      <th>887</th>\n",
       "      <td> 19</td>\n",
       "      <td> 1</td>\n",
       "      <td> 0</td>\n",
       "    </tr>\n",
       "    <tr>\n",
       "      <th>889</th>\n",
       "      <td> 26</td>\n",
       "      <td> 1</td>\n",
       "      <td> 0</td>\n",
       "    </tr>\n",
       "    <tr>\n",
       "      <th>890</th>\n",
       "      <td> 32</td>\n",
       "      <td> 3</td>\n",
       "      <td> 0</td>\n",
       "    </tr>\n",
       "  </tbody>\n",
       "</table>\n",
       "<p>714 rows × 3 columns</p>\n",
       "</div>"
      ],
      "text/plain": [
       "     Age  Pclass  SibSp\n",
       "0     22       3      1\n",
       "1     38       1      1\n",
       "2     26       3      0\n",
       "3     35       1      1\n",
       "4     35       3      0\n",
       "6     54       1      0\n",
       "7      2       3      3\n",
       "8     27       3      0\n",
       "9     14       2      1\n",
       "10     4       3      1\n",
       "11    58       1      0\n",
       "12    20       3      0\n",
       "13    39       3      1\n",
       "14    14       3      0\n",
       "15    55       2      0\n",
       "16     2       3      4\n",
       "18    31       3      1\n",
       "20    35       2      0\n",
       "21    34       2      0\n",
       "22    15       3      0\n",
       "23    28       1      0\n",
       "24     8       3      3\n",
       "25    38       3      1\n",
       "27    19       1      3\n",
       "30    40       1      0\n",
       "33    66       2      0\n",
       "34    28       1      1\n",
       "35    42       1      1\n",
       "37    21       3      0\n",
       "38    18       3      2\n",
       "..   ...     ...    ...\n",
       "856   45       1      1\n",
       "857   51       1      0\n",
       "858   24       3      0\n",
       "860   41       3      2\n",
       "861   21       2      1\n",
       "862   48       1      0\n",
       "864   24       2      0\n",
       "865   42       2      0\n",
       "866   27       2      1\n",
       "867   31       1      0\n",
       "869    4       3      1\n",
       "870   26       3      0\n",
       "871   47       1      1\n",
       "872   33       1      0\n",
       "873   47       3      0\n",
       "874   28       2      1\n",
       "875   15       3      0\n",
       "876   20       3      0\n",
       "877   19       3      0\n",
       "879   56       1      0\n",
       "880   25       2      0\n",
       "881   33       3      0\n",
       "882   22       3      0\n",
       "883   28       2      0\n",
       "884   25       3      0\n",
       "885   39       3      0\n",
       "886   27       2      0\n",
       "887   19       1      0\n",
       "889   26       1      0\n",
       "890   32       3      0\n",
       "\n",
       "[714 rows x 3 columns]"
      ]
     },
     "execution_count": 10,
     "metadata": {},
     "output_type": "execute_result"
    }
   ],
   "source": [
    "data.ix[:,:]"
   ]
  },
  {
   "cell_type": "markdown",
   "metadata": {},
   "source": [
    "Let's build in class!"
   ]
  },
  {
   "cell_type": "code",
   "execution_count": 25,
   "metadata": {
    "collapsed": false
   },
   "outputs": [
    {
     "data": {
      "text/plain": [
       "'Return Average score across k iterations\\n    Parameters\\n    -----------\\n    data : DataFrame with features to use in X\\n    label : Series with target y\\n    model : ML Model to use\\n    k : int number of iterations\\n    '"
      ]
     },
     "execution_count": 25,
     "metadata": {},
     "output_type": "execute_result"
    }
   ],
   "source": [
    "#Function here:\n",
    "def cross_validate_df(data,label,model,k):\n",
    "    X = data.ix[:,:].values\n",
    "    y = label\n",
    "    score = []\n",
    "    for n in range(k):\n",
    "        X_train, X_test, y_train, y_test =  train_test_split(X, y, test_size = 0.2)\n",
    "        model = KNeighborsClassifier(5).fit(X_train, y_train)\n",
    "        model.predict(X_test)\n",
    "        model.score = score(X_test, y_test)\n",
    "        score.append(score)\n",
    "        \n",
    "    return score \n",
    "\n",
    "# df1 = pd.DataFrame(n_neighbors, columns = ['n'])\n",
    "# df1.Scores = scores\n",
    "\n",
    "                     \n",
    "# fig = plt.figure(figsize=(6,5))\n",
    "# plt.title('KNN score as a funtion of number of neighbors')\n",
    "# plt.ylim(0.2,1.1)                                      \n",
    "# plt.plot(split_num, scores)  \n",
    "\n",
    "\n",
    "\"\"\"Return Average score across k iterations\n",
    "    Parameters\n",
    "    -----------\n",
    "    data : DataFrame with features to use in X\n",
    "    label : Series with target y\n",
    "    model : ML Model to use\n",
    "    k : int number of iterations\n",
    "    \"\"\"\n",
    "    # TODO: Design the cross validation function\n",
    "    # it may be helpful to try writing the function with k=1 first\n",
    "    \n",
    "    "
   ]
  },
  {
   "cell_type": "code",
   "execution_count": null,
   "metadata": {
    "collapsed": true
   },
   "outputs": [],
   "source": [
    "def cross_validate_df(data,label,model,k):\n",
    "    train_slices = []\n",
    "    test_slices = []\n",
    "    positions = data.index.values\n",
    "    np.random.shuffle(positions)\n",
    "    \n",
    "    for n in range(k):\n",
    "        X_train, X_test, y_train, y_test =  test_train_split(data, label, test_size = 1.0/k)\n",
    "#         model = KNeighborsClassifier(5).fit(X_train, y_train)\n",
    "#         model.predict(X_test)\n",
    "#         model.score = score(X_test, y_test)\n",
    "#         score.append(score)\n",
    "       \n",
    "    return None  "
   ]
  },
  {
   "cell_type": "code",
   "execution_count": 26,
   "metadata": {
    "collapsed": false
   },
   "outputs": [
    {
     "ename": "TypeError",
     "evalue": "'list' object is not callable",
     "output_type": "error",
     "traceback": [
      "\u001b[0;31m---------------------------------------------------------------------------\u001b[0m",
      "\u001b[0;31mTypeError\u001b[0m                                 Traceback (most recent call last)",
      "\u001b[0;32m<ipython-input-26-90622acca76b>\u001b[0m in \u001b[0;36m<module>\u001b[0;34m()\u001b[0m\n\u001b[1;32m      1\u001b[0m \u001b[0;31m# Once Complete test your function here\u001b[0m\u001b[0;34m\u001b[0m\u001b[0;34m\u001b[0m\u001b[0m\n\u001b[0;32m----> 2\u001b[0;31m \u001b[0mcross_validate_df\u001b[0m\u001b[0;34m(\u001b[0m\u001b[0mdata\u001b[0m\u001b[0;34m,\u001b[0m\u001b[0mlabel\u001b[0m\u001b[0;34m,\u001b[0m\u001b[0mmodel\u001b[0m\u001b[0;34m,\u001b[0m\u001b[0;36m5\u001b[0m\u001b[0;34m)\u001b[0m\u001b[0;34m\u001b[0m\u001b[0m\n\u001b[0m",
      "\u001b[0;32m<ipython-input-25-109233b762b1>\u001b[0m in \u001b[0;36mcross_validate_df\u001b[0;34m(data, label, model, k)\u001b[0m\n\u001b[1;32m      8\u001b[0m         \u001b[0mmodel\u001b[0m \u001b[0;34m=\u001b[0m \u001b[0mKNeighborsClassifier\u001b[0m\u001b[0;34m(\u001b[0m\u001b[0;36m5\u001b[0m\u001b[0;34m)\u001b[0m\u001b[0;34m.\u001b[0m\u001b[0mfit\u001b[0m\u001b[0;34m(\u001b[0m\u001b[0mX_train\u001b[0m\u001b[0;34m,\u001b[0m \u001b[0my_train\u001b[0m\u001b[0;34m)\u001b[0m\u001b[0;34m\u001b[0m\u001b[0m\n\u001b[1;32m      9\u001b[0m         \u001b[0mmodel\u001b[0m\u001b[0;34m.\u001b[0m\u001b[0mpredict\u001b[0m\u001b[0;34m(\u001b[0m\u001b[0mX_test\u001b[0m\u001b[0;34m)\u001b[0m\u001b[0;34m\u001b[0m\u001b[0m\n\u001b[0;32m---> 10\u001b[0;31m         \u001b[0mmodel\u001b[0m\u001b[0;34m.\u001b[0m\u001b[0mscore\u001b[0m \u001b[0;34m=\u001b[0m \u001b[0mscore\u001b[0m\u001b[0;34m(\u001b[0m\u001b[0mX_test\u001b[0m\u001b[0;34m,\u001b[0m \u001b[0my_test\u001b[0m\u001b[0;34m)\u001b[0m\u001b[0;34m\u001b[0m\u001b[0m\n\u001b[0m\u001b[1;32m     11\u001b[0m         \u001b[0mscore\u001b[0m\u001b[0;34m.\u001b[0m\u001b[0mappend\u001b[0m\u001b[0;34m(\u001b[0m\u001b[0mscore\u001b[0m\u001b[0;34m)\u001b[0m\u001b[0;34m\u001b[0m\u001b[0m\n\u001b[1;32m     12\u001b[0m \u001b[0;34m\u001b[0m\u001b[0m\n",
      "\u001b[0;31mTypeError\u001b[0m: 'list' object is not callable"
     ]
    }
   ],
   "source": [
    "# Once Complete test your function here\n",
    "cross_validate_df(data,label,model,5)"
   ]
  },
  {
   "cell_type": "code",
   "execution_count": 27,
   "metadata": {
    "collapsed": false
   },
   "outputs": [
    {
     "data": {
      "text/plain": [
       "[(1, 4), (2, 5), (3, 6)]"
      ]
     },
     "execution_count": 27,
     "metadata": {},
     "output_type": "execute_result"
    }
   ],
   "source": [
    "zip([1,2,3],[4,5,6])"
   ]
  },
  {
   "cell_type": "code",
   "execution_count": null,
   "metadata": {
    "collapsed": true
   },
   "outputs": [],
   "source": [
    "## zip the train and the test"
   ]
  },
  {
   "cell_type": "markdown",
   "metadata": {},
   "source": [
    "### Built-in Cross Validation\n",
    "There is also a very simple cross validation function provided by sklearn"
   ]
  },
  {
   "cell_type": "code",
   "execution_count": 41,
   "metadata": {
    "collapsed": false
   },
   "outputs": [
    {
     "data": {
      "text/plain": [
       "array([ 0.64335664,  0.69230769,  0.6993007 ,  0.74125874,  0.67605634])"
      ]
     },
     "execution_count": 41,
     "metadata": {},
     "output_type": "execute_result"
    }
   ],
   "source": [
    "from sklearn.cross_validation import cross_val_score\n",
    "\n",
    "# Results of using the built-in cross validation\n",
    "# Note: Default is Kfold, but within sklearn.cross_validation\n",
    "# there are many types of validation that can be used\n",
    "cross_val_score(model, data, label, cv=5)"
   ]
  },
  {
   "cell_type": "code",
   "execution_count": 40,
   "metadata": {
    "collapsed": false
   },
   "outputs": [
    {
     "data": {
      "text/plain": [
       "array([ 0.64016736,  0.70168067,  0.69198312])"
      ]
     },
     "execution_count": 40,
     "metadata": {},
     "output_type": "execute_result"
    }
   ],
   "source": [
    "cross_val_score(model, data, label, cv=3)"
   ]
  },
  {
   "cell_type": "code",
   "execution_count": null,
   "metadata": {
    "collapsed": false
   },
   "outputs": [],
   "source": [
    "np.mean(cross_val_score(model, data, label, cv=3))"
   ]
  },
  {
   "cell_type": "markdown",
   "metadata": {},
   "source": [
    "# Section 2)\n",
    "## Naive Bayes and SMS Spam Classification"
   ]
  },
  {
   "cell_type": "code",
   "execution_count": 28,
   "metadata": {
    "collapsed": true
   },
   "outputs": [],
   "source": [
    "import numpy as np\n",
    "import pandas as pd\n",
    "\n",
    "from sklearn.cross_validation import train_test_split\n",
    "from sklearn.naive_bayes import MultinomialNB\n",
    "from sklearn import metrics\n"
   ]
  },
  {
   "cell_type": "code",
   "execution_count": 29,
   "metadata": {
    "collapsed": false
   },
   "outputs": [],
   "source": [
    "## READING IN THE DATA\n",
    "df = pd.DataFrame.from_csv(\"../data/SMSSpamCollection.tsv\",sep='\\t',header=0,index_col=None)"
   ]
  },
  {
   "cell_type": "code",
   "execution_count": 30,
   "metadata": {
    "collapsed": false
   },
   "outputs": [
    {
     "data": {
      "text/html": [
       "<div style=\"max-height:1000px;max-width:1500px;overflow:auto;\">\n",
       "<table border=\"1\" class=\"dataframe\">\n",
       "  <thead>\n",
       "    <tr style=\"text-align: right;\">\n",
       "      <th></th>\n",
       "      <th>label</th>\n",
       "      <th>msg</th>\n",
       "    </tr>\n",
       "  </thead>\n",
       "  <tbody>\n",
       "    <tr>\n",
       "      <th>0</th>\n",
       "      <td>  ham</td>\n",
       "      <td> Go until jurong point, crazy.. Available only ...</td>\n",
       "    </tr>\n",
       "    <tr>\n",
       "      <th>1</th>\n",
       "      <td>  ham</td>\n",
       "      <td>                     Ok lar... Joking wif u oni...</td>\n",
       "    </tr>\n",
       "    <tr>\n",
       "      <th>2</th>\n",
       "      <td> spam</td>\n",
       "      <td> Free entry in 2 a wkly comp to win FA Cup fina...</td>\n",
       "    </tr>\n",
       "    <tr>\n",
       "      <th>3</th>\n",
       "      <td>  ham</td>\n",
       "      <td> U dun say so early hor... U c already then say...</td>\n",
       "    </tr>\n",
       "    <tr>\n",
       "      <th>4</th>\n",
       "      <td>  ham</td>\n",
       "      <td> Nah I don't think he goes to usf, he lives aro...</td>\n",
       "    </tr>\n",
       "  </tbody>\n",
       "</table>\n",
       "</div>"
      ],
      "text/plain": [
       "  label                                                msg\n",
       "0   ham  Go until jurong point, crazy.. Available only ...\n",
       "1   ham                      Ok lar... Joking wif u oni...\n",
       "2  spam  Free entry in 2 a wkly comp to win FA Cup fina...\n",
       "3   ham  U dun say so early hor... U c already then say...\n",
       "4   ham  Nah I don't think he goes to usf, he lives aro..."
      ]
     },
     "execution_count": 30,
     "metadata": {},
     "output_type": "execute_result"
    }
   ],
   "source": [
    "# examine the data\n",
    "df.head()"
   ]
  },
  {
   "cell_type": "code",
   "execution_count": 31,
   "metadata": {
    "collapsed": false
   },
   "outputs": [
    {
     "data": {
      "text/html": [
       "<div style=\"max-height:1000px;max-width:1500px;overflow:auto;\">\n",
       "<table border=\"1\" class=\"dataframe\">\n",
       "  <thead>\n",
       "    <tr style=\"text-align: right;\">\n",
       "      <th></th>\n",
       "      <th>label</th>\n",
       "      <th>msg</th>\n",
       "    </tr>\n",
       "  </thead>\n",
       "  <tbody>\n",
       "    <tr>\n",
       "      <th>2 </th>\n",
       "      <td> spam</td>\n",
       "      <td> Free entry in 2 a wkly comp to win FA Cup fina...</td>\n",
       "    </tr>\n",
       "    <tr>\n",
       "      <th>5 </th>\n",
       "      <td> spam</td>\n",
       "      <td> FreeMsg Hey there darling it's been 3 week's n...</td>\n",
       "    </tr>\n",
       "    <tr>\n",
       "      <th>8 </th>\n",
       "      <td> spam</td>\n",
       "      <td> WINNER!! As a valued network customer you have...</td>\n",
       "    </tr>\n",
       "    <tr>\n",
       "      <th>9 </th>\n",
       "      <td> spam</td>\n",
       "      <td> Had your mobile 11 months or more? U R entitle...</td>\n",
       "    </tr>\n",
       "    <tr>\n",
       "      <th>11</th>\n",
       "      <td> spam</td>\n",
       "      <td> SIX chances to win CASH! From 100 to 20,000 po...</td>\n",
       "    </tr>\n",
       "  </tbody>\n",
       "</table>\n",
       "</div>"
      ],
      "text/plain": [
       "   label                                                msg\n",
       "2   spam  Free entry in 2 a wkly comp to win FA Cup fina...\n",
       "5   spam  FreeMsg Hey there darling it's been 3 week's n...\n",
       "8   spam  WINNER!! As a valued network customer you have...\n",
       "9   spam  Had your mobile 11 months or more? U R entitle...\n",
       "11  spam  SIX chances to win CASH! From 100 to 20,000 po..."
      ]
     },
     "execution_count": 31,
     "metadata": {},
     "output_type": "execute_result"
    }
   ],
   "source": [
    "df[df.label=='spam'].head()"
   ]
  },
  {
   "cell_type": "code",
   "execution_count": 32,
   "metadata": {
    "collapsed": false
   },
   "outputs": [
    {
     "data": {
      "text/plain": [
       "ham     4825\n",
       "spam     747\n",
       "dtype: int64"
      ]
     },
     "execution_count": 32,
     "metadata": {},
     "output_type": "execute_result"
    }
   ],
   "source": [
    "df.label.value_counts()"
   ]
  },
  {
   "cell_type": "code",
   "execution_count": 33,
   "metadata": {
    "collapsed": false
   },
   "outputs": [
    {
     "data": {
      "text/plain": [
       "count                       5572\n",
       "unique                      5169\n",
       "top       Sorry, I'll call later\n",
       "freq                          30\n",
       "Name: msg, dtype: object"
      ]
     },
     "execution_count": 33,
     "metadata": {},
     "output_type": "execute_result"
    }
   ],
   "source": [
    "df.msg.describe()"
   ]
  },
  {
   "cell_type": "code",
   "execution_count": null,
   "metadata": {
    "collapsed": false
   },
   "outputs": [],
   "source": [
    "# Convert the label into a binary variable\n",
    "# Remember the map function we learned before?\n",
    "df['label'] = df.label.map({'ham': 0 , 'spam':1})"
   ]
  },
  {
   "cell_type": "code",
   "execution_count": 34,
   "metadata": {
    "collapsed": false
   },
   "outputs": [
    {
     "data": {
      "text/html": [
       "<div style=\"max-height:1000px;max-width:1500px;overflow:auto;\">\n",
       "<table border=\"1\" class=\"dataframe\">\n",
       "  <thead>\n",
       "    <tr style=\"text-align: right;\">\n",
       "      <th></th>\n",
       "      <th>label</th>\n",
       "      <th>msg</th>\n",
       "    </tr>\n",
       "  </thead>\n",
       "  <tbody>\n",
       "    <tr>\n",
       "      <th>0</th>\n",
       "      <td>  ham</td>\n",
       "      <td> Go until jurong point, crazy.. Available only ...</td>\n",
       "    </tr>\n",
       "    <tr>\n",
       "      <th>1</th>\n",
       "      <td>  ham</td>\n",
       "      <td>                     Ok lar... Joking wif u oni...</td>\n",
       "    </tr>\n",
       "    <tr>\n",
       "      <th>2</th>\n",
       "      <td> spam</td>\n",
       "      <td> Free entry in 2 a wkly comp to win FA Cup fina...</td>\n",
       "    </tr>\n",
       "    <tr>\n",
       "      <th>3</th>\n",
       "      <td>  ham</td>\n",
       "      <td> U dun say so early hor... U c already then say...</td>\n",
       "    </tr>\n",
       "    <tr>\n",
       "      <th>4</th>\n",
       "      <td>  ham</td>\n",
       "      <td> Nah I don't think he goes to usf, he lives aro...</td>\n",
       "    </tr>\n",
       "  </tbody>\n",
       "</table>\n",
       "</div>"
      ],
      "text/plain": [
       "  label                                                msg\n",
       "0   ham  Go until jurong point, crazy.. Available only ...\n",
       "1   ham                      Ok lar... Joking wif u oni...\n",
       "2  spam  Free entry in 2 a wkly comp to win FA Cup fina...\n",
       "3   ham  U dun say so early hor... U c already then say...\n",
       "4   ham  Nah I don't think he goes to usf, he lives aro..."
      ]
     },
     "execution_count": 34,
     "metadata": {},
     "output_type": "execute_result"
    }
   ],
   "source": [
    "df.head()"
   ]
  },
  {
   "cell_type": "code",
   "execution_count": 35,
   "metadata": {
    "collapsed": false
   },
   "outputs": [],
   "source": [
    "# split into training and testing sets by calling sklearn lib\n",
    "# by default, the data set is split into 0.75 (training) and 0.25 (testing)\n",
    "from sklearn.cross_validation import train_test_split\n",
    "\n",
    "X_train, X_test, y_train, y_test = train_test_split(df.msg, df.label, random_state=1)"
   ]
  },
  {
   "cell_type": "code",
   "execution_count": 36,
   "metadata": {
    "collapsed": false,
    "scrolled": true
   },
   "outputs": [
    {
     "name": "stdout",
     "output_type": "stream",
     "text": [
      "(4179,)\n",
      "[ '4mths half price Orange line rental & latest camera phones 4 FREE. Had your phone 11mths+? Call MobilesDirect free on 08000938767 to update now! or2stoptxt T&Cs'\n",
      " 'Did you stitch his trouser'\n",
      " 'Hope you enjoyed your new content. text stop to 61610 to unsubscribe. help:08712400602450p Provided by tones2you.co.uk'\n",
      " ...,\n",
      " 'CERI U REBEL! SWEET DREAMZ ME LITTLE BUDDY!! C YA 2MORO! WHO NEEDS BLOKES'\n",
      " 'Text & meet someone sexy today. U can find a date or even flirt its up to U. Join 4 just 10p. REPLY with NAME & AGE eg Sam 25. 18 -msg recd@thirtyeight pence'\n",
      " 'K k:) sms chat with me.']\n"
     ]
    }
   ],
   "source": [
    "print X_train.shape\n",
    "print X_train"
   ]
  },
  {
   "cell_type": "code",
   "execution_count": 37,
   "metadata": {
    "collapsed": false
   },
   "outputs": [
    {
     "data": {
      "text/plain": [
       "(1393,)"
      ]
     },
     "execution_count": 37,
     "metadata": {},
     "output_type": "execute_result"
    }
   ],
   "source": [
    "X_test.shape"
   ]
  },
  {
   "cell_type": "markdown",
   "metadata": {},
   "source": [
    "Now we need to convert the text into feature vectors which can be used for machine learning purposes.\n",
    "We will use the scikit function of CountVectorizer to 'convert text into a matrix of token counts'\n",
    "\n",
    " http://scikit-learn.org/stable/modules/generated/sklearn.feature_extraction.text.CountVectorizer.html"
   ]
  },
  {
   "cell_type": "markdown",
   "metadata": {},
   "source": [
    "#### Lets try a simple example"
   ]
  },
  {
   "cell_type": "code",
   "execution_count": 38,
   "metadata": {
    "collapsed": false
   },
   "outputs": [],
   "source": [
    "from sklearn.feature_extraction.text import CountVectorizer"
   ]
  },
  {
   "cell_type": "code",
   "execution_count": 39,
   "metadata": {
    "collapsed": false
   },
   "outputs": [],
   "source": [
    "# start with a simple example\n",
    "train_simple = ['call you tonight',\n",
    "                'Call me a cab',\n",
    "                'please call me... PLEASE!']"
   ]
  },
  {
   "cell_type": "code",
   "execution_count": 45,
   "metadata": {
    "collapsed": false
   },
   "outputs": [
    {
     "data": {
      "text/plain": [
       "[u'cab', u'call', u'me', u'please', u'tonight', u'you']"
      ]
     },
     "execution_count": 45,
     "metadata": {},
     "output_type": "execute_result"
    }
   ],
   "source": [
    "# learn the 'vocabulary' of the training data\n",
    "vect = CountVectorizer(decode_error='ignore')\n",
    "vect.fit(train_simple) ##fit removes \"a\"\n",
    "vect.get_feature_names()"
   ]
  },
  {
   "cell_type": "code",
   "execution_count": 41,
   "metadata": {
    "collapsed": false
   },
   "outputs": [
    {
     "data": {
      "text/plain": [
       "array([[0, 1, 0, 0, 1, 1],\n",
       "       [1, 1, 1, 0, 0, 0],\n",
       "       [0, 1, 1, 2, 0, 0]])"
      ]
     },
     "execution_count": 41,
     "metadata": {},
     "output_type": "execute_result"
    }
   ],
   "source": [
    "# transform training data into a 'document-term matrix'\n",
    "train_simple_dtm = vect.transform(train_simple)\n",
    "train_simple_dtm.toarray()"
   ]
  },
  {
   "cell_type": "code",
   "execution_count": 42,
   "metadata": {
    "collapsed": false
   },
   "outputs": [
    {
     "name": "stdout",
     "output_type": "stream",
     "text": [
      "['call you tonight', 'Call me a cab', 'please call me... PLEASE!']\n"
     ]
    },
    {
     "data": {
      "text/html": [
       "<div style=\"max-height:1000px;max-width:1500px;overflow:auto;\">\n",
       "<table border=\"1\" class=\"dataframe\">\n",
       "  <thead>\n",
       "    <tr style=\"text-align: right;\">\n",
       "      <th></th>\n",
       "      <th>cab</th>\n",
       "      <th>call</th>\n",
       "      <th>me</th>\n",
       "      <th>please</th>\n",
       "      <th>tonight</th>\n",
       "      <th>you</th>\n",
       "    </tr>\n",
       "  </thead>\n",
       "  <tbody>\n",
       "    <tr>\n",
       "      <th>0</th>\n",
       "      <td> 0</td>\n",
       "      <td> 1</td>\n",
       "      <td> 0</td>\n",
       "      <td> 0</td>\n",
       "      <td> 1</td>\n",
       "      <td> 1</td>\n",
       "    </tr>\n",
       "    <tr>\n",
       "      <th>1</th>\n",
       "      <td> 1</td>\n",
       "      <td> 1</td>\n",
       "      <td> 1</td>\n",
       "      <td> 0</td>\n",
       "      <td> 0</td>\n",
       "      <td> 0</td>\n",
       "    </tr>\n",
       "    <tr>\n",
       "      <th>2</th>\n",
       "      <td> 0</td>\n",
       "      <td> 1</td>\n",
       "      <td> 1</td>\n",
       "      <td> 2</td>\n",
       "      <td> 0</td>\n",
       "      <td> 0</td>\n",
       "    </tr>\n",
       "  </tbody>\n",
       "</table>\n",
       "</div>"
      ],
      "text/plain": [
       "   cab  call  me  please  tonight  you\n",
       "0    0     1   0       0        1    1\n",
       "1    1     1   1       0        0    0\n",
       "2    0     1   1       2        0    0"
      ]
     },
     "execution_count": 42,
     "metadata": {},
     "output_type": "execute_result"
    }
   ],
   "source": [
    "# We can see how we've adjusted our data easily!\n",
    "# examine the vocabulary and document-term matrix together\n",
    "print train_simple\n",
    "    \n",
    "pd.DataFrame(train_simple_dtm.toarray(), columns=vect.get_feature_names())"
   ]
  },
  {
   "cell_type": "code",
   "execution_count": null,
   "metadata": {
    "collapsed": true
   },
   "outputs": [],
   "source": []
  },
  {
   "cell_type": "code",
   "execution_count": 43,
   "metadata": {
    "collapsed": false
   },
   "outputs": [
    {
     "data": {
      "text/html": [
       "<div style=\"max-height:1000px;max-width:1500px;overflow:auto;\">\n",
       "<table border=\"1\" class=\"dataframe\">\n",
       "  <thead>\n",
       "    <tr style=\"text-align: right;\">\n",
       "      <th></th>\n",
       "      <th>cab</th>\n",
       "      <th>call</th>\n",
       "      <th>me</th>\n",
       "      <th>please</th>\n",
       "      <th>tonight</th>\n",
       "      <th>you</th>\n",
       "    </tr>\n",
       "  </thead>\n",
       "  <tbody>\n",
       "    <tr>\n",
       "      <th>0</th>\n",
       "      <td> 0</td>\n",
       "      <td> 1</td>\n",
       "      <td> 1</td>\n",
       "      <td> 1</td>\n",
       "      <td> 0</td>\n",
       "      <td> 0</td>\n",
       "    </tr>\n",
       "  </tbody>\n",
       "</table>\n",
       "</div>"
      ],
      "text/plain": [
       "   cab  call  me  please  tonight  you\n",
       "0    0     1   1       1        0    0"
      ]
     },
     "execution_count": 43,
     "metadata": {},
     "output_type": "execute_result"
    }
   ],
   "source": [
    "# transform testing data into a document-term matrix (using existing vocabulary)\n",
    "test_simple = [\"please don't call me\"] ##don't isn;t recognized and taken into account..\n",
    "test_simple_dtm = vect.transform(test_simple)\n",
    "test_simple_dtm.toarray()\n",
    "\n",
    "pd.DataFrame(test_simple_dtm.toarray(), columns=vect.get_feature_names())"
   ]
  },
  {
   "cell_type": "markdown",
   "metadata": {},
   "source": [
    "#### Question:  How does the above test_simple show how things can go wrong?"
   ]
  },
  {
   "cell_type": "markdown",
   "metadata": {},
   "source": [
    "#### Exercise: Using the dataset below\n",
    "   * Vectorize the text\n",
    "   * Store the results in a DataFrame\n",
    "   * Show word counts (hint: one dataframe describer can do this)\n",
    "   * Transform the test text"
   ]
  },
  {
   "cell_type": "code",
   "execution_count": 47,
   "metadata": {
    "collapsed": true
   },
   "outputs": [],
   "source": [
    "train_exp = ['where is my taco?',\n",
    "                'did I eat the taco',\n",
    "                'I can easily eat my way through that whole box of tacos!',\n",
    "                'I think way too much about tacos, huh',\n",
    "                'taco, taco, taco!!!'                \n",
    "               ]\n",
    "test_exp = [\n",
    "    'where did he go?', 'how long did the whole thing last', 'lets go eat one taco or multiple tacos'\n",
    "]"
   ]
  },
  {
   "cell_type": "code",
   "execution_count": 48,
   "metadata": {
    "collapsed": false
   },
   "outputs": [
    {
     "data": {
      "text/plain": [
       "[u'about',\n",
       " u'box',\n",
       " u'can',\n",
       " u'did',\n",
       " u'easily',\n",
       " u'eat',\n",
       " u'huh',\n",
       " u'is',\n",
       " u'much',\n",
       " u'my',\n",
       " u'of',\n",
       " u'taco',\n",
       " u'tacos',\n",
       " u'that',\n",
       " u'the',\n",
       " u'think',\n",
       " u'through',\n",
       " u'too',\n",
       " u'way',\n",
       " u'where',\n",
       " u'whole']"
      ]
     },
     "execution_count": 48,
     "metadata": {},
     "output_type": "execute_result"
    }
   ],
   "source": [
    "vect = CountVectorizer(decode_error='ignore')\n",
    "vect.fit(train_exp)\n",
    "vect.get_feature_names()"
   ]
  },
  {
   "cell_type": "code",
   "execution_count": 49,
   "metadata": {
    "collapsed": false
   },
   "outputs": [
    {
     "data": {
      "text/plain": [
       "array([[0, 0, 0, 0, 0, 0, 0, 1, 0, 1, 0, 1, 0, 0, 0, 0, 0, 0, 0, 1, 0],\n",
       "       [0, 0, 0, 1, 0, 1, 0, 0, 0, 0, 0, 1, 0, 0, 1, 0, 0, 0, 0, 0, 0],\n",
       "       [0, 1, 1, 0, 1, 1, 0, 0, 0, 1, 1, 0, 1, 1, 0, 0, 1, 0, 1, 0, 1],\n",
       "       [1, 0, 0, 0, 0, 0, 1, 0, 1, 0, 0, 0, 1, 0, 0, 1, 0, 1, 1, 0, 0],\n",
       "       [0, 0, 0, 0, 0, 0, 0, 0, 0, 0, 0, 3, 0, 0, 0, 0, 0, 0, 0, 0, 0]])"
      ]
     },
     "execution_count": 49,
     "metadata": {},
     "output_type": "execute_result"
    }
   ],
   "source": [
    "train_simple_dtm = vect.transform(train_exp)\n",
    "train_simple_dtm.toarray()"
   ]
  },
  {
   "cell_type": "code",
   "execution_count": 52,
   "metadata": {
    "collapsed": false
   },
   "outputs": [
    {
     "name": "stdout",
     "output_type": "stream",
     "text": [
      "['call you tonight', 'Call me a cab', 'please call me... PLEASE!']\n"
     ]
    }
   ],
   "source": [
    "print train_simple\n",
    "    \n",
    "train_simple_df = pd.DataFrame(train_simple_dtm.toarray(), columns=vect.get_feature_names())"
   ]
  },
  {
   "cell_type": "code",
   "execution_count": 55,
   "metadata": {
    "collapsed": false
   },
   "outputs": [
    {
     "data": {
      "text/html": [
       "<div style=\"max-height:1000px;max-width:1500px;overflow:auto;\">\n",
       "<table border=\"1\" class=\"dataframe\">\n",
       "  <thead>\n",
       "    <tr style=\"text-align: right;\">\n",
       "      <th></th>\n",
       "      <th>about</th>\n",
       "      <th>box</th>\n",
       "      <th>can</th>\n",
       "      <th>did</th>\n",
       "      <th>easily</th>\n",
       "      <th>eat</th>\n",
       "      <th>huh</th>\n",
       "      <th>is</th>\n",
       "      <th>much</th>\n",
       "      <th>my</th>\n",
       "      <th>...</th>\n",
       "      <th>taco</th>\n",
       "      <th>tacos</th>\n",
       "      <th>that</th>\n",
       "      <th>the</th>\n",
       "      <th>think</th>\n",
       "      <th>through</th>\n",
       "      <th>too</th>\n",
       "      <th>way</th>\n",
       "      <th>where</th>\n",
       "      <th>whole</th>\n",
       "    </tr>\n",
       "  </thead>\n",
       "  <tbody>\n",
       "    <tr>\n",
       "      <th>0</th>\n",
       "      <td> 0</td>\n",
       "      <td> 0</td>\n",
       "      <td> 0</td>\n",
       "      <td> 0</td>\n",
       "      <td> 0</td>\n",
       "      <td> 0</td>\n",
       "      <td> 0</td>\n",
       "      <td> 1</td>\n",
       "      <td> 0</td>\n",
       "      <td> 1</td>\n",
       "      <td>...</td>\n",
       "      <td> 1</td>\n",
       "      <td> 0</td>\n",
       "      <td> 0</td>\n",
       "      <td> 0</td>\n",
       "      <td> 0</td>\n",
       "      <td> 0</td>\n",
       "      <td> 0</td>\n",
       "      <td> 0</td>\n",
       "      <td> 1</td>\n",
       "      <td> 0</td>\n",
       "    </tr>\n",
       "    <tr>\n",
       "      <th>1</th>\n",
       "      <td> 0</td>\n",
       "      <td> 0</td>\n",
       "      <td> 0</td>\n",
       "      <td> 1</td>\n",
       "      <td> 0</td>\n",
       "      <td> 1</td>\n",
       "      <td> 0</td>\n",
       "      <td> 0</td>\n",
       "      <td> 0</td>\n",
       "      <td> 0</td>\n",
       "      <td>...</td>\n",
       "      <td> 1</td>\n",
       "      <td> 0</td>\n",
       "      <td> 0</td>\n",
       "      <td> 1</td>\n",
       "      <td> 0</td>\n",
       "      <td> 0</td>\n",
       "      <td> 0</td>\n",
       "      <td> 0</td>\n",
       "      <td> 0</td>\n",
       "      <td> 0</td>\n",
       "    </tr>\n",
       "    <tr>\n",
       "      <th>2</th>\n",
       "      <td> 0</td>\n",
       "      <td> 1</td>\n",
       "      <td> 1</td>\n",
       "      <td> 0</td>\n",
       "      <td> 1</td>\n",
       "      <td> 1</td>\n",
       "      <td> 0</td>\n",
       "      <td> 0</td>\n",
       "      <td> 0</td>\n",
       "      <td> 1</td>\n",
       "      <td>...</td>\n",
       "      <td> 0</td>\n",
       "      <td> 1</td>\n",
       "      <td> 1</td>\n",
       "      <td> 0</td>\n",
       "      <td> 0</td>\n",
       "      <td> 1</td>\n",
       "      <td> 0</td>\n",
       "      <td> 1</td>\n",
       "      <td> 0</td>\n",
       "      <td> 1</td>\n",
       "    </tr>\n",
       "    <tr>\n",
       "      <th>3</th>\n",
       "      <td> 1</td>\n",
       "      <td> 0</td>\n",
       "      <td> 0</td>\n",
       "      <td> 0</td>\n",
       "      <td> 0</td>\n",
       "      <td> 0</td>\n",
       "      <td> 1</td>\n",
       "      <td> 0</td>\n",
       "      <td> 1</td>\n",
       "      <td> 0</td>\n",
       "      <td>...</td>\n",
       "      <td> 0</td>\n",
       "      <td> 1</td>\n",
       "      <td> 0</td>\n",
       "      <td> 0</td>\n",
       "      <td> 1</td>\n",
       "      <td> 0</td>\n",
       "      <td> 1</td>\n",
       "      <td> 1</td>\n",
       "      <td> 0</td>\n",
       "      <td> 0</td>\n",
       "    </tr>\n",
       "    <tr>\n",
       "      <th>4</th>\n",
       "      <td> 0</td>\n",
       "      <td> 0</td>\n",
       "      <td> 0</td>\n",
       "      <td> 0</td>\n",
       "      <td> 0</td>\n",
       "      <td> 0</td>\n",
       "      <td> 0</td>\n",
       "      <td> 0</td>\n",
       "      <td> 0</td>\n",
       "      <td> 0</td>\n",
       "      <td>...</td>\n",
       "      <td> 3</td>\n",
       "      <td> 0</td>\n",
       "      <td> 0</td>\n",
       "      <td> 0</td>\n",
       "      <td> 0</td>\n",
       "      <td> 0</td>\n",
       "      <td> 0</td>\n",
       "      <td> 0</td>\n",
       "      <td> 0</td>\n",
       "      <td> 0</td>\n",
       "    </tr>\n",
       "  </tbody>\n",
       "</table>\n",
       "<p>5 rows × 21 columns</p>\n",
       "</div>"
      ],
      "text/plain": [
       "   about  box  can  did  easily  eat  huh  is  much  my  ...    taco  tacos  \\\n",
       "0      0    0    0    0       0    0    0   1     0   1  ...       1      0   \n",
       "1      0    0    0    1       0    1    0   0     0   0  ...       1      0   \n",
       "2      0    1    1    0       1    1    0   0     0   1  ...       0      1   \n",
       "3      1    0    0    0       0    0    1   0     1   0  ...       0      1   \n",
       "4      0    0    0    0       0    0    0   0     0   0  ...       3      0   \n",
       "\n",
       "   that  the  think  through  too  way  where  whole  \n",
       "0     0    0      0        0    0    0      1      0  \n",
       "1     0    1      0        0    0    0      0      0  \n",
       "2     1    0      0        1    0    1      0      1  \n",
       "3     0    0      1        0    1    1      0      0  \n",
       "4     0    0      0        0    0    0      0      0  \n",
       "\n",
       "[5 rows x 21 columns]"
      ]
     },
     "execution_count": 55,
     "metadata": {},
     "output_type": "execute_result"
    }
   ],
   "source": [
    "train_simple_df"
   ]
  },
  {
   "cell_type": "code",
   "execution_count": 56,
   "metadata": {
    "collapsed": false
   },
   "outputs": [
    {
     "name": "stdout",
     "output_type": "stream",
     "text": [
      "about: 1\n",
      "box: 1\n",
      "can: 1\n",
      "did: 1\n",
      "easily: 1\n",
      "eat: 2\n",
      "huh: 1\n",
      "is: 1\n",
      "much: 1\n",
      "my: 2\n",
      "of: 1\n",
      "taco: 5\n",
      "tacos: 2\n",
      "that: 1\n",
      "the: 1\n",
      "think: 1\n",
      "through: 1\n",
      "too: 1\n",
      "way: 2\n",
      "where: 1\n",
      "whole: 1\n"
     ]
    }
   ],
   "source": [
    "for col in train_simple_df.columns:\n",
    "    print col+':',\n",
    "    print train_simple_df[col].sum()\n",
    "    "
   ]
  },
  {
   "cell_type": "code",
   "execution_count": 51,
   "metadata": {
    "collapsed": false
   },
   "outputs": [
    {
     "data": {
      "text/html": [
       "<div style=\"max-height:1000px;max-width:1500px;overflow:auto;\">\n",
       "<table border=\"1\" class=\"dataframe\">\n",
       "  <thead>\n",
       "    <tr style=\"text-align: right;\">\n",
       "      <th></th>\n",
       "      <th>about</th>\n",
       "      <th>box</th>\n",
       "      <th>can</th>\n",
       "      <th>did</th>\n",
       "      <th>easily</th>\n",
       "      <th>eat</th>\n",
       "      <th>huh</th>\n",
       "      <th>is</th>\n",
       "      <th>much</th>\n",
       "      <th>my</th>\n",
       "      <th>...</th>\n",
       "      <th>taco</th>\n",
       "      <th>tacos</th>\n",
       "      <th>that</th>\n",
       "      <th>the</th>\n",
       "      <th>think</th>\n",
       "      <th>through</th>\n",
       "      <th>too</th>\n",
       "      <th>way</th>\n",
       "      <th>where</th>\n",
       "      <th>whole</th>\n",
       "    </tr>\n",
       "  </thead>\n",
       "  <tbody>\n",
       "    <tr>\n",
       "      <th>0</th>\n",
       "      <td> 0</td>\n",
       "      <td> 0</td>\n",
       "      <td> 0</td>\n",
       "      <td> 1</td>\n",
       "      <td> 0</td>\n",
       "      <td> 0</td>\n",
       "      <td> 0</td>\n",
       "      <td> 0</td>\n",
       "      <td> 0</td>\n",
       "      <td> 0</td>\n",
       "      <td>...</td>\n",
       "      <td> 0</td>\n",
       "      <td> 0</td>\n",
       "      <td> 0</td>\n",
       "      <td> 0</td>\n",
       "      <td> 0</td>\n",
       "      <td> 0</td>\n",
       "      <td> 0</td>\n",
       "      <td> 0</td>\n",
       "      <td> 1</td>\n",
       "      <td> 0</td>\n",
       "    </tr>\n",
       "    <tr>\n",
       "      <th>1</th>\n",
       "      <td> 0</td>\n",
       "      <td> 0</td>\n",
       "      <td> 0</td>\n",
       "      <td> 1</td>\n",
       "      <td> 0</td>\n",
       "      <td> 0</td>\n",
       "      <td> 0</td>\n",
       "      <td> 0</td>\n",
       "      <td> 0</td>\n",
       "      <td> 0</td>\n",
       "      <td>...</td>\n",
       "      <td> 0</td>\n",
       "      <td> 0</td>\n",
       "      <td> 0</td>\n",
       "      <td> 1</td>\n",
       "      <td> 0</td>\n",
       "      <td> 0</td>\n",
       "      <td> 0</td>\n",
       "      <td> 0</td>\n",
       "      <td> 0</td>\n",
       "      <td> 1</td>\n",
       "    </tr>\n",
       "    <tr>\n",
       "      <th>2</th>\n",
       "      <td> 0</td>\n",
       "      <td> 0</td>\n",
       "      <td> 0</td>\n",
       "      <td> 0</td>\n",
       "      <td> 0</td>\n",
       "      <td> 1</td>\n",
       "      <td> 0</td>\n",
       "      <td> 0</td>\n",
       "      <td> 0</td>\n",
       "      <td> 0</td>\n",
       "      <td>...</td>\n",
       "      <td> 1</td>\n",
       "      <td> 1</td>\n",
       "      <td> 0</td>\n",
       "      <td> 0</td>\n",
       "      <td> 0</td>\n",
       "      <td> 0</td>\n",
       "      <td> 0</td>\n",
       "      <td> 0</td>\n",
       "      <td> 0</td>\n",
       "      <td> 0</td>\n",
       "    </tr>\n",
       "  </tbody>\n",
       "</table>\n",
       "<p>3 rows × 21 columns</p>\n",
       "</div>"
      ],
      "text/plain": [
       "   about  box  can  did  easily  eat  huh  is  much  my  ...    taco  tacos  \\\n",
       "0      0    0    0    1       0    0    0   0     0   0  ...       0      0   \n",
       "1      0    0    0    1       0    0    0   0     0   0  ...       0      0   \n",
       "2      0    0    0    0       0    1    0   0     0   0  ...       1      1   \n",
       "\n",
       "   that  the  think  through  too  way  where  whole  \n",
       "0     0    0      0        0    0    0      1      0  \n",
       "1     0    1      0        0    0    0      0      1  \n",
       "2     0    0      0        0    0    0      0      0  \n",
       "\n",
       "[3 rows x 21 columns]"
      ]
     },
     "execution_count": 51,
     "metadata": {},
     "output_type": "execute_result"
    }
   ],
   "source": [
    "test_simple_dtm = vect.transform(test_exp)\n",
    "test_simple_dtm.toarray()\n",
    "\n",
    "pd.DataFrame(test_simple_dtm.toarray(), columns=vect.get_feature_names())"
   ]
  },
  {
   "cell_type": "markdown",
   "metadata": {},
   "source": [
    "## Vectorizing our SMS Dataset"
   ]
  },
  {
   "cell_type": "code",
   "execution_count": 86,
   "metadata": {
    "collapsed": false
   },
   "outputs": [
    {
     "data": {
      "text/plain": [
       "[u'00',\n",
       " u'000',\n",
       " u'008704050406',\n",
       " u'0121',\n",
       " u'01223585236',\n",
       " u'01223585334',\n",
       " u'0125698789',\n",
       " u'02',\n",
       " u'0207',\n",
       " u'02072069400',\n",
       " u'02073162414',\n",
       " u'02085076972',\n",
       " u'021',\n",
       " u'03',\n",
       " u'04',\n",
       " u'0430',\n",
       " u'05',\n",
       " u'050703',\n",
       " u'0578',\n",
       " u'06',\n",
       " u'07',\n",
       " u'07008009200',\n",
       " u'07090201529',\n",
       " u'07090298926',\n",
       " u'07123456789',\n",
       " u'07732584351',\n",
       " u'07734396839',\n",
       " u'07742676969',\n",
       " u'0776xxxxxxx',\n",
       " u'07781482378',\n",
       " u'07786200117',\n",
       " u'078',\n",
       " u'07801543489',\n",
       " u'07808',\n",
       " u'07808247860',\n",
       " u'07808726822',\n",
       " u'07815296484',\n",
       " u'07821230901',\n",
       " u'07880867867',\n",
       " u'0789xxxxxxx',\n",
       " u'07946746291',\n",
       " u'0796xxxxxx',\n",
       " u'07973788240',\n",
       " u'07xxxxxxxxx',\n",
       " u'08',\n",
       " u'0800',\n",
       " u'08000407165',\n",
       " u'08000776320',\n",
       " u'08000839402',\n",
       " u'08000930705',\n",
       " u'08000938767',\n",
       " u'08001950382',\n",
       " u'08002888812',\n",
       " u'08002986030',\n",
       " u'08002986906',\n",
       " u'08002988890',\n",
       " u'08006344447',\n",
       " u'0808',\n",
       " u'08081263000',\n",
       " u'08081560665',\n",
       " u'0825',\n",
       " u'083',\n",
       " u'0844',\n",
       " u'08448714184',\n",
       " u'0845',\n",
       " u'08450542832',\n",
       " u'08452810071',\n",
       " u'08452810073',\n",
       " u'08452810075over18',\n",
       " u'0870',\n",
       " u'08700435505150p',\n",
       " u'08700469649',\n",
       " u'08700621170150p',\n",
       " u'08701213186',\n",
       " u'08701417012',\n",
       " u'08701417012150p',\n",
       " u'0870141701216',\n",
       " u'087016248',\n",
       " u'08701752560',\n",
       " u'0870241182716',\n",
       " u'08702840625',\n",
       " u'08704050406',\n",
       " u'08704439680',\n",
       " u'08706091795',\n",
       " u'0870737910216yrs',\n",
       " u'08707509020',\n",
       " u'08707808226',\n",
       " u'08708034412',\n",
       " u'08709222922',\n",
       " u'08709501522',\n",
       " u'0871',\n",
       " u'087104711148',\n",
       " u'08712101358',\n",
       " u'08712103738',\n",
       " u'0871212025016',\n",
       " u'08712300220',\n",
       " u'087123002209am',\n",
       " u'08712317606',\n",
       " u'08712400602450p',\n",
       " u'08712400603',\n",
       " u'08712402050',\n",
       " u'08712402578',\n",
       " u'08712402779',\n",
       " u'08712402902',\n",
       " u'08712402972',\n",
       " u'08712404000',\n",
       " u'08712405020',\n",
       " u'08712405022',\n",
       " u'08712460324',\n",
       " u'0871277810710p',\n",
       " u'0871277810810',\n",
       " u'0871277810910p',\n",
       " u'08714342399',\n",
       " u'08714712379',\n",
       " u'08714712388',\n",
       " u'08714712394',\n",
       " u'08714712412',\n",
       " u'08715203028',\n",
       " u'08715203649',\n",
       " u'08715203652',\n",
       " u'08715203685',\n",
       " u'08715203694',\n",
       " u'08715500022',\n",
       " u'08715705022',\n",
       " u'08717168528',\n",
       " u'08717205546',\n",
       " u'0871750',\n",
       " u'08717898035',\n",
       " u'08718711108',\n",
       " u'08718720201',\n",
       " u'08718723815',\n",
       " u'08718725756',\n",
       " u'08718726270',\n",
       " u'087187262701',\n",
       " u'08718726970',\n",
       " u'08718726971',\n",
       " u'08718726978',\n",
       " u'08718727868',\n",
       " u'08718727870',\n",
       " u'08718727870150ppm',\n",
       " u'08718730555',\n",
       " u'08718730666',\n",
       " u'08718738001',\n",
       " u'08718738002',\n",
       " u'08719180248',\n",
       " u'08719181503',\n",
       " u'08719181513',\n",
       " u'08719899217',\n",
       " u'08719899229',\n",
       " u'08719899230',\n",
       " u'09',\n",
       " u'09050000301',\n",
       " u'09050000332',\n",
       " u'09050000460',\n",
       " u'09050000555',\n",
       " u'09050000878',\n",
       " u'09050000928',\n",
       " u'09050001295',\n",
       " u'09050001808',\n",
       " u'09050002311',\n",
       " u'09050003091',\n",
       " u'09050090044',\n",
       " u'09050280520',\n",
       " u'09053750005',\n",
       " u'09056242159',\n",
       " u'09057039994',\n",
       " u'09058091854',\n",
       " u'09058091870',\n",
       " u'09058094454',\n",
       " u'09058094455',\n",
       " u'09058094507',\n",
       " u'09058094565',\n",
       " u'09058094583',\n",
       " u'09058094594',\n",
       " u'09058094597',\n",
       " u'09058094599',\n",
       " u'09058098002',\n",
       " u'09058099801',\n",
       " u'09061104276',\n",
       " u'09061104283',\n",
       " u'09061209465',\n",
       " u'09061213237',\n",
       " u'09061221061',\n",
       " u'09061221066',\n",
       " u'09061701444',\n",
       " u'09061701461',\n",
       " u'09061701939',\n",
       " u'09061702893',\n",
       " u'09061743386',\n",
       " u'09061743806',\n",
       " u'09061743810',\n",
       " u'09061743811',\n",
       " u'09061744553',\n",
       " u'09061749602',\n",
       " u'09061790121',\n",
       " u'09061790125',\n",
       " u'09061790126',\n",
       " u'09063440451',\n",
       " u'09063458130',\n",
       " u'0906346330',\n",
       " u'09064011000',\n",
       " u'09064012103',\n",
       " u'09064012160',\n",
       " u'09064015307',\n",
       " u'09064017295',\n",
       " u'09064018838',\n",
       " u'09064019014',\n",
       " u'09064019788',\n",
       " u'09065069120',\n",
       " u'09065069154',\n",
       " u'09065171142',\n",
       " u'09065174042',\n",
       " u'09065394514',\n",
       " u'09065989180',\n",
       " u'09065989182',\n",
       " u'09066350750',\n",
       " u'09066358152',\n",
       " u'09066358361',\n",
       " u'09066361921',\n",
       " u'09066362231',\n",
       " u'09066364311',\n",
       " u'09066364349',\n",
       " u'09066364589',\n",
       " u'09066368470',\n",
       " u'09066380611',\n",
       " u'09066382422',\n",
       " u'09066612661',\n",
       " u'09066649731from',\n",
       " u'09066660100',\n",
       " u'09071512433',\n",
       " u'09077818151',\n",
       " u'09090204448',\n",
       " u'09094100151',\n",
       " u'09094646631',\n",
       " u'09095350301',\n",
       " u'09096102316',\n",
       " u'09099725823',\n",
       " u'09099726395',\n",
       " u'09099726429',\n",
       " u'09099726481',\n",
       " u'09099726553',\n",
       " u'09111032124',\n",
       " u'09701213186',\n",
       " u'0a',\n",
       " u'10',\n",
       " u'100',\n",
       " u'1000',\n",
       " u'1000s',\n",
       " u'100p',\n",
       " u'100percent',\n",
       " u'1013',\n",
       " u'1030',\n",
       " u'10am',\n",
       " u'10k',\n",
       " u'10p',\n",
       " u'10ppm',\n",
       " u'10th',\n",
       " u'11',\n",
       " u'1120',\n",
       " u'113',\n",
       " u'1131',\n",
       " u'114',\n",
       " u'116',\n",
       " u'118p',\n",
       " u'11mths',\n",
       " u'11pm',\n",
       " u'12',\n",
       " u'1205',\n",
       " u'120p',\n",
       " u'121',\n",
       " u'1225',\n",
       " u'123',\n",
       " u'125',\n",
       " u'1250',\n",
       " u'125gift',\n",
       " u'128',\n",
       " u'12hrs',\n",
       " u'12mths',\n",
       " u'13',\n",
       " u'130',\n",
       " u'1327',\n",
       " u'139',\n",
       " u'14',\n",
       " u'140',\n",
       " u'1405',\n",
       " u'140ppm',\n",
       " u'145',\n",
       " u'1450',\n",
       " u'146tf150p',\n",
       " u'14thmarch',\n",
       " u'15',\n",
       " u'150',\n",
       " u'1500',\n",
       " u'150p',\n",
       " u'150p16',\n",
       " u'150pm',\n",
       " u'150ppermesssubscription',\n",
       " u'150ppm',\n",
       " u'150pw',\n",
       " u'151',\n",
       " u'153',\n",
       " u'15pm',\n",
       " u'16',\n",
       " u'165',\n",
       " u'1680',\n",
       " u'169',\n",
       " u'177',\n",
       " u'18',\n",
       " u'180',\n",
       " u'1843',\n",
       " u'18p',\n",
       " u'18yrs',\n",
       " u'195',\n",
       " u'1956669',\n",
       " u'1apple',\n",
       " u'1b6a5ecef91ff9',\n",
       " u'1cup',\n",
       " u'1er',\n",
       " u'1hr',\n",
       " u'1im',\n",
       " u'1lemon',\n",
       " u'1mega',\n",
       " u'1million',\n",
       " u'1pm',\n",
       " u'1st',\n",
       " u'1st4terms',\n",
       " u'1stchoice',\n",
       " u'1thing',\n",
       " u'1tulsi',\n",
       " u'1win150ppmx3',\n",
       " u'1winaweek',\n",
       " u'1winawk',\n",
       " u'1x150p',\n",
       " u'1yf',\n",
       " u'20',\n",
       " u'200',\n",
       " u'2000',\n",
       " u'2003',\n",
       " u'2004',\n",
       " u'2005',\n",
       " u'2006',\n",
       " u'2007',\n",
       " u'2025050',\n",
       " u'20m12aq',\n",
       " u'20p',\n",
       " u'21',\n",
       " u'21870000',\n",
       " u'21st',\n",
       " u'22',\n",
       " u'220',\n",
       " u'220cm2',\n",
       " u'2309',\n",
       " u'23f',\n",
       " u'23g',\n",
       " u'24',\n",
       " u'24hrs',\n",
       " u'24m',\n",
       " u'24th',\n",
       " u'25',\n",
       " u'250',\n",
       " u'250k',\n",
       " u'255',\n",
       " u'25p',\n",
       " u'26',\n",
       " u'2667',\n",
       " u'26th',\n",
       " u'27',\n",
       " u'28',\n",
       " u'2814032',\n",
       " u'28days',\n",
       " u'28th',\n",
       " u'28thfeb',\n",
       " u'29',\n",
       " u'2b',\n",
       " u'2c',\n",
       " u'2channel',\n",
       " u'2day',\n",
       " u'2docd',\n",
       " u'2end',\n",
       " u'2ez',\n",
       " u'2find',\n",
       " u'2getha',\n",
       " u'2geva',\n",
       " u'2go',\n",
       " u'2gthr',\n",
       " u'2hrs',\n",
       " u'2kbsubject',\n",
       " u'2lands',\n",
       " u'2marrow',\n",
       " u'2moro',\n",
       " u'2morow',\n",
       " u'2morro',\n",
       " u'2morrow',\n",
       " u'2morrowxxxx',\n",
       " u'2mro',\n",
       " u'2mrw',\n",
       " u'2mwen',\n",
       " u'2nd',\n",
       " u'2nite',\n",
       " u'2optout',\n",
       " u'2px',\n",
       " u'2rcv',\n",
       " u'2stop',\n",
       " u'2stoptxt',\n",
       " u'2u',\n",
       " u'2watershd',\n",
       " u'2waxsto',\n",
       " u'2wks',\n",
       " u'2wt',\n",
       " u'2wu',\n",
       " u'2yr',\n",
       " u'2yrs',\n",
       " u'30',\n",
       " u'300',\n",
       " u'3000',\n",
       " u'300603',\n",
       " u'300p',\n",
       " u'3030',\n",
       " u'30apr',\n",
       " u'30ish',\n",
       " u'30pm',\n",
       " u'30pp',\n",
       " u'30s',\n",
       " u'31',\n",
       " u'3100',\n",
       " u'310303',\n",
       " u'31p',\n",
       " u'32',\n",
       " u'32000',\n",
       " u'326',\n",
       " u'33',\n",
       " u'330',\n",
       " u'350',\n",
       " u'3510i',\n",
       " u'3650',\n",
       " u'36504',\n",
       " u'3680',\n",
       " u'3750',\n",
       " u'37819',\n",
       " u'38',\n",
       " u'382',\n",
       " u'391784',\n",
       " u'3aj',\n",
       " u'3d',\n",
       " u'3days',\n",
       " u'3g',\n",
       " u'3gbp',\n",
       " u'3hrs',\n",
       " u'3lions',\n",
       " u'3lp',\n",
       " u'3miles',\n",
       " u'3mins',\n",
       " u'3mobile',\n",
       " u'3optical',\n",
       " u'3pound',\n",
       " u'3qxj9',\n",
       " u'3rd',\n",
       " u'3ss',\n",
       " u'3uz',\n",
       " u'3wks',\n",
       " u'3x',\n",
       " u'3xx',\n",
       " u'40',\n",
       " u'400',\n",
       " u'400mins',\n",
       " u'400thousad',\n",
       " u'402',\n",
       " u'40411',\n",
       " u'40533',\n",
       " u'40gb',\n",
       " u'40mph',\n",
       " u'41685',\n",
       " u'41782',\n",
       " u'420',\n",
       " u'4217',\n",
       " u'42810',\n",
       " u'430',\n",
       " u'434',\n",
       " u'44',\n",
       " u'440',\n",
       " u'4403ldnw1a7rw18',\n",
       " u'44345',\n",
       " u'447797706009',\n",
       " u'447801259231',\n",
       " u'448712404000',\n",
       " u'449050000301',\n",
       " u'45',\n",
       " u'450p',\n",
       " u'450ppw',\n",
       " u'45239',\n",
       " u'45pm',\n",
       " u'47',\n",
       " u'4719',\n",
       " u'4742',\n",
       " u'47per',\n",
       " u'48',\n",
       " u'4882',\n",
       " u'48922',\n",
       " u'49',\n",
       " u'49557',\n",
       " u'4a',\n",
       " u'4d',\n",
       " u'4eva',\n",
       " u'4few',\n",
       " u'4fil',\n",
       " u'4get',\n",
       " u'4got',\n",
       " u'4info',\n",
       " u'4msgs',\n",
       " u'4mths',\n",
       " u'4qf2',\n",
       " u'4t',\n",
       " u'4th',\n",
       " u'4txt',\n",
       " u'4u',\n",
       " u'4utxt',\n",
       " u'4w',\n",
       " u'4wrd',\n",
       " u'4xx26',\n",
       " u'4years',\n",
       " u'50',\n",
       " u'500',\n",
       " u'5000',\n",
       " u'50award',\n",
       " u'50ea',\n",
       " u'50gbp',\n",
       " u'50p',\n",
       " u'50perweeksub',\n",
       " u'50perwksub',\n",
       " u'50pm',\n",
       " u'50ppm',\n",
       " u'50rcvd',\n",
       " u'50s',\n",
       " u'515',\n",
       " u'5226',\n",
       " u'523',\n",
       " u'5249',\n",
       " u'526',\n",
       " u'528',\n",
       " u'530',\n",
       " u'54',\n",
       " u'542',\n",
       " u'5digital',\n",
       " u'5free',\n",
       " u'5ish',\n",
       " u'5k',\n",
       " u'5min',\n",
       " u'5mls',\n",
       " u'5p',\n",
       " u'5pm',\n",
       " u'5th',\n",
       " u'5wb',\n",
       " u'5we',\n",
       " u'5wkg',\n",
       " u'5wq',\n",
       " u'5years',\n",
       " u'60',\n",
       " u'600',\n",
       " u'6031',\n",
       " u'6089',\n",
       " u'60p',\n",
       " u'61',\n",
       " u'61200',\n",
       " u'61610',\n",
       " u'62468',\n",
       " u'630',\n",
       " u'63miles',\n",
       " u'645',\n",
       " u'65',\n",
       " u'66',\n",
       " u'6669',\n",
       " u'674',\n",
       " u'67441233',\n",
       " u'68866',\n",
       " u'69101',\n",
       " u'69669',\n",
       " u'69696',\n",
       " u'69698',\n",
       " u'69855',\n",
       " u'69866',\n",
       " u'69888',\n",
       " u'69888nyt',\n",
       " u'69911',\n",
       " u'69969',\n",
       " u'69988',\n",
       " u'6hrs',\n",
       " u'6ish',\n",
       " u'6missed',\n",
       " u'6months',\n",
       " u'6ph',\n",
       " u'6pm',\n",
       " u'6th',\n",
       " u'6wu',\n",
       " u'6zf',\n",
       " u'700',\n",
       " u'7250',\n",
       " u'7250i',\n",
       " u'730',\n",
       " u'731',\n",
       " u'75',\n",
       " u'750',\n",
       " u'75max',\n",
       " u'762',\n",
       " u'7634',\n",
       " u'7684',\n",
       " u'77',\n",
       " u'7732584351',\n",
       " u'78',\n",
       " u'786',\n",
       " u'7876150ppm',\n",
       " u'7am',\n",
       " u'7cfca1a',\n",
       " u'7ish',\n",
       " u'7oz',\n",
       " u'7pm',\n",
       " u'7th',\n",
       " u'7ws',\n",
       " u'800',\n",
       " u'8000930705',\n",
       " u'80062',\n",
       " u'8007',\n",
       " u'80082',\n",
       " u'80086',\n",
       " u'80122300p',\n",
       " u'80155',\n",
       " u'80182',\n",
       " u'8027',\n",
       " u'80488',\n",
       " u'80608',\n",
       " u'8077',\n",
       " u'80878',\n",
       " u'81010',\n",
       " u'81151',\n",
       " u'81303',\n",
       " u'81618',\n",
       " u'820554ad0a1705572711',\n",
       " u'82242',\n",
       " u'82277',\n",
       " u'82324',\n",
       " u'82468',\n",
       " u'83049',\n",
       " u'83110',\n",
       " u'83118',\n",
       " u'83222',\n",
       " u'83332',\n",
       " u'83338',\n",
       " u'83355',\n",
       " u'83600',\n",
       " u'83738',\n",
       " u'84',\n",
       " u'84025',\n",
       " u'84122',\n",
       " u'84128',\n",
       " u'84199',\n",
       " u'84484',\n",
       " u'85',\n",
       " u'85023',\n",
       " u'85069',\n",
       " u'85222',\n",
       " u'85233',\n",
       " u'8552',\n",
       " u'86021',\n",
       " u'861',\n",
       " u'864233',\n",
       " u'86688',\n",
       " u'86888',\n",
       " u'87021',\n",
       " u'87066',\n",
       " u'87070',\n",
       " u'87077',\n",
       " u'87121',\n",
       " u'87131',\n",
       " u'872',\n",
       " u'87239',\n",
       " u'87575',\n",
       " u'88039',\n",
       " u'88066',\n",
       " u'88088',\n",
       " u'88222',\n",
       " u'88600',\n",
       " u'88800',\n",
       " u'8883',\n",
       " u'88877',\n",
       " u'88888',\n",
       " u'89034',\n",
       " u'89070',\n",
       " u'89080',\n",
       " u'89105',\n",
       " u'89545',\n",
       " u'89555',\n",
       " u'89693',\n",
       " u'89938',\n",
       " u'8am',\n",
       " u'8ball',\n",
       " u'8lb',\n",
       " u'8p',\n",
       " u'8pm',\n",
       " u'8th',\n",
       " u'8wp',\n",
       " u'900',\n",
       " u'9061100010',\n",
       " u'910',\n",
       " u'9153',\n",
       " u'92h',\n",
       " u'930',\n",
       " u'9307622',\n",
       " u'945',\n",
       " u'95',\n",
       " u'9755',\n",
       " u'9758',\n",
       " u'99',\n",
       " u'9996',\n",
       " u'9ae',\n",
       " u'9am',\n",
       " u'9pm',\n",
       " u'9t',\n",
       " u'9th',\n",
       " u'9yt',\n",
       " u'____',\n",
       " u'a21',\n",
       " u'a30',\n",
       " u'aah',\n",
       " u'aaniye',\n",
       " u'aaooooright',\n",
       " u'aathi',\n",
       " u'abbey',\n",
       " u'abdomen',\n",
       " u'abeg',\n",
       " u'abel',\n",
       " u'aberdeen',\n",
       " u'abi',\n",
       " u'ability',\n",
       " u'abiola',\n",
       " u'abj',\n",
       " u'able',\n",
       " u'abnormally',\n",
       " u'about',\n",
       " u'aboutas',\n",
       " u'abroad',\n",
       " u'absence',\n",
       " u'absolutely',\n",
       " u'absolutly',\n",
       " u'abstract',\n",
       " u'abt',\n",
       " u'abta',\n",
       " u'ac',\n",
       " u'academic',\n",
       " u'acc',\n",
       " u'accent',\n",
       " u'accenture',\n",
       " u'accept',\n",
       " u'access',\n",
       " u'accessible',\n",
       " u'accidant',\n",
       " u'accident',\n",
       " u'accidentally',\n",
       " u'accommodation',\n",
       " u'accomodate',\n",
       " u'accomodations',\n",
       " u'accordin',\n",
       " u'accordingly',\n",
       " u'account',\n",
       " u'accounting',\n",
       " u'accounts',\n",
       " u'achan',\n",
       " u'ache',\n",
       " u'achieve',\n",
       " u'acid',\n",
       " u'acl03530150pm',\n",
       " u'acnt',\n",
       " u'aco',\n",
       " u'across',\n",
       " u'act',\n",
       " u'acted',\n",
       " u'actin',\n",
       " u'acting',\n",
       " u'action',\n",
       " u'activ8',\n",
       " u'activate',\n",
       " u'active',\n",
       " u'activities',\n",
       " u'actor',\n",
       " u'actual',\n",
       " u'actually',\n",
       " u'ad',\n",
       " u'adam',\n",
       " u'add',\n",
       " u'addamsfa',\n",
       " u'added',\n",
       " u'addicted',\n",
       " u'addie',\n",
       " u'adding',\n",
       " u'address',\n",
       " u'adewale',\n",
       " u'adjustable',\n",
       " u'admin',\n",
       " u'administrator',\n",
       " u'admirer',\n",
       " u'admission',\n",
       " u'admit',\n",
       " u'adore',\n",
       " u'adoring',\n",
       " u'adp',\n",
       " u'adress',\n",
       " u'adrian',\n",
       " u'adrink',\n",
       " u'ads',\n",
       " u'adsense',\n",
       " u'adult',\n",
       " u'adults',\n",
       " u'advance',\n",
       " u'adventure',\n",
       " u'advice',\n",
       " u'advise',\n",
       " u'advising',\n",
       " u'advisors',\n",
       " u'aeronautics',\n",
       " u'aeroplane',\n",
       " u'affair',\n",
       " u'affairs',\n",
       " u'affection',\n",
       " u'affections',\n",
       " u'affidavit',\n",
       " u'afford',\n",
       " u'afghanistan',\n",
       " u'afraid',\n",
       " u'africa',\n",
       " u'african',\n",
       " u'aft',\n",
       " u'after',\n",
       " u'afternon',\n",
       " u'afternoon',\n",
       " u'afterwards',\n",
       " u'aftr',\n",
       " u'ag',\n",
       " u'again',\n",
       " u'against',\n",
       " u'age',\n",
       " u'age16',\n",
       " u'age23',\n",
       " u'agency',\n",
       " u'agent',\n",
       " u'agents',\n",
       " u'ages',\n",
       " u'agidhane',\n",
       " u'aging',\n",
       " u'ago',\n",
       " u'agree',\n",
       " u'ah',\n",
       " u'aha',\n",
       " u'ahead',\n",
       " u'ahhh',\n",
       " u'ahhhh',\n",
       " u'ahmad',\n",
       " u'aids',\n",
       " u'aig',\n",
       " u'aight',\n",
       " u'ain',\n",
       " u'aint',\n",
       " u'air',\n",
       " u'air1',\n",
       " u'airport',\n",
       " u'airtel',\n",
       " u'aiya',\n",
       " u'aiyah',\n",
       " u'aiyar',\n",
       " u'aiyo',\n",
       " u'ajith',\n",
       " u'ak',\n",
       " u'aka',\n",
       " u'akon',\n",
       " u'al',\n",
       " u'alaipayuthe',\n",
       " u'album',\n",
       " u'alcohol',\n",
       " u'aldrine',\n",
       " u'alert',\n",
       " u'alertfrom',\n",
       " u'alerts',\n",
       " u'alex',\n",
       " u'alfie',\n",
       " u'algarve',\n",
       " u'algebra',\n",
       " u'ali',\n",
       " u'alian',\n",
       " u'alibi',\n",
       " u'alive',\n",
       " u'all',\n",
       " u'allah',\n",
       " u'allday',\n",
       " u'allow',\n",
       " u'allowed',\n",
       " u'allows',\n",
       " u'almost',\n",
       " u'alone',\n",
       " u'along',\n",
       " u'alot',\n",
       " u'already',\n",
       " u'alright',\n",
       " u'alrite',\n",
       " u'also',\n",
       " u'alto18',\n",
       " u'alwa',\n",
       " u'always',\n",
       " u'alwys',\n",
       " u'am',\n",
       " u'amanda',\n",
       " u'amazing',\n",
       " u'ambitious',\n",
       " u'american',\n",
       " u'ami',\n",
       " u'amk',\n",
       " u'amla',\n",
       " u'amma',\n",
       " u'ammae',\n",
       " u'ammo',\n",
       " u'among',\n",
       " u'amongst',\n",
       " u'amore',\n",
       " u'amount',\n",
       " u'amp',\n",
       " u'amplikater',\n",
       " u'amrita',\n",
       " u'ams',\n",
       " u'amt',\n",
       " u'amused',\n",
       " u'an',\n",
       " u'analysis',\n",
       " u'anand',\n",
       " u'and',\n",
       " u'anderson',\n",
       " u'andre',\n",
       " u'andres',\n",
       " u'andrews',\n",
       " u'angry',\n",
       " u'animal',\n",
       " u'animation',\n",
       " u'anna',\n",
       " u'annie',\n",
       " u'anniversary',\n",
       " u'announced',\n",
       " u'announcement',\n",
       " u'annoyin',\n",
       " u'annoying',\n",
       " u'anot',\n",
       " u'another',\n",
       " u'ans',\n",
       " u'ansr',\n",
       " u'answer',\n",
       " u'answered',\n",
       " u'answerin',\n",
       " u'answering',\n",
       " u'answers',\n",
       " u'answr',\n",
       " u'antelope',\n",
       " u'antha',\n",
       " u'anthony',\n",
       " u'anti',\n",
       " u'antibiotic',\n",
       " u'any',\n",
       " u'anybody',\n",
       " u'anymore',\n",
       " u'anyone',\n",
       " u'anyones',\n",
       " u'anyplaces',\n",
       " u'anythiing',\n",
       " u'anythin',\n",
       " u'anything',\n",
       " u'anythingtomorrow',\n",
       " u'anytime',\n",
       " u'anyway',\n",
       " u'anyways',\n",
       " u'anywhere',\n",
       " u'aom',\n",
       " u'apart',\n",
       " u'apartment',\n",
       " u'apes',\n",
       " u'apeshit',\n",
       " u'aphex',\n",
       " u'apnt',\n",
       " u'apo',\n",
       " u'apologetic',\n",
       " u'apologise',\n",
       " u'apologize',\n",
       " u'apology',\n",
       " u'app',\n",
       " u'apparently',\n",
       " u'appeal',\n",
       " u'appear',\n",
       " u'appendix',\n",
       " u'applausestore',\n",
       " u'applebees',\n",
       " u'apples',\n",
       " u'application',\n",
       " u'apply',\n",
       " u'applying',\n",
       " u'appointment',\n",
       " u'appointments',\n",
       " u'appreciate',\n",
       " u'appropriate',\n",
       " ...]"
      ]
     },
     "execution_count": 86,
     "metadata": {},
     "output_type": "execute_result"
    }
   ],
   "source": [
    "# instantiate the vectorizer ( use variable name as vect)\n",
    "vect = CountVectorizer(decode_error = 'ignore')\n",
    "vect.fit(X_train)\n",
    "vect.get_feature_names()"
   ]
  },
  {
   "cell_type": "code",
   "execution_count": 58,
   "metadata": {
    "collapsed": true
   },
   "outputs": [
    {
     "name": "stdout",
     "output_type": "stream",
     "text": [
      "  (0, 1538)\t1\n",
      "  (0, 5189)\t1\n",
      "  (0, 6542)\t1\n",
      "  (0, 7405)\t1\n",
      "  (1, 1016)\t1\n",
      "  (1, 3050)\t1\n",
      "  (1, 4163)\t1\n",
      "  (1, 4238)\t1\n",
      "  (1, 4370)\t1\n",
      "  (1, 5200)\t1\n",
      "  (1, 6656)\t1\n",
      "  (1, 7407)\t1\n",
      "  (1, 7420)\t1\n",
      "  (2, 986)\t1\n",
      "  (2, 3244)\t1\n",
      "  (2, 7162)\t1\n",
      "  (3, 3237)\t1\n",
      "  (4, 887)\t2\n",
      "  (4, 1060)\t1\n",
      "  (4, 1595)\t1\n",
      "  (4, 2066)\t1\n",
      "  (4, 2833)\t1\n",
      "  (4, 3388)\t1\n",
      "  (4, 3623)\t1\n",
      "  (4, 3921)\t1\n",
      "  :\t:\n",
      "  (1391, 4373)\t1\n",
      "  (1391, 4413)\t1\n",
      "  (1391, 4441)\t1\n",
      "  (1391, 4743)\t1\n",
      "  (1391, 4778)\t1\n",
      "  (1391, 6017)\t1\n",
      "  (1391, 6057)\t1\n",
      "  (1391, 6829)\t1\n",
      "  (1391, 6904)\t1\n",
      "  (1391, 7012)\t1\n",
      "  (1391, 7120)\t1\n",
      "  (1391, 7230)\t2\n",
      "  (1391, 7239)\t1\n",
      "  (1391, 7287)\t1\n",
      "  (1391, 7357)\t1\n",
      "  (1392, 848)\t1\n",
      "  (1392, 2400)\t1\n",
      "  (1392, 2873)\t1\n",
      "  (1392, 3158)\t1\n",
      "  (1392, 4238)\t1\n",
      "  (1392, 4255)\t2\n",
      "  (1392, 4487)\t1\n",
      "  (1392, 4802)\t1\n",
      "  (1392, 5565)\t1\n",
      "  (1392, 7075)\t1\n"
     ]
    }
   ],
   "source": [
    "# transform testing data into a document-term matrix: Use Variable name as test_dtm\n",
    "train_dtm = vect.transform(X_train)\n",
    "test_dtm = vect.transform(X_test)\n",
    "print test_dtm"
   ]
  },
  {
   "cell_type": "code",
   "execution_count": 59,
   "metadata": {
    "collapsed": false
   },
   "outputs": [
    {
     "data": {
      "text/plain": [
       "7456"
      ]
     },
     "execution_count": 59,
     "metadata": {},
     "output_type": "execute_result"
    }
   ],
   "source": [
    "# Get the length and names of the feature names\n",
    "train_features = vect.get_feature_names()\n",
    "len(train_features)"
   ]
  },
  {
   "cell_type": "code",
   "execution_count": 60,
   "metadata": {
    "collapsed": true
   },
   "outputs": [
    {
     "data": {
      "text/plain": [
       "[u'00',\n",
       " u'000',\n",
       " u'008704050406',\n",
       " u'0121',\n",
       " u'01223585236',\n",
       " u'01223585334',\n",
       " u'0125698789',\n",
       " u'02',\n",
       " u'0207',\n",
       " u'02072069400',\n",
       " u'02073162414',\n",
       " u'02085076972',\n",
       " u'021',\n",
       " u'03',\n",
       " u'04',\n",
       " u'0430',\n",
       " u'05',\n",
       " u'050703',\n",
       " u'0578',\n",
       " u'06',\n",
       " u'07',\n",
       " u'07008009200',\n",
       " u'07090201529',\n",
       " u'07090298926',\n",
       " u'07123456789',\n",
       " u'07732584351',\n",
       " u'07734396839',\n",
       " u'07742676969',\n",
       " u'0776xxxxxxx',\n",
       " u'07781482378',\n",
       " u'07786200117',\n",
       " u'078',\n",
       " u'07801543489',\n",
       " u'07808',\n",
       " u'07808247860',\n",
       " u'07808726822',\n",
       " u'07815296484',\n",
       " u'07821230901',\n",
       " u'07880867867',\n",
       " u'0789xxxxxxx',\n",
       " u'07946746291',\n",
       " u'0796xxxxxx',\n",
       " u'07973788240',\n",
       " u'07xxxxxxxxx',\n",
       " u'08',\n",
       " u'0800',\n",
       " u'08000407165',\n",
       " u'08000776320',\n",
       " u'08000839402',\n",
       " u'08000930705']"
      ]
     },
     "execution_count": 60,
     "metadata": {},
     "output_type": "execute_result"
    }
   ],
   "source": [
    "train_features[:50]"
   ]
  },
  {
   "cell_type": "code",
   "execution_count": 61,
   "metadata": {
    "collapsed": true
   },
   "outputs": [
    {
     "data": {
      "text/plain": [
       "[u'yer',\n",
       " u'yes',\n",
       " u'yest',\n",
       " u'yesterday',\n",
       " u'yet',\n",
       " u'yetunde',\n",
       " u'yijue',\n",
       " u'ym',\n",
       " u'ymca',\n",
       " u'yo',\n",
       " u'yoga',\n",
       " u'yogasana',\n",
       " u'yor',\n",
       " u'yorge',\n",
       " u'you',\n",
       " u'youdoing',\n",
       " u'youi',\n",
       " u'youphone',\n",
       " u'your',\n",
       " u'youre',\n",
       " u'yourjob',\n",
       " u'yours',\n",
       " u'yourself',\n",
       " u'youwanna',\n",
       " u'yowifes',\n",
       " u'yoyyooo',\n",
       " u'yr',\n",
       " u'yrs',\n",
       " u'ything',\n",
       " u'yummmm',\n",
       " u'yummy',\n",
       " u'yun',\n",
       " u'yunny',\n",
       " u'yuo',\n",
       " u'yuou',\n",
       " u'yup',\n",
       " u'zac',\n",
       " u'zaher',\n",
       " u'zealand',\n",
       " u'zebra',\n",
       " u'zed',\n",
       " u'zeros',\n",
       " u'zhong',\n",
       " u'zindgi',\n",
       " u'zoe',\n",
       " u'zoom',\n",
       " u'zouk',\n",
       " u'zyada',\n",
       " u'\\xe8n',\n",
       " u'\\u3028ud']"
      ]
     },
     "execution_count": 61,
     "metadata": {},
     "output_type": "execute_result"
    }
   ],
   "source": [
    "train_features[-50:]"
   ]
  },
  {
   "cell_type": "code",
   "execution_count": 62,
   "metadata": {
    "collapsed": false
   },
   "outputs": [
    {
     "data": {
      "text/plain": [
       "array([[0, 0, 0, ..., 0, 0, 0],\n",
       "       [0, 0, 0, ..., 0, 0, 0],\n",
       "       [0, 0, 0, ..., 0, 0, 0],\n",
       "       ..., \n",
       "       [0, 0, 0, ..., 0, 0, 0],\n",
       "       [0, 0, 0, ..., 0, 0, 0],\n",
       "       [0, 0, 0, ..., 0, 0, 0]])"
      ]
     },
     "execution_count": 62,
     "metadata": {},
     "output_type": "execute_result"
    }
   ],
   "source": [
    "# convert train_dtm to a regular array\n",
    "train_arr = train_dtm.toarray()\n",
    "train_arr"
   ]
  },
  {
   "cell_type": "code",
   "execution_count": 63,
   "metadata": {
    "collapsed": false
   },
   "outputs": [
    {
     "name": "stdout",
     "output_type": "stream",
     "text": [
      "1\n",
      "8\n",
      "[1 2 3 4]\n",
      "[1 5]\n",
      "36\n",
      "[ 6  8 10 12]\n",
      "[10 26]\n"
     ]
    }
   ],
   "source": [
    "\n",
    "# Revisit Numpy\n",
    "arr = np.array([[1, 2, 3, 4], [5, 6, 7, 8]])\n",
    "print arr[0, 0]\n",
    "print arr[1, 3]\n",
    "print arr[0, :]\n",
    "print arr[:, 0]\n",
    "print np.sum(arr)\n",
    "print np.sum(arr,axis = 0)\n",
    "print np.sum(arr,axis = 1)\n",
    "\n",
    "\n"
   ]
  },
  {
   "cell_type": "code",
   "execution_count": 64,
   "metadata": {
    "collapsed": false
   },
   "outputs": [
    {
     "name": "stdout",
     "output_type": "stream",
     "text": [
      "24\n"
     ]
    }
   ],
   "source": [
    "# exercise: calculate the number of tokens in the 0th message in train_arr\n",
    "print np.sum(train_arr[0,:])"
   ]
  },
  {
   "cell_type": "code",
   "execution_count": 66,
   "metadata": {
    "collapsed": false
   },
   "outputs": [
    {
     "data": {
      "text/plain": [
       "array([0, 0, 0, ..., 0, 0, 0])"
      ]
     },
     "execution_count": 66,
     "metadata": {},
     "output_type": "execute_result"
    }
   ],
   "source": [
    "train_arr[0,:]"
   ]
  },
  {
   "cell_type": "code",
   "execution_count": null,
   "metadata": {
    "collapsed": false
   },
   "outputs": [],
   "source": [
    "# exercise: count how many times the 0th token appears across ALL messages in train_arr\n",
    "print np.sum(train_arr[:,0]) ## token means feature"
   ]
  },
  {
   "cell_type": "code",
   "execution_count": 65,
   "metadata": {
    "collapsed": false
   },
   "outputs": [
    {
     "data": {
      "text/plain": [
       "array([0, 0, 0, ..., 0, 0, 0])"
      ]
     },
     "execution_count": 65,
     "metadata": {},
     "output_type": "execute_result"
    }
   ],
   "source": [
    "train_arr[:,0]"
   ]
  },
  {
   "cell_type": "code",
   "execution_count": 67,
   "metadata": {
    "collapsed": false
   },
   "outputs": [
    {
     "name": "stdout",
     "output_type": "stream",
     "text": [
      "[ 5 23  2 ...,  1  1  1]\n"
     ]
    }
   ],
   "source": [
    "# exercise: count how many times EACH token appears across ALL messages in train_arr\n",
    "print np.sum(train_arr, axis=0)"
   ]
  },
  {
   "cell_type": "code",
   "execution_count": 76,
   "metadata": {
    "collapsed": true
   },
   "outputs": [
    {
     "ename": "UnicodeDecodeError",
     "evalue": "'ascii' codec can't decode byte 0xc3 in position 1217: ordinal not in range(128)",
     "output_type": "error",
     "traceback": [
      "\u001b[0;31m---------------------------------------------------------------------------\u001b[0m",
      "\u001b[0;31mUnicodeDecodeError\u001b[0m                        Traceback (most recent call last)",
      "\u001b[0;32m<ipython-input-76-739cec646193>\u001b[0m in \u001b[0;36m<module>\u001b[0;34m()\u001b[0m\n\u001b[1;32m      1\u001b[0m \u001b[0mtrain_features_df\u001b[0m \u001b[0;34m=\u001b[0m \u001b[0mpd\u001b[0m\u001b[0;34m.\u001b[0m\u001b[0mDataFrame\u001b[0m\u001b[0;34m(\u001b[0m\u001b[0mtrain_features\u001b[0m\u001b[0;34m)\u001b[0m\u001b[0;34m\u001b[0m\u001b[0m\n\u001b[0;32m----> 2\u001b[0;31m \u001b[0mtrain_features_df\u001b[0m\u001b[0;34m\u001b[0m\u001b[0m\n\u001b[0m",
      "\u001b[0;32m/Users/PoonamRath/anaconda/lib/python2.7/site-packages/IPython/core/displayhook.pyc\u001b[0m in \u001b[0;36m__call__\u001b[0;34m(self, result)\u001b[0m\n\u001b[1;32m    236\u001b[0m                 \u001b[0mself\u001b[0m\u001b[0;34m.\u001b[0m\u001b[0mwrite_format_data\u001b[0m\u001b[0;34m(\u001b[0m\u001b[0mformat_dict\u001b[0m\u001b[0;34m,\u001b[0m \u001b[0mmd_dict\u001b[0m\u001b[0;34m)\u001b[0m\u001b[0;34m\u001b[0m\u001b[0m\n\u001b[1;32m    237\u001b[0m                 \u001b[0mself\u001b[0m\u001b[0;34m.\u001b[0m\u001b[0mlog_output\u001b[0m\u001b[0;34m(\u001b[0m\u001b[0mformat_dict\u001b[0m\u001b[0;34m)\u001b[0m\u001b[0;34m\u001b[0m\u001b[0m\n\u001b[0;32m--> 238\u001b[0;31m             \u001b[0mself\u001b[0m\u001b[0;34m.\u001b[0m\u001b[0mfinish_displayhook\u001b[0m\u001b[0;34m(\u001b[0m\u001b[0;34m)\u001b[0m\u001b[0;34m\u001b[0m\u001b[0m\n\u001b[0m\u001b[1;32m    239\u001b[0m \u001b[0;34m\u001b[0m\u001b[0m\n\u001b[1;32m    240\u001b[0m     \u001b[0;32mdef\u001b[0m \u001b[0mcull_cache\u001b[0m\u001b[0;34m(\u001b[0m\u001b[0mself\u001b[0m\u001b[0;34m)\u001b[0m\u001b[0;34m:\u001b[0m\u001b[0;34m\u001b[0m\u001b[0m\n",
      "\u001b[0;32m/Users/PoonamRath/anaconda/lib/python2.7/site-packages/IPython/kernel/zmq/displayhook.pyc\u001b[0m in \u001b[0;36mfinish_displayhook\u001b[0;34m(self)\u001b[0m\n\u001b[1;32m     70\u001b[0m         \u001b[0msys\u001b[0m\u001b[0;34m.\u001b[0m\u001b[0mstderr\u001b[0m\u001b[0;34m.\u001b[0m\u001b[0mflush\u001b[0m\u001b[0;34m(\u001b[0m\u001b[0;34m)\u001b[0m\u001b[0;34m\u001b[0m\u001b[0m\n\u001b[1;32m     71\u001b[0m         \u001b[0;32mif\u001b[0m \u001b[0mself\u001b[0m\u001b[0;34m.\u001b[0m\u001b[0mmsg\u001b[0m\u001b[0;34m[\u001b[0m\u001b[0;34m'content'\u001b[0m\u001b[0;34m]\u001b[0m\u001b[0;34m[\u001b[0m\u001b[0;34m'data'\u001b[0m\u001b[0;34m]\u001b[0m\u001b[0;34m:\u001b[0m\u001b[0;34m\u001b[0m\u001b[0m\n\u001b[0;32m---> 72\u001b[0;31m             \u001b[0mself\u001b[0m\u001b[0;34m.\u001b[0m\u001b[0msession\u001b[0m\u001b[0;34m.\u001b[0m\u001b[0msend\u001b[0m\u001b[0;34m(\u001b[0m\u001b[0mself\u001b[0m\u001b[0;34m.\u001b[0m\u001b[0mpub_socket\u001b[0m\u001b[0;34m,\u001b[0m \u001b[0mself\u001b[0m\u001b[0;34m.\u001b[0m\u001b[0mmsg\u001b[0m\u001b[0;34m,\u001b[0m \u001b[0mident\u001b[0m\u001b[0;34m=\u001b[0m\u001b[0mself\u001b[0m\u001b[0;34m.\u001b[0m\u001b[0mtopic\u001b[0m\u001b[0;34m)\u001b[0m\u001b[0;34m\u001b[0m\u001b[0m\n\u001b[0m\u001b[1;32m     73\u001b[0m         \u001b[0mself\u001b[0m\u001b[0;34m.\u001b[0m\u001b[0mmsg\u001b[0m \u001b[0;34m=\u001b[0m \u001b[0mNone\u001b[0m\u001b[0;34m\u001b[0m\u001b[0m\n\u001b[1;32m     74\u001b[0m \u001b[0;34m\u001b[0m\u001b[0m\n",
      "\u001b[0;32m/Users/PoonamRath/anaconda/lib/python2.7/site-packages/IPython/kernel/zmq/session.pyc\u001b[0m in \u001b[0;36msend\u001b[0;34m(self, stream, msg_or_type, content, parent, ident, buffers, track, header, metadata)\u001b[0m\n\u001b[1;32m    647\u001b[0m         \u001b[0;32mif\u001b[0m \u001b[0mself\u001b[0m\u001b[0;34m.\u001b[0m\u001b[0madapt_version\u001b[0m\u001b[0;34m:\u001b[0m\u001b[0;34m\u001b[0m\u001b[0m\n\u001b[1;32m    648\u001b[0m             \u001b[0mmsg\u001b[0m \u001b[0;34m=\u001b[0m \u001b[0madapt\u001b[0m\u001b[0;34m(\u001b[0m\u001b[0mmsg\u001b[0m\u001b[0;34m,\u001b[0m \u001b[0mself\u001b[0m\u001b[0;34m.\u001b[0m\u001b[0madapt_version\u001b[0m\u001b[0;34m)\u001b[0m\u001b[0;34m\u001b[0m\u001b[0m\n\u001b[0;32m--> 649\u001b[0;31m         \u001b[0mto_send\u001b[0m \u001b[0;34m=\u001b[0m \u001b[0mself\u001b[0m\u001b[0;34m.\u001b[0m\u001b[0mserialize\u001b[0m\u001b[0;34m(\u001b[0m\u001b[0mmsg\u001b[0m\u001b[0;34m,\u001b[0m \u001b[0mident\u001b[0m\u001b[0;34m)\u001b[0m\u001b[0;34m\u001b[0m\u001b[0m\n\u001b[0m\u001b[1;32m    650\u001b[0m         \u001b[0mto_send\u001b[0m\u001b[0;34m.\u001b[0m\u001b[0mextend\u001b[0m\u001b[0;34m(\u001b[0m\u001b[0mbuffers\u001b[0m\u001b[0;34m)\u001b[0m\u001b[0;34m\u001b[0m\u001b[0m\n\u001b[1;32m    651\u001b[0m         \u001b[0mlongest\u001b[0m \u001b[0;34m=\u001b[0m \u001b[0mmax\u001b[0m\u001b[0;34m(\u001b[0m\u001b[0;34m[\u001b[0m \u001b[0mlen\u001b[0m\u001b[0;34m(\u001b[0m\u001b[0ms\u001b[0m\u001b[0;34m)\u001b[0m \u001b[0;32mfor\u001b[0m \u001b[0ms\u001b[0m \u001b[0;32min\u001b[0m \u001b[0mto_send\u001b[0m \u001b[0;34m]\u001b[0m\u001b[0;34m)\u001b[0m\u001b[0;34m\u001b[0m\u001b[0m\n",
      "\u001b[0;32m/Users/PoonamRath/anaconda/lib/python2.7/site-packages/IPython/kernel/zmq/session.pyc\u001b[0m in \u001b[0;36mserialize\u001b[0;34m(self, msg, ident)\u001b[0m\n\u001b[1;32m    551\u001b[0m             \u001b[0mcontent\u001b[0m \u001b[0;34m=\u001b[0m \u001b[0mself\u001b[0m\u001b[0;34m.\u001b[0m\u001b[0mnone\u001b[0m\u001b[0;34m\u001b[0m\u001b[0m\n\u001b[1;32m    552\u001b[0m         \u001b[0;32melif\u001b[0m \u001b[0misinstance\u001b[0m\u001b[0;34m(\u001b[0m\u001b[0mcontent\u001b[0m\u001b[0;34m,\u001b[0m \u001b[0mdict\u001b[0m\u001b[0;34m)\u001b[0m\u001b[0;34m:\u001b[0m\u001b[0;34m\u001b[0m\u001b[0m\n\u001b[0;32m--> 553\u001b[0;31m             \u001b[0mcontent\u001b[0m \u001b[0;34m=\u001b[0m \u001b[0mself\u001b[0m\u001b[0;34m.\u001b[0m\u001b[0mpack\u001b[0m\u001b[0;34m(\u001b[0m\u001b[0mcontent\u001b[0m\u001b[0;34m)\u001b[0m\u001b[0;34m\u001b[0m\u001b[0m\n\u001b[0m\u001b[1;32m    554\u001b[0m         \u001b[0;32melif\u001b[0m \u001b[0misinstance\u001b[0m\u001b[0;34m(\u001b[0m\u001b[0mcontent\u001b[0m\u001b[0;34m,\u001b[0m \u001b[0mbytes\u001b[0m\u001b[0;34m)\u001b[0m\u001b[0;34m:\u001b[0m\u001b[0;34m\u001b[0m\u001b[0m\n\u001b[1;32m    555\u001b[0m             \u001b[0;31m# content is already packed, as in a relayed message\u001b[0m\u001b[0;34m\u001b[0m\u001b[0;34m\u001b[0m\u001b[0m\n",
      "\u001b[0;32m/Users/PoonamRath/anaconda/lib/python2.7/site-packages/IPython/kernel/zmq/session.pyc\u001b[0m in \u001b[0;36m<lambda>\u001b[0;34m(obj)\u001b[0m\n\u001b[1;32m     83\u001b[0m \u001b[0;31m# disallow nan, because it's not actually valid JSON\u001b[0m\u001b[0;34m\u001b[0m\u001b[0;34m\u001b[0m\u001b[0m\n\u001b[1;32m     84\u001b[0m json_packer = lambda obj: jsonapi.dumps(obj, default=date_default,\n\u001b[0;32m---> 85\u001b[0;31m     \u001b[0mensure_ascii\u001b[0m\u001b[0;34m=\u001b[0m\u001b[0mFalse\u001b[0m\u001b[0;34m,\u001b[0m \u001b[0mallow_nan\u001b[0m\u001b[0;34m=\u001b[0m\u001b[0mFalse\u001b[0m\u001b[0;34m,\u001b[0m\u001b[0;34m\u001b[0m\u001b[0m\n\u001b[0m\u001b[1;32m     86\u001b[0m )\n\u001b[1;32m     87\u001b[0m \u001b[0mjson_unpacker\u001b[0m \u001b[0;34m=\u001b[0m \u001b[0;32mlambda\u001b[0m \u001b[0ms\u001b[0m\u001b[0;34m:\u001b[0m \u001b[0mjsonapi\u001b[0m\u001b[0;34m.\u001b[0m\u001b[0mloads\u001b[0m\u001b[0;34m(\u001b[0m\u001b[0ms\u001b[0m\u001b[0;34m)\u001b[0m\u001b[0;34m\u001b[0m\u001b[0m\n",
      "\u001b[0;32m/Users/PoonamRath/anaconda/lib/python2.7/site-packages/zmq/utils/jsonapi.pyc\u001b[0m in \u001b[0;36mdumps\u001b[0;34m(o, **kwargs)\u001b[0m\n\u001b[1;32m     38\u001b[0m         \u001b[0mkwargs\u001b[0m\u001b[0;34m[\u001b[0m\u001b[0;34m'separators'\u001b[0m\u001b[0;34m]\u001b[0m \u001b[0;34m=\u001b[0m \u001b[0;34m(\u001b[0m\u001b[0;34m','\u001b[0m\u001b[0;34m,\u001b[0m \u001b[0;34m':'\u001b[0m\u001b[0;34m)\u001b[0m\u001b[0;34m\u001b[0m\u001b[0m\n\u001b[1;32m     39\u001b[0m \u001b[0;34m\u001b[0m\u001b[0m\n\u001b[0;32m---> 40\u001b[0;31m     \u001b[0ms\u001b[0m \u001b[0;34m=\u001b[0m \u001b[0mjsonmod\u001b[0m\u001b[0;34m.\u001b[0m\u001b[0mdumps\u001b[0m\u001b[0;34m(\u001b[0m\u001b[0mo\u001b[0m\u001b[0;34m,\u001b[0m \u001b[0;34m**\u001b[0m\u001b[0mkwargs\u001b[0m\u001b[0;34m)\u001b[0m\u001b[0;34m\u001b[0m\u001b[0m\n\u001b[0m\u001b[1;32m     41\u001b[0m \u001b[0;34m\u001b[0m\u001b[0m\n\u001b[1;32m     42\u001b[0m     \u001b[0;32mif\u001b[0m \u001b[0misinstance\u001b[0m\u001b[0;34m(\u001b[0m\u001b[0ms\u001b[0m\u001b[0;34m,\u001b[0m \u001b[0municode\u001b[0m\u001b[0;34m)\u001b[0m\u001b[0;34m:\u001b[0m\u001b[0;34m\u001b[0m\u001b[0m\n",
      "\u001b[0;32m/Users/PoonamRath/anaconda/lib/python2.7/json/__init__.pyc\u001b[0m in \u001b[0;36mdumps\u001b[0;34m(obj, skipkeys, ensure_ascii, check_circular, allow_nan, cls, indent, separators, encoding, default, sort_keys, **kw)\u001b[0m\n\u001b[1;32m    248\u001b[0m         \u001b[0mcheck_circular\u001b[0m\u001b[0;34m=\u001b[0m\u001b[0mcheck_circular\u001b[0m\u001b[0;34m,\u001b[0m \u001b[0mallow_nan\u001b[0m\u001b[0;34m=\u001b[0m\u001b[0mallow_nan\u001b[0m\u001b[0;34m,\u001b[0m \u001b[0mindent\u001b[0m\u001b[0;34m=\u001b[0m\u001b[0mindent\u001b[0m\u001b[0;34m,\u001b[0m\u001b[0;34m\u001b[0m\u001b[0m\n\u001b[1;32m    249\u001b[0m         \u001b[0mseparators\u001b[0m\u001b[0;34m=\u001b[0m\u001b[0mseparators\u001b[0m\u001b[0;34m,\u001b[0m \u001b[0mencoding\u001b[0m\u001b[0;34m=\u001b[0m\u001b[0mencoding\u001b[0m\u001b[0;34m,\u001b[0m \u001b[0mdefault\u001b[0m\u001b[0;34m=\u001b[0m\u001b[0mdefault\u001b[0m\u001b[0;34m,\u001b[0m\u001b[0;34m\u001b[0m\u001b[0m\n\u001b[0;32m--> 250\u001b[0;31m         sort_keys=sort_keys, **kw).encode(obj)\n\u001b[0m\u001b[1;32m    251\u001b[0m \u001b[0;34m\u001b[0m\u001b[0m\n\u001b[1;32m    252\u001b[0m \u001b[0;34m\u001b[0m\u001b[0m\n",
      "\u001b[0;32m/Users/PoonamRath/anaconda/lib/python2.7/json/encoder.pyc\u001b[0m in \u001b[0;36mencode\u001b[0;34m(self, o)\u001b[0m\n\u001b[1;32m    208\u001b[0m         \u001b[0;32mif\u001b[0m \u001b[0;32mnot\u001b[0m \u001b[0misinstance\u001b[0m\u001b[0;34m(\u001b[0m\u001b[0mchunks\u001b[0m\u001b[0;34m,\u001b[0m \u001b[0;34m(\u001b[0m\u001b[0mlist\u001b[0m\u001b[0;34m,\u001b[0m \u001b[0mtuple\u001b[0m\u001b[0;34m)\u001b[0m\u001b[0;34m)\u001b[0m\u001b[0;34m:\u001b[0m\u001b[0;34m\u001b[0m\u001b[0m\n\u001b[1;32m    209\u001b[0m             \u001b[0mchunks\u001b[0m \u001b[0;34m=\u001b[0m \u001b[0mlist\u001b[0m\u001b[0;34m(\u001b[0m\u001b[0mchunks\u001b[0m\u001b[0;34m)\u001b[0m\u001b[0;34m\u001b[0m\u001b[0m\n\u001b[0;32m--> 210\u001b[0;31m         \u001b[0;32mreturn\u001b[0m \u001b[0;34m''\u001b[0m\u001b[0;34m.\u001b[0m\u001b[0mjoin\u001b[0m\u001b[0;34m(\u001b[0m\u001b[0mchunks\u001b[0m\u001b[0;34m)\u001b[0m\u001b[0;34m\u001b[0m\u001b[0m\n\u001b[0m\u001b[1;32m    211\u001b[0m \u001b[0;34m\u001b[0m\u001b[0m\n\u001b[1;32m    212\u001b[0m     \u001b[0;32mdef\u001b[0m \u001b[0miterencode\u001b[0m\u001b[0;34m(\u001b[0m\u001b[0mself\u001b[0m\u001b[0;34m,\u001b[0m \u001b[0mo\u001b[0m\u001b[0;34m,\u001b[0m \u001b[0m_one_shot\u001b[0m\u001b[0;34m=\u001b[0m\u001b[0mFalse\u001b[0m\u001b[0;34m)\u001b[0m\u001b[0;34m:\u001b[0m\u001b[0;34m\u001b[0m\u001b[0m\n",
      "\u001b[0;31mUnicodeDecodeError\u001b[0m: 'ascii' codec can't decode byte 0xc3 in position 1217: ordinal not in range(128)"
     ]
    }
   ],
   "source": [
    "train_features_df = pd.DataFrame(train_features)\n",
    "train_features_df"
   ]
  },
  {
   "cell_type": "code",
   "execution_count": 73,
   "metadata": {
    "collapsed": false
   },
   "outputs": [
    {
     "data": {
      "text/html": [
       "<div style=\"max-height:1000px;max-width:1500px;overflow:auto;\">\n",
       "<table border=\"1\" class=\"dataframe\">\n",
       "  <thead>\n",
       "    <tr style=\"text-align: right;\">\n",
       "      <th></th>\n",
       "      <th>0</th>\n",
       "      <th>1</th>\n",
       "      <th>2</th>\n",
       "      <th>3</th>\n",
       "      <th>4</th>\n",
       "      <th>5</th>\n",
       "      <th>6</th>\n",
       "      <th>7</th>\n",
       "      <th>8</th>\n",
       "      <th>9</th>\n",
       "      <th>...</th>\n",
       "      <th>7446</th>\n",
       "      <th>7447</th>\n",
       "      <th>7448</th>\n",
       "      <th>7449</th>\n",
       "      <th>7450</th>\n",
       "      <th>7451</th>\n",
       "      <th>7452</th>\n",
       "      <th>7453</th>\n",
       "      <th>7454</th>\n",
       "      <th>7455</th>\n",
       "    </tr>\n",
       "  </thead>\n",
       "  <tbody>\n",
       "    <tr>\n",
       "      <th>0</th>\n",
       "      <td> 5</td>\n",
       "      <td> 23</td>\n",
       "      <td> 2</td>\n",
       "      <td> 1</td>\n",
       "      <td> 1</td>\n",
       "      <td> 2</td>\n",
       "      <td> 1</td>\n",
       "      <td> 4</td>\n",
       "      <td> 3</td>\n",
       "      <td> 1</td>\n",
       "      <td>...</td>\n",
       "      <td> 6</td>\n",
       "      <td> 1</td>\n",
       "      <td> 1</td>\n",
       "      <td> 2</td>\n",
       "      <td> 2</td>\n",
       "      <td> 1</td>\n",
       "      <td> 1</td>\n",
       "      <td> 1</td>\n",
       "      <td> 1</td>\n",
       "      <td> 1</td>\n",
       "    </tr>\n",
       "  </tbody>\n",
       "</table>\n",
       "<p>1 rows × 7456 columns</p>\n",
       "</div>"
      ],
      "text/plain": [
       "   0     1     2     3     4     5     6     7     8     9     ...   7446  \\\n",
       "0     5    23     2     1     1     2     1     4     3     1  ...      6   \n",
       "\n",
       "   7447  7448  7449  7450  7451  7452  7453  7454  7455  \n",
       "0     1     1     2     2     1     1     1     1     1  \n",
       "\n",
       "[1 rows x 7456 columns]"
      ]
     },
     "execution_count": 73,
     "metadata": {},
     "output_type": "execute_result"
    }
   ],
   "source": [
    "# exercise: create a DataFrame of tokens with their counts.\n",
    "new_df = pd.DataFrame(np.sum(train_arr, axis=0))\n",
    "new_df.transpose()"
   ]
  },
  {
   "cell_type": "markdown",
   "metadata": {},
   "source": [
    "### Let's build the model with Naive Bayes Now\n",
    "\n",
    "http://scikit-learn.org/stable/modules/naive_bayes.html"
   ]
  },
  {
   "cell_type": "code",
   "execution_count": 77,
   "metadata": {
    "collapsed": false
   },
   "outputs": [
    {
     "data": {
      "text/plain": [
       "MultinomialNB(alpha=1.0, class_prior=None, fit_prior=True)"
      ]
     },
     "execution_count": 77,
     "metadata": {},
     "output_type": "execute_result"
    }
   ],
   "source": [
    "# train a Naive Bayes model using train_dtm\n",
    "from sklearn.naive_bayes import MultinomialNB\n",
    "\n",
    "nb = MultinomialNB()\n",
    "nb.fit(train_dtm, y_train)"
   ]
  },
  {
   "cell_type": "code",
   "execution_count": 78,
   "metadata": {
    "collapsed": false
   },
   "outputs": [
    {
     "data": {
      "text/plain": [
       "array(['ham', 'ham', 'ham', ..., 'ham', 'spam', 'ham'], \n",
       "      dtype='|S4')"
      ]
     },
     "execution_count": 78,
     "metadata": {},
     "output_type": "execute_result"
    }
   ],
   "source": [
    "# make predictions on test data using test_dtm\n",
    "preds = nb.predict(test_dtm)\n",
    "preds"
   ]
  },
  {
   "cell_type": "code",
   "execution_count": 79,
   "metadata": {
    "collapsed": false
   },
   "outputs": [
    {
     "name": "stdout",
     "output_type": "stream",
     "text": [
      "0.988513998564\n",
      "[[1203    5]\n",
      " [  11  174]]\n"
     ]
    }
   ],
   "source": [
    "# compare predictions to true labels\n",
    "from sklearn import metrics\n",
    "print metrics.accuracy_score(y_test, preds)\n",
    "print metrics.confusion_matrix(y_test, preds)\n",
    "\n",
    "# confusion matrix: http://en.wikipedia.org/wiki/Confusion_matrix\n",
    "# predicted not spam and want spam: 1203\n",
    "# predicted spam and was spam: 174\n",
    "# 5 and 11 are misses."
   ]
  },
  {
   "cell_type": "code",
   "execution_count": 80,
   "metadata": {
    "collapsed": false
   },
   "outputs": [
    {
     "data": {
      "text/plain": [
       "array([], dtype=object)"
      ]
     },
     "execution_count": 80,
     "metadata": {},
     "output_type": "execute_result"
    }
   ],
   "source": [
    "# exercise: show the message text for the false positives\n",
    "X_test[(y_test == 0) & (preds == 1)]"
   ]
  },
  {
   "cell_type": "code",
   "execution_count": 85,
   "metadata": {
    "collapsed": false
   },
   "outputs": [
    {
     "data": {
      "text/plain": [
       "array([], dtype=object)"
      ]
     },
     "execution_count": 85,
     "metadata": {},
     "output_type": "execute_result"
    }
   ],
   "source": [
    "# exercise: show the message text for the false negatives\n",
    "X_test[y_test > preds]\n",
    "# or\n",
    "X_test[(y_test == 1) & (preds == 0)]"
   ]
  },
  {
   "cell_type": "code",
   "execution_count": null,
   "metadata": {
    "collapsed": false
   },
   "outputs": [],
   "source": [
    "## USING ALL DATA AND CROSS-VALIDATION, run NB again\n"
   ]
  },
  {
   "cell_type": "code",
   "execution_count": 83,
   "metadata": {
    "collapsed": true
   },
   "outputs": [],
   "source": [
    "# Here is the condensed code needed for reference\n",
    "df = pd.DataFrame.from_csv(\"../data/SMSSpamCollection.tsv\",sep='\\t',header=0,index_col=None)\n",
    "X_train, X_test, y_train, y_test = train_test_split(df.msg, df.label, random_state=1)\n",
    "\n",
    "vect = CountVectorizer(decode_error = 'ignore')\n",
    "\n",
    "vect.fit(X_train)\n",
    "vect.get_feature_names()\n",
    "\n",
    "train_dtm = vect.transform(X_train)\n",
    "test_dtm = vect.transform(X_test)"
   ]
  },
  {
   "cell_type": "code",
   "execution_count": null,
   "metadata": {
    "collapsed": false
   },
   "outputs": [],
   "source": [
    "## EXERCISE: CALCULATE THE 'SPAMMINESS' OF EACH TOKEN\n",
    "\n",
    "# create separate DataFrames for ham and spam ( df_ham and df_spam)\n"
   ]
  },
  {
   "cell_type": "code",
   "execution_count": null,
   "metadata": {
    "collapsed": false
   },
   "outputs": [],
   "source": [
    "# learn the vocabulary of ALL messages and save it\n"
   ]
  },
  {
   "cell_type": "code",
   "execution_count": null,
   "metadata": {
    "collapsed": false
   },
   "outputs": [],
   "source": [
    "# create document-term matrix of ham, then convert to a regular array\n"
   ]
  },
  {
   "cell_type": "code",
   "execution_count": null,
   "metadata": {
    "collapsed": false
   },
   "outputs": [],
   "source": [
    "# create document-term matrix of spam, then convert to a regular array\n"
   ]
  },
  {
   "cell_type": "code",
   "execution_count": null,
   "metadata": {
    "collapsed": false
   },
   "outputs": [],
   "source": [
    "# count how many times EACH token appears across ALL messages in ham_arr\n"
   ]
  },
  {
   "cell_type": "code",
   "execution_count": null,
   "metadata": {
    "collapsed": false
   },
   "outputs": [],
   "source": [
    "# count how many times EACH token appears across ALL messages in spam_arr\n"
   ]
  },
  {
   "cell_type": "code",
   "execution_count": null,
   "metadata": {
    "collapsed": false
   },
   "outputs": [],
   "source": [
    "# create a DataFrame of tokens with their separate ham and spam counts\n"
   ]
  },
  {
   "cell_type": "code",
   "execution_count": null,
   "metadata": {
    "collapsed": false
   },
   "outputs": [],
   "source": [
    "# add one to ham counts and spam counts so that ratio calculations (below) make more sensse\n"
   ]
  },
  {
   "cell_type": "code",
   "execution_count": null,
   "metadata": {
    "collapsed": false
   },
   "outputs": [],
   "source": [
    "# calculate ratio of spam-to-ham for each token\n"
   ]
  },
  {
   "cell_type": "code",
   "execution_count": null,
   "metadata": {
    "collapsed": false
   },
   "outputs": [],
   "source": [
    "# advanced: implement your own naive bayes classifier\n"
   ]
  }
 ],
 "metadata": {
  "kernelspec": {
   "display_name": "Python 2",
   "language": "python",
   "name": "python2"
  },
  "language_info": {
   "codemirror_mode": {
    "name": "ipython",
    "version": 2
   },
   "file_extension": ".py",
   "mimetype": "text/x-python",
   "name": "python",
   "nbconvert_exporter": "python",
   "pygments_lexer": "ipython2",
   "version": "2.7.9"
  }
 },
 "nbformat": 4,
 "nbformat_minor": 0
}
